{
 "cells": [
  {
   "cell_type": "markdown",
   "metadata": {},
   "source": [
    "* This Project is initiated for a company called IFS that provides apartment services across various locations, geographically \n",
    "spread across thousands of square kilometers. This company provides apartment services such as Plumbing, Electrical, \n",
    "Air-conditioning, Masonry and Telecom works. They have a team of Field Service engineers that are located in various places \n",
    "in the geography and have remote access to the central office to get information about day to day service schedules. These \n",
    "engineers or technicians have electronic devices like tabs or laptops, which they use to get the daily service information. \n",
    "With this information to go to the customer sites carry out the necessary services and update the completion information from \n",
    "their devices back to the office. These technicians get their parts, accessories and others required for their activities via \n",
    "courier services. They can also get in touch with the central office for any troubleshooting help or coordination of any OEM help.\n",
    "* Now they have competition, the new company is promising aggressive service clauses such as very difficult to achieve equipment \n",
    "downtime, and longer life for older equipment to quote just some of them. While wondering if these are realistic and achievable, \n",
    "IFS does not want to take the new comers for granted, they want to understand if their metrics are comparable and even possible \n",
    "to exceed. For this the company needs a thorough analysis of performance information."
   ]
  },
  {
   "cell_type": "code",
   "execution_count": 1,
   "metadata": {},
   "outputs": [],
   "source": [
    "import pandas as pd\n",
    "import numpy as np\n",
    "import matplotlib.pyplot as plt\n",
    "from matplotlib import style\n",
    "import seaborn as sns\n",
    "from sklearn import preprocessing\n",
    "\n",
    "%matplotlib inline\n",
    "\n"
   ]
  },
  {
   "cell_type": "code",
   "execution_count": 2,
   "metadata": {},
   "outputs": [],
   "source": [
    "df = pd.read_csv('C:/Users/Acer/Desktop/IFS Data/ifs_data.csv', encoding = 'ISO-8859-1')"
   ]
  },
  {
   "cell_type": "code",
   "execution_count": 3,
   "metadata": {},
   "outputs": [
    {
     "data": {
      "text/html": [
       "<div>\n",
       "<style scoped>\n",
       "    .dataframe tbody tr th:only-of-type {\n",
       "        vertical-align: middle;\n",
       "    }\n",
       "\n",
       "    .dataframe tbody tr th {\n",
       "        vertical-align: top;\n",
       "    }\n",
       "\n",
       "    .dataframe thead th {\n",
       "        text-align: right;\n",
       "    }\n",
       "</style>\n",
       "<table border=\"1\" class=\"dataframe\">\n",
       "  <thead>\n",
       "    <tr style=\"text-align: right;\">\n",
       "      <th></th>\n",
       "      <th>Company Code</th>\n",
       "      <th>Service Work Order Number</th>\n",
       "      <th>Customer Name</th>\n",
       "      <th>Location Address 1</th>\n",
       "      <th>Location Address 2</th>\n",
       "      <th>ZIP Code</th>\n",
       "      <th>Customer Phone Number</th>\n",
       "      <th>Reported Date/Time</th>\n",
       "      <th>Planned Start Date/Time</th>\n",
       "      <th>Actual Start Date/Time</th>\n",
       "      <th>...</th>\n",
       "      <th>Solution Statement</th>\n",
       "      <th>Service Technician</th>\n",
       "      <th>Office Support Contact</th>\n",
       "      <th>Currency</th>\n",
       "      <th>Order Amount</th>\n",
       "      <th>Contract Discount</th>\n",
       "      <th>Service tax Amount</th>\n",
       "      <th>Bill No</th>\n",
       "      <th>Bill Date/Time</th>\n",
       "      <th>Service Contract</th>\n",
       "    </tr>\n",
       "  </thead>\n",
       "  <tbody>\n",
       "    <tr>\n",
       "      <th>0</th>\n",
       "      <td>I-1</td>\n",
       "      <td>A-1001</td>\n",
       "      <td>Wesley Mason</td>\n",
       "      <td>252 Jifina Avenue</td>\n",
       "      <td>Sejwegca</td>\n",
       "      <td>R6Z 4I1</td>\n",
       "      <td>(444) 965-4216</td>\n",
       "      <td>2018-09-18T08:47:54</td>\n",
       "      <td>2018-09-19T11:48:54</td>\n",
       "      <td>2018-09-19T11:48:54</td>\n",
       "      <td>...</td>\n",
       "      <td>our engineer will fix it</td>\n",
       "      <td>Jack</td>\n",
       "      <td>877-586-3224</td>\n",
       "      <td>$-</td>\n",
       "      <td>1419</td>\n",
       "      <td>142</td>\n",
       "      <td>128</td>\n",
       "      <td>IFS-100001</td>\n",
       "      <td>2018-09-22T12:36:43</td>\n",
       "      <td>414</td>\n",
       "    </tr>\n",
       "    <tr>\n",
       "      <th>1</th>\n",
       "      <td>I-1</td>\n",
       "      <td>A-1002</td>\n",
       "      <td>Eula Hicks</td>\n",
       "      <td>490 Cinu Parkway</td>\n",
       "      <td>Jipuri</td>\n",
       "      <td>A6Q 1S9</td>\n",
       "      <td>(636) 481-4722</td>\n",
       "      <td>2018-09-27T09:03:56</td>\n",
       "      <td>2018-09-28T09:58:23</td>\n",
       "      <td>2018-09-28T09:58:23</td>\n",
       "      <td>...</td>\n",
       "      <td>our engineer will fix it</td>\n",
       "      <td>John</td>\n",
       "      <td>877-586-3224</td>\n",
       "      <td>$-</td>\n",
       "      <td>1027</td>\n",
       "      <td>103</td>\n",
       "      <td>92</td>\n",
       "      <td>IFS-100002</td>\n",
       "      <td>2018-10-04T12:24:50</td>\n",
       "      <td>415</td>\n",
       "    </tr>\n",
       "    <tr>\n",
       "      <th>2</th>\n",
       "      <td>I-1</td>\n",
       "      <td>A-1003</td>\n",
       "      <td>Johnny Watts</td>\n",
       "      <td>931 Keheg Circle</td>\n",
       "      <td>Uhezufen</td>\n",
       "      <td>L8G 2U8</td>\n",
       "      <td>(416) 917-2514</td>\n",
       "      <td>2018-09-27T07:16:17</td>\n",
       "      <td>2018-09-28T09:59:16</td>\n",
       "      <td>2018-09-28T09:59:16</td>\n",
       "      <td>...</td>\n",
       "      <td>our engineer will fix it</td>\n",
       "      <td>John</td>\n",
       "      <td>877-586-3224</td>\n",
       "      <td>$-</td>\n",
       "      <td>2898</td>\n",
       "      <td>290</td>\n",
       "      <td>261</td>\n",
       "      <td>IFS-100003</td>\n",
       "      <td>2018-10-02T09:57:55</td>\n",
       "      <td>416</td>\n",
       "    </tr>\n",
       "    <tr>\n",
       "      <th>3</th>\n",
       "      <td>I-1</td>\n",
       "      <td>A-1004</td>\n",
       "      <td>Eugene Blair</td>\n",
       "      <td>799 Kofku Lane</td>\n",
       "      <td>Heisla</td>\n",
       "      <td>R2J 1V2</td>\n",
       "      <td>(969) 284-5035</td>\n",
       "      <td>2018-09-27T08:40:41</td>\n",
       "      <td>2018-09-28T10:04:22</td>\n",
       "      <td>2018-09-28T10:04:22</td>\n",
       "      <td>...</td>\n",
       "      <td>our engineer will fix it</td>\n",
       "      <td>Brad</td>\n",
       "      <td>877-586-3224</td>\n",
       "      <td>$-</td>\n",
       "      <td>1388</td>\n",
       "      <td>139</td>\n",
       "      <td>125</td>\n",
       "      <td>IFS-100004</td>\n",
       "      <td>2018-10-02T13:30:18</td>\n",
       "      <td>417</td>\n",
       "    </tr>\n",
       "    <tr>\n",
       "      <th>4</th>\n",
       "      <td>I-1</td>\n",
       "      <td>A-1005</td>\n",
       "      <td>Floyd Willis</td>\n",
       "      <td>1898 Hidge Parkway</td>\n",
       "      <td>Vijipab</td>\n",
       "      <td>T1V 6Z2</td>\n",
       "      <td>(809) 930-1785</td>\n",
       "      <td>2018-09-27T08:33:28</td>\n",
       "      <td>2018-09-28T10:12:44</td>\n",
       "      <td>2018-09-28T10:12:44</td>\n",
       "      <td>...</td>\n",
       "      <td>our engineer will fix it</td>\n",
       "      <td>Brad</td>\n",
       "      <td>877-586-3224</td>\n",
       "      <td>$-</td>\n",
       "      <td>746</td>\n",
       "      <td>75</td>\n",
       "      <td>67</td>\n",
       "      <td>IFS-100005</td>\n",
       "      <td>2018-10-04T10:15:10</td>\n",
       "      <td>418</td>\n",
       "    </tr>\n",
       "  </tbody>\n",
       "</table>\n",
       "<p>5 rows × 25 columns</p>\n",
       "</div>"
      ],
      "text/plain": [
       "  Company Code Service Work Order Number  Customer Name  Location Address 1  \\\n",
       "0          I-1                     A-1001  Wesley Mason   252 Jifina Avenue   \n",
       "1          I-1                     A-1002    Eula Hicks    490 Cinu Parkway   \n",
       "2          I-1                     A-1003  Johnny Watts    931 Keheg Circle   \n",
       "3          I-1                     A-1004  Eugene Blair      799 Kofku Lane   \n",
       "4          I-1                     A-1005  Floyd Willis  1898 Hidge Parkway   \n",
       "\n",
       "  Location Address 2 ZIP Code Customer Phone Number   Reported Date/Time  \\\n",
       "0           Sejwegca  R6Z 4I1        (444) 965-4216  2018-09-18T08:47:54   \n",
       "1             Jipuri  A6Q 1S9        (636) 481-4722  2018-09-27T09:03:56   \n",
       "2           Uhezufen  L8G 2U8        (416) 917-2514  2018-09-27T07:16:17   \n",
       "3             Heisla  R2J 1V2        (969) 284-5035  2018-09-27T08:40:41   \n",
       "4            Vijipab  T1V 6Z2        (809) 930-1785  2018-09-27T08:33:28   \n",
       "\n",
       "  Planned Start Date/Time Actual Start Date/Time        ...         \\\n",
       "0     2018-09-19T11:48:54    2018-09-19T11:48:54        ...          \n",
       "1     2018-09-28T09:58:23    2018-09-28T09:58:23        ...          \n",
       "2     2018-09-28T09:59:16    2018-09-28T09:59:16        ...          \n",
       "3     2018-09-28T10:04:22    2018-09-28T10:04:22        ...          \n",
       "4     2018-09-28T10:12:44    2018-09-28T10:12:44        ...          \n",
       "\n",
       "         Solution Statement Service Technician Office Support Contact  \\\n",
       "0  our engineer will fix it               Jack           877-586-3224   \n",
       "1  our engineer will fix it               John           877-586-3224   \n",
       "2  our engineer will fix it               John           877-586-3224   \n",
       "3  our engineer will fix it               Brad           877-586-3224   \n",
       "4  our engineer will fix it               Brad           877-586-3224   \n",
       "\n",
       "  Currency Order Amount Contract Discount Service tax Amount     Bill No  \\\n",
       "0    $-            1419               142                128  IFS-100001   \n",
       "1    $-            1027               103                 92  IFS-100002   \n",
       "2    $-            2898               290                261  IFS-100003   \n",
       "3    $-            1388               139                125  IFS-100004   \n",
       "4    $-             746                75                 67  IFS-100005   \n",
       "\n",
       "        Bill Date/Time  Service Contract  \n",
       "0  2018-09-22T12:36:43               414  \n",
       "1  2018-10-04T12:24:50               415  \n",
       "2  2018-10-02T09:57:55               416  \n",
       "3  2018-10-02T13:30:18               417  \n",
       "4  2018-10-04T10:15:10               418  \n",
       "\n",
       "[5 rows x 25 columns]"
      ]
     },
     "execution_count": 3,
     "metadata": {},
     "output_type": "execute_result"
    }
   ],
   "source": [
    "df.head()"
   ]
  },
  {
   "cell_type": "code",
   "execution_count": 4,
   "metadata": {},
   "outputs": [
    {
     "data": {
      "text/plain": [
       "(20000, 25)"
      ]
     },
     "execution_count": 4,
     "metadata": {},
     "output_type": "execute_result"
    }
   ],
   "source": [
    "df.shape"
   ]
  },
  {
   "cell_type": "code",
   "execution_count": 5,
   "metadata": {},
   "outputs": [],
   "source": [
    "# change the column names\n",
    "df.rename(index=str, columns={'Company Code': 'com_code' ,  'Bill No':'bill_no',\n",
    "                              'Customer Name' : 'cust_name' , 'Location Address 1' : 'loc_add',\n",
    "                              'Location Address 2' : 'city' , 'ZIP Code' : 'zip_code',\n",
    "                              'Customer Phone Number' : 'cust_phn_no' , 'Reported Date/Time' : 'report_dt',\n",
    "                              'Planned Start Date/Time' : 'plan_strt_dt' , 'Actual Start Date/Time':'actual_strt_dt',\n",
    "                              'Planned Finish Date/Time':'plan_fnsh_dt' , 'Actual Finish Date/Time':'actual_fnsh_dt',\n",
    "                              'Order Description':'order_desc' , 'Asset/Equipment Details':'asset_req',\n",
    "                              'Problem Statement':'prob_stmnt' , 'Solution Statement':'sol_stmnt',\n",
    "                              'Service Technician':'serv_tech_head' , 'Office Support Contact':'office_phn_no',\n",
    "                              'Currency':'currency' , 'Order Amount':'order_amt',\n",
    "                              'Contract Discount':'contract_disc' , 'Service tax Amount':'serv_tax_amt',\n",
    "                              'Bill Date/Time':'bill_dt' , 'Service Contract':'serv_contract'}, inplace=True)"
   ]
  },
  {
   "cell_type": "code",
   "execution_count": 6,
   "metadata": {},
   "outputs": [
    {
     "data": {
      "text/html": [
       "<div>\n",
       "<style scoped>\n",
       "    .dataframe tbody tr th:only-of-type {\n",
       "        vertical-align: middle;\n",
       "    }\n",
       "\n",
       "    .dataframe tbody tr th {\n",
       "        vertical-align: top;\n",
       "    }\n",
       "\n",
       "    .dataframe thead th {\n",
       "        text-align: right;\n",
       "    }\n",
       "</style>\n",
       "<table border=\"1\" class=\"dataframe\">\n",
       "  <thead>\n",
       "    <tr style=\"text-align: right;\">\n",
       "      <th></th>\n",
       "      <th>com_code</th>\n",
       "      <th>Service Work Order Number</th>\n",
       "      <th>cust_name</th>\n",
       "      <th>loc_add</th>\n",
       "      <th>city</th>\n",
       "      <th>zip_code</th>\n",
       "      <th>cust_phn_no</th>\n",
       "      <th>report_dt</th>\n",
       "      <th>plan_strt_dt</th>\n",
       "      <th>actual_strt_dt</th>\n",
       "      <th>...</th>\n",
       "      <th>sol_stmnt</th>\n",
       "      <th>serv_tech_head</th>\n",
       "      <th>office_phn_no</th>\n",
       "      <th>currency</th>\n",
       "      <th>order_amt</th>\n",
       "      <th>contract_disc</th>\n",
       "      <th>serv_tax_amt</th>\n",
       "      <th>bill_no</th>\n",
       "      <th>bill_dt</th>\n",
       "      <th>serv_contract</th>\n",
       "    </tr>\n",
       "  </thead>\n",
       "  <tbody>\n",
       "    <tr>\n",
       "      <th>0</th>\n",
       "      <td>I-1</td>\n",
       "      <td>A-1001</td>\n",
       "      <td>Wesley Mason</td>\n",
       "      <td>252 Jifina Avenue</td>\n",
       "      <td>Sejwegca</td>\n",
       "      <td>R6Z 4I1</td>\n",
       "      <td>(444) 965-4216</td>\n",
       "      <td>2018-09-18T08:47:54</td>\n",
       "      <td>2018-09-19T11:48:54</td>\n",
       "      <td>2018-09-19T11:48:54</td>\n",
       "      <td>...</td>\n",
       "      <td>our engineer will fix it</td>\n",
       "      <td>Jack</td>\n",
       "      <td>877-586-3224</td>\n",
       "      <td>$-</td>\n",
       "      <td>1419</td>\n",
       "      <td>142</td>\n",
       "      <td>128</td>\n",
       "      <td>IFS-100001</td>\n",
       "      <td>2018-09-22T12:36:43</td>\n",
       "      <td>414</td>\n",
       "    </tr>\n",
       "    <tr>\n",
       "      <th>1</th>\n",
       "      <td>I-1</td>\n",
       "      <td>A-1002</td>\n",
       "      <td>Eula Hicks</td>\n",
       "      <td>490 Cinu Parkway</td>\n",
       "      <td>Jipuri</td>\n",
       "      <td>A6Q 1S9</td>\n",
       "      <td>(636) 481-4722</td>\n",
       "      <td>2018-09-27T09:03:56</td>\n",
       "      <td>2018-09-28T09:58:23</td>\n",
       "      <td>2018-09-28T09:58:23</td>\n",
       "      <td>...</td>\n",
       "      <td>our engineer will fix it</td>\n",
       "      <td>John</td>\n",
       "      <td>877-586-3224</td>\n",
       "      <td>$-</td>\n",
       "      <td>1027</td>\n",
       "      <td>103</td>\n",
       "      <td>92</td>\n",
       "      <td>IFS-100002</td>\n",
       "      <td>2018-10-04T12:24:50</td>\n",
       "      <td>415</td>\n",
       "    </tr>\n",
       "    <tr>\n",
       "      <th>2</th>\n",
       "      <td>I-1</td>\n",
       "      <td>A-1003</td>\n",
       "      <td>Johnny Watts</td>\n",
       "      <td>931 Keheg Circle</td>\n",
       "      <td>Uhezufen</td>\n",
       "      <td>L8G 2U8</td>\n",
       "      <td>(416) 917-2514</td>\n",
       "      <td>2018-09-27T07:16:17</td>\n",
       "      <td>2018-09-28T09:59:16</td>\n",
       "      <td>2018-09-28T09:59:16</td>\n",
       "      <td>...</td>\n",
       "      <td>our engineer will fix it</td>\n",
       "      <td>John</td>\n",
       "      <td>877-586-3224</td>\n",
       "      <td>$-</td>\n",
       "      <td>2898</td>\n",
       "      <td>290</td>\n",
       "      <td>261</td>\n",
       "      <td>IFS-100003</td>\n",
       "      <td>2018-10-02T09:57:55</td>\n",
       "      <td>416</td>\n",
       "    </tr>\n",
       "    <tr>\n",
       "      <th>3</th>\n",
       "      <td>I-1</td>\n",
       "      <td>A-1004</td>\n",
       "      <td>Eugene Blair</td>\n",
       "      <td>799 Kofku Lane</td>\n",
       "      <td>Heisla</td>\n",
       "      <td>R2J 1V2</td>\n",
       "      <td>(969) 284-5035</td>\n",
       "      <td>2018-09-27T08:40:41</td>\n",
       "      <td>2018-09-28T10:04:22</td>\n",
       "      <td>2018-09-28T10:04:22</td>\n",
       "      <td>...</td>\n",
       "      <td>our engineer will fix it</td>\n",
       "      <td>Brad</td>\n",
       "      <td>877-586-3224</td>\n",
       "      <td>$-</td>\n",
       "      <td>1388</td>\n",
       "      <td>139</td>\n",
       "      <td>125</td>\n",
       "      <td>IFS-100004</td>\n",
       "      <td>2018-10-02T13:30:18</td>\n",
       "      <td>417</td>\n",
       "    </tr>\n",
       "    <tr>\n",
       "      <th>4</th>\n",
       "      <td>I-1</td>\n",
       "      <td>A-1005</td>\n",
       "      <td>Floyd Willis</td>\n",
       "      <td>1898 Hidge Parkway</td>\n",
       "      <td>Vijipab</td>\n",
       "      <td>T1V 6Z2</td>\n",
       "      <td>(809) 930-1785</td>\n",
       "      <td>2018-09-27T08:33:28</td>\n",
       "      <td>2018-09-28T10:12:44</td>\n",
       "      <td>2018-09-28T10:12:44</td>\n",
       "      <td>...</td>\n",
       "      <td>our engineer will fix it</td>\n",
       "      <td>Brad</td>\n",
       "      <td>877-586-3224</td>\n",
       "      <td>$-</td>\n",
       "      <td>746</td>\n",
       "      <td>75</td>\n",
       "      <td>67</td>\n",
       "      <td>IFS-100005</td>\n",
       "      <td>2018-10-04T10:15:10</td>\n",
       "      <td>418</td>\n",
       "    </tr>\n",
       "  </tbody>\n",
       "</table>\n",
       "<p>5 rows × 25 columns</p>\n",
       "</div>"
      ],
      "text/plain": [
       "  com_code Service Work Order Number      cust_name             loc_add  \\\n",
       "0      I-1                     A-1001  Wesley Mason   252 Jifina Avenue   \n",
       "1      I-1                     A-1002    Eula Hicks    490 Cinu Parkway   \n",
       "2      I-1                     A-1003  Johnny Watts    931 Keheg Circle   \n",
       "3      I-1                     A-1004  Eugene Blair      799 Kofku Lane   \n",
       "4      I-1                     A-1005  Floyd Willis  1898 Hidge Parkway   \n",
       "\n",
       "       city zip_code     cust_phn_no            report_dt  \\\n",
       "0  Sejwegca  R6Z 4I1  (444) 965-4216  2018-09-18T08:47:54   \n",
       "1    Jipuri  A6Q 1S9  (636) 481-4722  2018-09-27T09:03:56   \n",
       "2  Uhezufen  L8G 2U8  (416) 917-2514  2018-09-27T07:16:17   \n",
       "3    Heisla  R2J 1V2  (969) 284-5035  2018-09-27T08:40:41   \n",
       "4   Vijipab  T1V 6Z2  (809) 930-1785  2018-09-27T08:33:28   \n",
       "\n",
       "          plan_strt_dt       actual_strt_dt      ...        \\\n",
       "0  2018-09-19T11:48:54  2018-09-19T11:48:54      ...         \n",
       "1  2018-09-28T09:58:23  2018-09-28T09:58:23      ...         \n",
       "2  2018-09-28T09:59:16  2018-09-28T09:59:16      ...         \n",
       "3  2018-09-28T10:04:22  2018-09-28T10:04:22      ...         \n",
       "4  2018-09-28T10:12:44  2018-09-28T10:12:44      ...         \n",
       "\n",
       "                  sol_stmnt serv_tech_head office_phn_no currency order_amt  \\\n",
       "0  our engineer will fix it           Jack  877-586-3224    $-         1419   \n",
       "1  our engineer will fix it           John  877-586-3224    $-         1027   \n",
       "2  our engineer will fix it           John  877-586-3224    $-         2898   \n",
       "3  our engineer will fix it           Brad  877-586-3224    $-         1388   \n",
       "4  our engineer will fix it           Brad  877-586-3224    $-          746   \n",
       "\n",
       "  contract_disc serv_tax_amt     bill_no              bill_dt  serv_contract  \n",
       "0           142          128  IFS-100001  2018-09-22T12:36:43            414  \n",
       "1           103           92  IFS-100002  2018-10-04T12:24:50            415  \n",
       "2           290          261  IFS-100003  2018-10-02T09:57:55            416  \n",
       "3           139          125  IFS-100004  2018-10-02T13:30:18            417  \n",
       "4            75           67  IFS-100005  2018-10-04T10:15:10            418  \n",
       "\n",
       "[5 rows x 25 columns]"
      ]
     },
     "execution_count": 6,
     "metadata": {},
     "output_type": "execute_result"
    }
   ],
   "source": [
    "df.head()"
   ]
  },
  {
   "cell_type": "markdown",
   "metadata": {},
   "source": [
    "## Data Cleaning"
   ]
  },
  {
   "cell_type": "code",
   "execution_count": 7,
   "metadata": {},
   "outputs": [
    {
     "name": "stdout",
     "output_type": "stream",
     "text": [
      "<class 'pandas.core.frame.DataFrame'>\n",
      "Index: 20000 entries, 0 to 19999\n",
      "Data columns (total 25 columns):\n",
      "com_code                      20000 non-null object\n",
      "Service Work Order Number     20000 non-null object\n",
      "cust_name                     20000 non-null object\n",
      "loc_add                       20000 non-null object\n",
      "city                          20000 non-null object\n",
      "zip_code                      20000 non-null object\n",
      "cust_phn_no                   20000 non-null object\n",
      "report_dt                     20000 non-null object\n",
      "plan_strt_dt                  20000 non-null object\n",
      "actual_strt_dt                20000 non-null object\n",
      "plan_fnsh_dt                  20000 non-null object\n",
      "actual_fnsh_dt                20000 non-null object\n",
      "order_desc                    20000 non-null object\n",
      "asset_req                     20000 non-null object\n",
      "prob_stmnt                    20000 non-null object\n",
      "sol_stmnt                     20000 non-null object\n",
      "serv_tech_head                20000 non-null object\n",
      "office_phn_no                 20000 non-null object\n",
      "currency                      20000 non-null object\n",
      "order_amt                     20000 non-null int64\n",
      "contract_disc                 20000 non-null int64\n",
      "serv_tax_amt                  20000 non-null int64\n",
      "bill_no                       20000 non-null object\n",
      "bill_dt                       20000 non-null object\n",
      "serv_contract                 20000 non-null int64\n",
      "dtypes: int64(4), object(21)\n",
      "memory usage: 4.0+ MB\n"
     ]
    }
   ],
   "source": [
    "df.info()"
   ]
  },
  {
   "cell_type": "markdown",
   "metadata": {},
   "source": [
    "## Check missing values for each column"
   ]
  },
  {
   "cell_type": "code",
   "execution_count": 8,
   "metadata": {},
   "outputs": [
    {
     "data": {
      "text/plain": [
       "serv_contract                 0\n",
       "actual_fnsh_dt                0\n",
       "Service Work Order Number     0\n",
       "cust_name                     0\n",
       "loc_add                       0\n",
       "city                          0\n",
       "zip_code                      0\n",
       "cust_phn_no                   0\n",
       "report_dt                     0\n",
       "plan_strt_dt                  0\n",
       "actual_strt_dt                0\n",
       "plan_fnsh_dt                  0\n",
       "order_desc                    0\n",
       "bill_dt                       0\n",
       "asset_req                     0\n",
       "prob_stmnt                    0\n",
       "sol_stmnt                     0\n",
       "serv_tech_head                0\n",
       "office_phn_no                 0\n",
       "currency                      0\n",
       "order_amt                     0\n",
       "contract_disc                 0\n",
       "serv_tax_amt                  0\n",
       "bill_no                       0\n",
       "com_code                      0\n",
       "dtype: int64"
      ]
     },
     "execution_count": 8,
     "metadata": {},
     "output_type": "execute_result"
    }
   ],
   "source": [
    "# check missing values for each column \n",
    "df.isnull().sum().sort_values(ascending=False)"
   ]
  },
  {
   "cell_type": "code",
   "execution_count": 9,
   "metadata": {},
   "outputs": [
    {
     "data": {
      "text/html": [
       "<div>\n",
       "<style scoped>\n",
       "    .dataframe tbody tr th:only-of-type {\n",
       "        vertical-align: middle;\n",
       "    }\n",
       "\n",
       "    .dataframe tbody tr th {\n",
       "        vertical-align: top;\n",
       "    }\n",
       "\n",
       "    .dataframe thead th {\n",
       "        text-align: right;\n",
       "    }\n",
       "</style>\n",
       "<table border=\"1\" class=\"dataframe\">\n",
       "  <thead>\n",
       "    <tr style=\"text-align: right;\">\n",
       "      <th></th>\n",
       "      <th>com_code</th>\n",
       "      <th>Service Work Order Number</th>\n",
       "      <th>cust_name</th>\n",
       "      <th>loc_add</th>\n",
       "      <th>city</th>\n",
       "      <th>zip_code</th>\n",
       "      <th>cust_phn_no</th>\n",
       "      <th>report_dt</th>\n",
       "      <th>plan_strt_dt</th>\n",
       "      <th>actual_strt_dt</th>\n",
       "      <th>...</th>\n",
       "      <th>sol_stmnt</th>\n",
       "      <th>serv_tech_head</th>\n",
       "      <th>office_phn_no</th>\n",
       "      <th>currency</th>\n",
       "      <th>order_amt</th>\n",
       "      <th>contract_disc</th>\n",
       "      <th>serv_tax_amt</th>\n",
       "      <th>bill_no</th>\n",
       "      <th>bill_dt</th>\n",
       "      <th>serv_contract</th>\n",
       "    </tr>\n",
       "  </thead>\n",
       "  <tbody>\n",
       "  </tbody>\n",
       "</table>\n",
       "<p>0 rows × 25 columns</p>\n",
       "</div>"
      ],
      "text/plain": [
       "Empty DataFrame\n",
       "Columns: [com_code, Service Work Order Number , cust_name, loc_add, city, zip_code, cust_phn_no, report_dt, plan_strt_dt, actual_strt_dt, plan_fnsh_dt, actual_fnsh_dt, order_desc, asset_req, prob_stmnt, sol_stmnt, serv_tech_head, office_phn_no, currency, order_amt, contract_disc, serv_tax_amt, bill_no, bill_dt, serv_contract]\n",
       "Index: []\n",
       "\n",
       "[0 rows x 25 columns]"
      ]
     },
     "execution_count": 9,
     "metadata": {},
     "output_type": "execute_result"
    }
   ],
   "source": [
    "# check out the rows with missing values\n",
    "df[df.isnull().any(axis=1)].head()"
   ]
  },
  {
   "cell_type": "code",
   "execution_count": 10,
   "metadata": {},
   "outputs": [],
   "source": [
    "df['report_dt'] = pd.to_datetime(df['report_dt'])\n",
    "df['plan_strt_dt'] = pd.to_datetime(df['plan_strt_dt'])\n",
    "df['actual_strt_dt'] = pd.to_datetime(df['actual_strt_dt'])\n",
    "df['plan_fnsh_dt'] = pd.to_datetime(df['plan_fnsh_dt'])\n",
    "df['actual_fnsh_dt'] = pd.to_datetime(df['actual_fnsh_dt'])\n",
    "df['bill_dt'] = pd.to_datetime(df['bill_dt'])"
   ]
  },
  {
   "cell_type": "code",
   "execution_count": 11,
   "metadata": {},
   "outputs": [
    {
     "name": "stdout",
     "output_type": "stream",
     "text": [
      "<class 'pandas.core.frame.DataFrame'>\n",
      "Index: 20000 entries, 0 to 19999\n",
      "Data columns (total 25 columns):\n",
      "com_code                      20000 non-null object\n",
      "Service Work Order Number     20000 non-null object\n",
      "cust_name                     20000 non-null object\n",
      "loc_add                       20000 non-null object\n",
      "city                          20000 non-null object\n",
      "zip_code                      20000 non-null object\n",
      "cust_phn_no                   20000 non-null object\n",
      "report_dt                     20000 non-null datetime64[ns]\n",
      "plan_strt_dt                  20000 non-null datetime64[ns]\n",
      "actual_strt_dt                20000 non-null datetime64[ns]\n",
      "plan_fnsh_dt                  20000 non-null datetime64[ns]\n",
      "actual_fnsh_dt                20000 non-null datetime64[ns]\n",
      "order_desc                    20000 non-null object\n",
      "asset_req                     20000 non-null object\n",
      "prob_stmnt                    20000 non-null object\n",
      "sol_stmnt                     20000 non-null object\n",
      "serv_tech_head                20000 non-null object\n",
      "office_phn_no                 20000 non-null object\n",
      "currency                      20000 non-null object\n",
      "order_amt                     20000 non-null int64\n",
      "contract_disc                 20000 non-null int64\n",
      "serv_tax_amt                  20000 non-null int64\n",
      "bill_no                       20000 non-null object\n",
      "bill_dt                       20000 non-null datetime64[ns]\n",
      "serv_contract                 20000 non-null int64\n",
      "dtypes: datetime64[ns](6), int64(4), object(15)\n",
      "memory usage: 4.0+ MB\n"
     ]
    }
   ],
   "source": [
    "df.info()"
   ]
  },
  {
   "cell_type": "code",
   "execution_count": 12,
   "metadata": {},
   "outputs": [],
   "source": [
    "df['order_amt'] = df['order_amt'].astype(np.float64)\n",
    "df['contract_disc'] = df['contract_disc'].astype(np.float64)\n",
    "df['serv_tax_amt'] = df['serv_tax_amt'].astype(np.float64)"
   ]
  },
  {
   "cell_type": "code",
   "execution_count": 13,
   "metadata": {},
   "outputs": [
    {
     "name": "stdout",
     "output_type": "stream",
     "text": [
      "<class 'pandas.core.frame.DataFrame'>\n",
      "Index: 20000 entries, 0 to 19999\n",
      "Data columns (total 25 columns):\n",
      "com_code                      20000 non-null object\n",
      "Service Work Order Number     20000 non-null object\n",
      "cust_name                     20000 non-null object\n",
      "loc_add                       20000 non-null object\n",
      "city                          20000 non-null object\n",
      "zip_code                      20000 non-null object\n",
      "cust_phn_no                   20000 non-null object\n",
      "report_dt                     20000 non-null datetime64[ns]\n",
      "plan_strt_dt                  20000 non-null datetime64[ns]\n",
      "actual_strt_dt                20000 non-null datetime64[ns]\n",
      "plan_fnsh_dt                  20000 non-null datetime64[ns]\n",
      "actual_fnsh_dt                20000 non-null datetime64[ns]\n",
      "order_desc                    20000 non-null object\n",
      "asset_req                     20000 non-null object\n",
      "prob_stmnt                    20000 non-null object\n",
      "sol_stmnt                     20000 non-null object\n",
      "serv_tech_head                20000 non-null object\n",
      "office_phn_no                 20000 non-null object\n",
      "currency                      20000 non-null object\n",
      "order_amt                     20000 non-null float64\n",
      "contract_disc                 20000 non-null float64\n",
      "serv_tax_amt                  20000 non-null float64\n",
      "bill_no                       20000 non-null object\n",
      "bill_dt                       20000 non-null datetime64[ns]\n",
      "serv_contract                 20000 non-null int64\n",
      "dtypes: datetime64[ns](6), float64(3), int64(1), object(15)\n",
      "memory usage: 4.0+ MB\n"
     ]
    }
   ],
   "source": [
    "df.info()"
   ]
  },
  {
   "cell_type": "code",
   "execution_count": 14,
   "metadata": {},
   "outputs": [
    {
     "data": {
      "text/html": [
       "<div>\n",
       "<style scoped>\n",
       "    .dataframe tbody tr th:only-of-type {\n",
       "        vertical-align: middle;\n",
       "    }\n",
       "\n",
       "    .dataframe tbody tr th {\n",
       "        vertical-align: top;\n",
       "    }\n",
       "\n",
       "    .dataframe thead th {\n",
       "        text-align: right;\n",
       "    }\n",
       "</style>\n",
       "<table border=\"1\" class=\"dataframe\">\n",
       "  <thead>\n",
       "    <tr style=\"text-align: right;\">\n",
       "      <th></th>\n",
       "      <th>com_code</th>\n",
       "      <th>Service Work Order Number</th>\n",
       "      <th>cust_name</th>\n",
       "      <th>loc_add</th>\n",
       "      <th>city</th>\n",
       "      <th>zip_code</th>\n",
       "      <th>cust_phn_no</th>\n",
       "      <th>report_dt</th>\n",
       "      <th>plan_strt_dt</th>\n",
       "      <th>actual_strt_dt</th>\n",
       "      <th>...</th>\n",
       "      <th>sol_stmnt</th>\n",
       "      <th>serv_tech_head</th>\n",
       "      <th>office_phn_no</th>\n",
       "      <th>currency</th>\n",
       "      <th>order_amt</th>\n",
       "      <th>contract_disc</th>\n",
       "      <th>serv_tax_amt</th>\n",
       "      <th>bill_no</th>\n",
       "      <th>bill_dt</th>\n",
       "      <th>serv_contract</th>\n",
       "    </tr>\n",
       "  </thead>\n",
       "  <tbody>\n",
       "    <tr>\n",
       "      <th>0</th>\n",
       "      <td>I-1</td>\n",
       "      <td>A-1001</td>\n",
       "      <td>Wesley Mason</td>\n",
       "      <td>252 Jifina Avenue</td>\n",
       "      <td>Sejwegca</td>\n",
       "      <td>R6Z 4I1</td>\n",
       "      <td>(444) 965-4216</td>\n",
       "      <td>2018-09-18 08:47:54</td>\n",
       "      <td>2018-09-19 11:48:54</td>\n",
       "      <td>2018-09-19 11:48:54</td>\n",
       "      <td>...</td>\n",
       "      <td>our engineer will fix it</td>\n",
       "      <td>Jack</td>\n",
       "      <td>877-586-3224</td>\n",
       "      <td>$-</td>\n",
       "      <td>1419.0</td>\n",
       "      <td>142.0</td>\n",
       "      <td>128.0</td>\n",
       "      <td>IFS-100001</td>\n",
       "      <td>2018-09-22 12:36:43</td>\n",
       "      <td>414</td>\n",
       "    </tr>\n",
       "    <tr>\n",
       "      <th>1</th>\n",
       "      <td>I-1</td>\n",
       "      <td>A-1002</td>\n",
       "      <td>Eula Hicks</td>\n",
       "      <td>490 Cinu Parkway</td>\n",
       "      <td>Jipuri</td>\n",
       "      <td>A6Q 1S9</td>\n",
       "      <td>(636) 481-4722</td>\n",
       "      <td>2018-09-27 09:03:56</td>\n",
       "      <td>2018-09-28 09:58:23</td>\n",
       "      <td>2018-09-28 09:58:23</td>\n",
       "      <td>...</td>\n",
       "      <td>our engineer will fix it</td>\n",
       "      <td>John</td>\n",
       "      <td>877-586-3224</td>\n",
       "      <td>$-</td>\n",
       "      <td>1027.0</td>\n",
       "      <td>103.0</td>\n",
       "      <td>92.0</td>\n",
       "      <td>IFS-100002</td>\n",
       "      <td>2018-10-04 12:24:50</td>\n",
       "      <td>415</td>\n",
       "    </tr>\n",
       "    <tr>\n",
       "      <th>2</th>\n",
       "      <td>I-1</td>\n",
       "      <td>A-1003</td>\n",
       "      <td>Johnny Watts</td>\n",
       "      <td>931 Keheg Circle</td>\n",
       "      <td>Uhezufen</td>\n",
       "      <td>L8G 2U8</td>\n",
       "      <td>(416) 917-2514</td>\n",
       "      <td>2018-09-27 07:16:17</td>\n",
       "      <td>2018-09-28 09:59:16</td>\n",
       "      <td>2018-09-28 09:59:16</td>\n",
       "      <td>...</td>\n",
       "      <td>our engineer will fix it</td>\n",
       "      <td>John</td>\n",
       "      <td>877-586-3224</td>\n",
       "      <td>$-</td>\n",
       "      <td>2898.0</td>\n",
       "      <td>290.0</td>\n",
       "      <td>261.0</td>\n",
       "      <td>IFS-100003</td>\n",
       "      <td>2018-10-02 09:57:55</td>\n",
       "      <td>416</td>\n",
       "    </tr>\n",
       "    <tr>\n",
       "      <th>3</th>\n",
       "      <td>I-1</td>\n",
       "      <td>A-1004</td>\n",
       "      <td>Eugene Blair</td>\n",
       "      <td>799 Kofku Lane</td>\n",
       "      <td>Heisla</td>\n",
       "      <td>R2J 1V2</td>\n",
       "      <td>(969) 284-5035</td>\n",
       "      <td>2018-09-27 08:40:41</td>\n",
       "      <td>2018-09-28 10:04:22</td>\n",
       "      <td>2018-09-28 10:04:22</td>\n",
       "      <td>...</td>\n",
       "      <td>our engineer will fix it</td>\n",
       "      <td>Brad</td>\n",
       "      <td>877-586-3224</td>\n",
       "      <td>$-</td>\n",
       "      <td>1388.0</td>\n",
       "      <td>139.0</td>\n",
       "      <td>125.0</td>\n",
       "      <td>IFS-100004</td>\n",
       "      <td>2018-10-02 13:30:18</td>\n",
       "      <td>417</td>\n",
       "    </tr>\n",
       "    <tr>\n",
       "      <th>4</th>\n",
       "      <td>I-1</td>\n",
       "      <td>A-1005</td>\n",
       "      <td>Floyd Willis</td>\n",
       "      <td>1898 Hidge Parkway</td>\n",
       "      <td>Vijipab</td>\n",
       "      <td>T1V 6Z2</td>\n",
       "      <td>(809) 930-1785</td>\n",
       "      <td>2018-09-27 08:33:28</td>\n",
       "      <td>2018-09-28 10:12:44</td>\n",
       "      <td>2018-09-28 10:12:44</td>\n",
       "      <td>...</td>\n",
       "      <td>our engineer will fix it</td>\n",
       "      <td>Brad</td>\n",
       "      <td>877-586-3224</td>\n",
       "      <td>$-</td>\n",
       "      <td>746.0</td>\n",
       "      <td>75.0</td>\n",
       "      <td>67.0</td>\n",
       "      <td>IFS-100005</td>\n",
       "      <td>2018-10-04 10:15:10</td>\n",
       "      <td>418</td>\n",
       "    </tr>\n",
       "  </tbody>\n",
       "</table>\n",
       "<p>5 rows × 25 columns</p>\n",
       "</div>"
      ],
      "text/plain": [
       "  com_code Service Work Order Number      cust_name             loc_add  \\\n",
       "0      I-1                     A-1001  Wesley Mason   252 Jifina Avenue   \n",
       "1      I-1                     A-1002    Eula Hicks    490 Cinu Parkway   \n",
       "2      I-1                     A-1003  Johnny Watts    931 Keheg Circle   \n",
       "3      I-1                     A-1004  Eugene Blair      799 Kofku Lane   \n",
       "4      I-1                     A-1005  Floyd Willis  1898 Hidge Parkway   \n",
       "\n",
       "       city zip_code     cust_phn_no           report_dt        plan_strt_dt  \\\n",
       "0  Sejwegca  R6Z 4I1  (444) 965-4216 2018-09-18 08:47:54 2018-09-19 11:48:54   \n",
       "1    Jipuri  A6Q 1S9  (636) 481-4722 2018-09-27 09:03:56 2018-09-28 09:58:23   \n",
       "2  Uhezufen  L8G 2U8  (416) 917-2514 2018-09-27 07:16:17 2018-09-28 09:59:16   \n",
       "3    Heisla  R2J 1V2  (969) 284-5035 2018-09-27 08:40:41 2018-09-28 10:04:22   \n",
       "4   Vijipab  T1V 6Z2  (809) 930-1785 2018-09-27 08:33:28 2018-09-28 10:12:44   \n",
       "\n",
       "       actual_strt_dt      ...                       sol_stmnt serv_tech_head  \\\n",
       "0 2018-09-19 11:48:54      ...        our engineer will fix it           Jack   \n",
       "1 2018-09-28 09:58:23      ...        our engineer will fix it           John   \n",
       "2 2018-09-28 09:59:16      ...        our engineer will fix it           John   \n",
       "3 2018-09-28 10:04:22      ...        our engineer will fix it           Brad   \n",
       "4 2018-09-28 10:12:44      ...        our engineer will fix it           Brad   \n",
       "\n",
       "  office_phn_no currency order_amt contract_disc serv_tax_amt     bill_no  \\\n",
       "0  877-586-3224    $-       1419.0         142.0        128.0  IFS-100001   \n",
       "1  877-586-3224    $-       1027.0         103.0         92.0  IFS-100002   \n",
       "2  877-586-3224    $-       2898.0         290.0        261.0  IFS-100003   \n",
       "3  877-586-3224    $-       1388.0         139.0        125.0  IFS-100004   \n",
       "4  877-586-3224    $-        746.0          75.0         67.0  IFS-100005   \n",
       "\n",
       "              bill_dt  serv_contract  \n",
       "0 2018-09-22 12:36:43            414  \n",
       "1 2018-10-04 12:24:50            415  \n",
       "2 2018-10-02 09:57:55            416  \n",
       "3 2018-10-02 13:30:18            417  \n",
       "4 2018-10-04 10:15:10            418  \n",
       "\n",
       "[5 rows x 25 columns]"
      ]
     },
     "execution_count": 14,
     "metadata": {},
     "output_type": "execute_result"
    }
   ],
   "source": [
    "df.head()"
   ]
  },
  {
   "cell_type": "markdown",
   "metadata": {},
   "source": [
    "## Deleting unnecessary features from the dataset"
   ]
  },
  {
   "cell_type": "markdown",
   "metadata": {},
   "source": [
    "###  Some features like \"com_code\" , \"cust_name\" , \"loc_add\" , \"zip_code\" , \"cust_phn_no\" , \"currency\" , \"office_phn_no\" , \"serv_tech_head\" , \"prob_stmnt\" and \"sol_stmnt\" have no such importance in the analysis work so, we are dropping these features."
   ]
  },
  {
   "cell_type": "markdown",
   "metadata": {},
   "source": [
    "### And by analyzing the data we got to know that \"plan_strt_dt\" is similar to \"actual_strt_dt\" so, we are dropping \"plan_strt_dt\""
   ]
  },
  {
   "cell_type": "code",
   "execution_count": 15,
   "metadata": {},
   "outputs": [],
   "source": [
    "df.drop(['com_code','cust_name','loc_add','zip_code','cust_phn_no','plan_strt_dt','currency','office_phn_no','serv_tech_head','prob_stmnt','sol_stmnt'], axis=1, inplace=True)"
   ]
  },
  {
   "cell_type": "code",
   "execution_count": 16,
   "metadata": {},
   "outputs": [],
   "source": [
    "df_new = df"
   ]
  },
  {
   "cell_type": "code",
   "execution_count": 17,
   "metadata": {},
   "outputs": [
    {
     "data": {
      "text/plain": [
       "(20000, 14)"
      ]
     },
     "execution_count": 17,
     "metadata": {},
     "output_type": "execute_result"
    }
   ],
   "source": [
    "df_new.shape"
   ]
  },
  {
   "cell_type": "code",
   "execution_count": 18,
   "metadata": {},
   "outputs": [
    {
     "data": {
      "text/html": [
       "<div>\n",
       "<style scoped>\n",
       "    .dataframe tbody tr th:only-of-type {\n",
       "        vertical-align: middle;\n",
       "    }\n",
       "\n",
       "    .dataframe tbody tr th {\n",
       "        vertical-align: top;\n",
       "    }\n",
       "\n",
       "    .dataframe thead th {\n",
       "        text-align: right;\n",
       "    }\n",
       "</style>\n",
       "<table border=\"1\" class=\"dataframe\">\n",
       "  <thead>\n",
       "    <tr style=\"text-align: right;\">\n",
       "      <th></th>\n",
       "      <th>order_amt</th>\n",
       "      <th>contract_disc</th>\n",
       "      <th>serv_tax_amt</th>\n",
       "      <th>serv_contract</th>\n",
       "    </tr>\n",
       "  </thead>\n",
       "  <tbody>\n",
       "    <tr>\n",
       "      <th>count</th>\n",
       "      <td>20000.00</td>\n",
       "      <td>20000.00</td>\n",
       "      <td>20000.00</td>\n",
       "      <td>20000.00</td>\n",
       "    </tr>\n",
       "    <tr>\n",
       "      <th>mean</th>\n",
       "      <td>1531.01</td>\n",
       "      <td>153.15</td>\n",
       "      <td>137.84</td>\n",
       "      <td>4761.10</td>\n",
       "    </tr>\n",
       "    <tr>\n",
       "      <th>std</th>\n",
       "      <td>852.70</td>\n",
       "      <td>85.27</td>\n",
       "      <td>76.74</td>\n",
       "      <td>2743.58</td>\n",
       "    </tr>\n",
       "    <tr>\n",
       "      <th>min</th>\n",
       "      <td>50.00</td>\n",
       "      <td>5.00</td>\n",
       "      <td>5.00</td>\n",
       "      <td>414.00</td>\n",
       "    </tr>\n",
       "    <tr>\n",
       "      <th>25%</th>\n",
       "      <td>794.00</td>\n",
       "      <td>79.00</td>\n",
       "      <td>72.00</td>\n",
       "      <td>2384.75</td>\n",
       "    </tr>\n",
       "    <tr>\n",
       "      <th>50%</th>\n",
       "      <td>1543.00</td>\n",
       "      <td>154.00</td>\n",
       "      <td>139.00</td>\n",
       "      <td>4517.50</td>\n",
       "    </tr>\n",
       "    <tr>\n",
       "      <th>75%</th>\n",
       "      <td>2266.00</td>\n",
       "      <td>227.00</td>\n",
       "      <td>204.00</td>\n",
       "      <td>6995.00</td>\n",
       "    </tr>\n",
       "    <tr>\n",
       "      <th>max</th>\n",
       "      <td>3000.00</td>\n",
       "      <td>300.00</td>\n",
       "      <td>270.00</td>\n",
       "      <td>10329.00</td>\n",
       "    </tr>\n",
       "  </tbody>\n",
       "</table>\n",
       "</div>"
      ],
      "text/plain": [
       "       order_amt  contract_disc  serv_tax_amt  serv_contract\n",
       "count   20000.00       20000.00      20000.00       20000.00\n",
       "mean     1531.01         153.15        137.84        4761.10\n",
       "std       852.70          85.27         76.74        2743.58\n",
       "min        50.00           5.00          5.00         414.00\n",
       "25%       794.00          79.00         72.00        2384.75\n",
       "50%      1543.00         154.00        139.00        4517.50\n",
       "75%      2266.00         227.00        204.00        6995.00\n",
       "max      3000.00         300.00        270.00       10329.00"
      ]
     },
     "execution_count": 18,
     "metadata": {},
     "output_type": "execute_result"
    }
   ],
   "source": [
    "df_new.describe().round(2)"
   ]
  },
  {
   "cell_type": "markdown",
   "metadata": {},
   "source": [
    "## Add the column -> bill_amt"
   ]
  },
  {
   "cell_type": "code",
   "execution_count": 19,
   "metadata": {},
   "outputs": [],
   "source": [
    "df_new['bill_amt'] = df_new['order_amt'] - df_new['contract_disc'] + df_new['serv_tax_amt']"
   ]
  },
  {
   "cell_type": "code",
   "execution_count": 20,
   "metadata": {},
   "outputs": [],
   "source": [
    "df_new['bill_amt'] = df_new['bill_amt'].astype(np.float64)"
   ]
  },
  {
   "cell_type": "markdown",
   "metadata": {},
   "source": [
    "### After calculating Billing Amount we don't need features like \"order_amt\",\"contract_disc\",\"serv_tax_amt\" so, we dropped them."
   ]
  },
  {
   "cell_type": "markdown",
   "metadata": {},
   "source": [
    "* the \"Contract Discount\" is 10% for all users\n",
    "* the \"Service Tax\" is also 10% for all users"
   ]
  },
  {
   "cell_type": "code",
   "execution_count": 21,
   "metadata": {},
   "outputs": [],
   "source": [
    "df_new.drop(['order_amt','contract_disc','serv_tax_amt'], axis=1, inplace=True)"
   ]
  },
  {
   "cell_type": "code",
   "execution_count": 22,
   "metadata": {},
   "outputs": [
    {
     "data": {
      "text/html": [
       "<div>\n",
       "<style scoped>\n",
       "    .dataframe tbody tr th:only-of-type {\n",
       "        vertical-align: middle;\n",
       "    }\n",
       "\n",
       "    .dataframe tbody tr th {\n",
       "        vertical-align: top;\n",
       "    }\n",
       "\n",
       "    .dataframe thead th {\n",
       "        text-align: right;\n",
       "    }\n",
       "</style>\n",
       "<table border=\"1\" class=\"dataframe\">\n",
       "  <thead>\n",
       "    <tr style=\"text-align: right;\">\n",
       "      <th></th>\n",
       "      <th>Service Work Order Number</th>\n",
       "      <th>city</th>\n",
       "      <th>report_dt</th>\n",
       "      <th>actual_strt_dt</th>\n",
       "      <th>plan_fnsh_dt</th>\n",
       "      <th>actual_fnsh_dt</th>\n",
       "      <th>order_desc</th>\n",
       "      <th>asset_req</th>\n",
       "      <th>bill_no</th>\n",
       "      <th>bill_dt</th>\n",
       "      <th>serv_contract</th>\n",
       "      <th>bill_amt</th>\n",
       "    </tr>\n",
       "  </thead>\n",
       "  <tbody>\n",
       "    <tr>\n",
       "      <th>0</th>\n",
       "      <td>A-1001</td>\n",
       "      <td>Sejwegca</td>\n",
       "      <td>2018-09-18 08:47:54</td>\n",
       "      <td>2018-09-19 11:48:54</td>\n",
       "      <td>2018-09-25 11:48:00</td>\n",
       "      <td>2018-09-22 12:36:43</td>\n",
       "      <td>Plumbing</td>\n",
       "      <td>Y</td>\n",
       "      <td>IFS-100001</td>\n",
       "      <td>2018-09-22 12:36:43</td>\n",
       "      <td>414</td>\n",
       "      <td>1405.0</td>\n",
       "    </tr>\n",
       "    <tr>\n",
       "      <th>1</th>\n",
       "      <td>A-1002</td>\n",
       "      <td>Jipuri</td>\n",
       "      <td>2018-09-27 09:03:56</td>\n",
       "      <td>2018-09-28 09:58:23</td>\n",
       "      <td>2018-10-04 09:58:00</td>\n",
       "      <td>2018-10-04 12:24:50</td>\n",
       "      <td>Others</td>\n",
       "      <td>N</td>\n",
       "      <td>IFS-100002</td>\n",
       "      <td>2018-10-04 12:24:50</td>\n",
       "      <td>415</td>\n",
       "      <td>1016.0</td>\n",
       "    </tr>\n",
       "    <tr>\n",
       "      <th>2</th>\n",
       "      <td>A-1003</td>\n",
       "      <td>Uhezufen</td>\n",
       "      <td>2018-09-27 07:16:17</td>\n",
       "      <td>2018-09-28 09:59:16</td>\n",
       "      <td>2018-10-04 09:59:00</td>\n",
       "      <td>2018-10-02 09:57:55</td>\n",
       "      <td>Others</td>\n",
       "      <td>N</td>\n",
       "      <td>IFS-100003</td>\n",
       "      <td>2018-10-02 09:57:55</td>\n",
       "      <td>416</td>\n",
       "      <td>2869.0</td>\n",
       "    </tr>\n",
       "    <tr>\n",
       "      <th>3</th>\n",
       "      <td>A-1004</td>\n",
       "      <td>Heisla</td>\n",
       "      <td>2018-09-27 08:40:41</td>\n",
       "      <td>2018-09-28 10:04:22</td>\n",
       "      <td>2018-10-04 10:04:00</td>\n",
       "      <td>2018-10-02 13:30:18</td>\n",
       "      <td>Masonry</td>\n",
       "      <td>Y</td>\n",
       "      <td>IFS-100004</td>\n",
       "      <td>2018-10-02 13:30:18</td>\n",
       "      <td>417</td>\n",
       "      <td>1374.0</td>\n",
       "    </tr>\n",
       "    <tr>\n",
       "      <th>4</th>\n",
       "      <td>A-1005</td>\n",
       "      <td>Vijipab</td>\n",
       "      <td>2018-09-27 08:33:28</td>\n",
       "      <td>2018-09-28 10:12:44</td>\n",
       "      <td>2018-10-04 10:12:00</td>\n",
       "      <td>2018-10-04 10:15:10</td>\n",
       "      <td>Masonry</td>\n",
       "      <td>N</td>\n",
       "      <td>IFS-100005</td>\n",
       "      <td>2018-10-04 10:15:10</td>\n",
       "      <td>418</td>\n",
       "      <td>738.0</td>\n",
       "    </tr>\n",
       "  </tbody>\n",
       "</table>\n",
       "</div>"
      ],
      "text/plain": [
       "  Service Work Order Number       city           report_dt  \\\n",
       "0                     A-1001  Sejwegca 2018-09-18 08:47:54   \n",
       "1                     A-1002    Jipuri 2018-09-27 09:03:56   \n",
       "2                     A-1003  Uhezufen 2018-09-27 07:16:17   \n",
       "3                     A-1004    Heisla 2018-09-27 08:40:41   \n",
       "4                     A-1005   Vijipab 2018-09-27 08:33:28   \n",
       "\n",
       "       actual_strt_dt        plan_fnsh_dt      actual_fnsh_dt order_desc  \\\n",
       "0 2018-09-19 11:48:54 2018-09-25 11:48:00 2018-09-22 12:36:43   Plumbing   \n",
       "1 2018-09-28 09:58:23 2018-10-04 09:58:00 2018-10-04 12:24:50     Others   \n",
       "2 2018-09-28 09:59:16 2018-10-04 09:59:00 2018-10-02 09:57:55     Others   \n",
       "3 2018-09-28 10:04:22 2018-10-04 10:04:00 2018-10-02 13:30:18    Masonry   \n",
       "4 2018-09-28 10:12:44 2018-10-04 10:12:00 2018-10-04 10:15:10    Masonry   \n",
       "\n",
       "  asset_req     bill_no             bill_dt  serv_contract  bill_amt  \n",
       "0         Y  IFS-100001 2018-09-22 12:36:43            414    1405.0  \n",
       "1         N  IFS-100002 2018-10-04 12:24:50            415    1016.0  \n",
       "2         N  IFS-100003 2018-10-02 09:57:55            416    2869.0  \n",
       "3         Y  IFS-100004 2018-10-02 13:30:18            417    1374.0  \n",
       "4         N  IFS-100005 2018-10-04 10:15:10            418     738.0  "
      ]
     },
     "execution_count": 22,
     "metadata": {},
     "output_type": "execute_result"
    }
   ],
   "source": [
    "df_new.head()"
   ]
  },
  {
   "cell_type": "markdown",
   "metadata": {},
   "source": [
    "# Exploratory Data Analysis (EDA)"
   ]
  },
  {
   "cell_type": "markdown",
   "metadata": {},
   "source": [
    "## Checking Co-relation between each and every feature of the dataset"
   ]
  },
  {
   "cell_type": "code",
   "execution_count": 50,
   "metadata": {},
   "outputs": [
    {
     "data": {
      "text/plain": [
       "<matplotlib.axes._subplots.AxesSubplot at 0x1076c588>"
      ]
     },
     "execution_count": 50,
     "metadata": {},
     "output_type": "execute_result"
    },
    {
     "data": {
      "image/png": "[encoded data removed]",
      "text/plain": [
       "<matplotlib.figure.Figure at 0x10bffa20>"
      ]
     },
     "metadata": {},
     "output_type": "display_data"
    }
   ],
   "source": [
    "corr = df_new.corr()\n",
    "plt.figure(figsize=(15,10))\n",
    "sns.heatmap(corr,cmap='Blues',annot=True)"
   ]
  },
  {
   "cell_type": "markdown",
   "metadata": {},
   "source": [
    "## How many orders made by the customers?"
   ]
  },
  {
   "cell_type": "code",
   "execution_count": 25,
   "metadata": {},
   "outputs": [
    {
     "data": {
      "text/html": [
       "<div>\n",
       "<style scoped>\n",
       "    .dataframe tbody tr th:only-of-type {\n",
       "        vertical-align: middle;\n",
       "    }\n",
       "\n",
       "    .dataframe tbody tr th {\n",
       "        vertical-align: top;\n",
       "    }\n",
       "\n",
       "    .dataframe thead th {\n",
       "        text-align: right;\n",
       "    }\n",
       "</style>\n",
       "<table border=\"1\" class=\"dataframe\">\n",
       "  <thead>\n",
       "    <tr style=\"text-align: right;\">\n",
       "      <th></th>\n",
       "      <th>serv_contract</th>\n",
       "      <th>city</th>\n",
       "      <th>bill_no</th>\n",
       "    </tr>\n",
       "  </thead>\n",
       "  <tbody>\n",
       "    <tr>\n",
       "      <th>0</th>\n",
       "      <td>414</td>\n",
       "      <td>Sejwegca</td>\n",
       "      <td>1</td>\n",
       "    </tr>\n",
       "    <tr>\n",
       "      <th>1</th>\n",
       "      <td>415</td>\n",
       "      <td>Jipuri</td>\n",
       "      <td>3</td>\n",
       "    </tr>\n",
       "    <tr>\n",
       "      <th>2</th>\n",
       "      <td>416</td>\n",
       "      <td>Uhezufen</td>\n",
       "      <td>2</td>\n",
       "    </tr>\n",
       "    <tr>\n",
       "      <th>3</th>\n",
       "      <td>417</td>\n",
       "      <td>Heisla</td>\n",
       "      <td>3</td>\n",
       "    </tr>\n",
       "    <tr>\n",
       "      <th>4</th>\n",
       "      <td>418</td>\n",
       "      <td>Vijipab</td>\n",
       "      <td>3</td>\n",
       "    </tr>\n",
       "  </tbody>\n",
       "</table>\n",
       "</div>"
      ],
      "text/plain": [
       "   serv_contract      city  bill_no\n",
       "0            414  Sejwegca        1\n",
       "1            415    Jipuri        3\n",
       "2            416  Uhezufen        2\n",
       "3            417    Heisla        3\n",
       "4            418   Vijipab        3"
      ]
     },
     "execution_count": 25,
     "metadata": {},
     "output_type": "execute_result"
    }
   ],
   "source": [
    "df_new.groupby(by=['serv_contract','city'], as_index=False)['bill_no'].count().head()"
   ]
  },
  {
   "cell_type": "code",
   "execution_count": 26,
   "metadata": {},
   "outputs": [
    {
     "data": {
      "image/png": "[encoded data removed]",
      "text/plain": [
       "<matplotlib.figure.Figure at 0xf5c64e0>"
      ]
     },
     "metadata": {},
     "output_type": "display_data"
    }
   ],
   "source": [
    "orders = df_new.groupby(by=['serv_contract','city'], as_index=False)['bill_no'].count()\n",
    "\n",
    "style.use('ggplot')\n",
    "plt.subplots(figsize=(16,6))\n",
    "plt.scatter(orders.serv_contract,orders.bill_no, color='g')#, align='center')\n",
    "plt.xlabel('Customers ID')\n",
    "plt.ylabel('Number of Orders')\n",
    "plt.title('Number of Orders from different Customers')\n",
    "plt.show()"
   ]
  },
  {
   "cell_type": "markdown",
   "metadata": {},
   "source": [
    "##  Check TOP 5 most number of orders"
   ]
  },
  {
   "cell_type": "code",
   "execution_count": 27,
   "metadata": {},
   "outputs": [
    {
     "name": "stdout",
     "output_type": "stream",
     "text": [
      "The TOP 5 customers with most number of orders...\n"
     ]
    },
    {
     "data": {
      "text/html": [
       "<div>\n",
       "<style scoped>\n",
       "    .dataframe tbody tr th:only-of-type {\n",
       "        vertical-align: middle;\n",
       "    }\n",
       "\n",
       "    .dataframe tbody tr th {\n",
       "        vertical-align: top;\n",
       "    }\n",
       "\n",
       "    .dataframe thead th {\n",
       "        text-align: right;\n",
       "    }\n",
       "</style>\n",
       "<table border=\"1\" class=\"dataframe\">\n",
       "  <thead>\n",
       "    <tr style=\"text-align: right;\">\n",
       "      <th></th>\n",
       "      <th>serv_contract</th>\n",
       "      <th>city</th>\n",
       "      <th>bill_no</th>\n",
       "    </tr>\n",
       "  </thead>\n",
       "  <tbody>\n",
       "    <tr>\n",
       "      <th>573</th>\n",
       "      <td>987</td>\n",
       "      <td>Jatoozi</td>\n",
       "      <td>6</td>\n",
       "    </tr>\n",
       "    <tr>\n",
       "      <th>678</th>\n",
       "      <td>1092</td>\n",
       "      <td>Tuhoceto</td>\n",
       "      <td>6</td>\n",
       "    </tr>\n",
       "    <tr>\n",
       "      <th>1662</th>\n",
       "      <td>2076</td>\n",
       "      <td>Olugaedu</td>\n",
       "      <td>6</td>\n",
       "    </tr>\n",
       "    <tr>\n",
       "      <th>3046</th>\n",
       "      <td>3460</td>\n",
       "      <td>Muhlulat</td>\n",
       "      <td>6</td>\n",
       "    </tr>\n",
       "    <tr>\n",
       "      <th>1853</th>\n",
       "      <td>2267</td>\n",
       "      <td>Wutoel</td>\n",
       "      <td>6</td>\n",
       "    </tr>\n",
       "  </tbody>\n",
       "</table>\n",
       "</div>"
      ],
      "text/plain": [
       "      serv_contract      city  bill_no\n",
       "573             987   Jatoozi        6\n",
       "678            1092  Tuhoceto        6\n",
       "1662           2076  Olugaedu        6\n",
       "3046           3460  Muhlulat        6\n",
       "1853           2267    Wutoel        6"
      ]
     },
     "execution_count": 27,
     "metadata": {},
     "output_type": "execute_result"
    }
   ],
   "source": [
    "print('The TOP 5 customers with most number of orders...')\n",
    "orders.sort_values(by='bill_no', ascending=False).head()"
   ]
  },
  {
   "cell_type": "markdown",
   "metadata": {},
   "source": [
    "## How much money spent by the customers?"
   ]
  },
  {
   "cell_type": "code",
   "execution_count": 28,
   "metadata": {},
   "outputs": [
    {
     "data": {
      "image/png": "[encoded data removed]",
      "text/plain": [
       "<matplotlib.figure.Figure at 0xb8e62e8>"
      ]
     },
     "metadata": {},
     "output_type": "display_data"
    }
   ],
   "source": [
    "money_spent = df_new.groupby(by=['serv_contract','city'], as_index=False)['bill_amt'].sum()\n",
    "\n",
    "plt.subplots(figsize=(15,6))\n",
    "plt.plot(money_spent.serv_contract, money_spent.bill_amt)\n",
    "plt.xlabel('Customers ID')\n",
    "plt.ylabel('Money spent (Dollar)')\n",
    "plt.title('Money Spent by different Customers')\n",
    "plt.show()"
   ]
  },
  {
   "cell_type": "markdown",
   "metadata": {},
   "source": [
    "## Check TOP 5 highest money spent \n"
   ]
  },
  {
   "cell_type": "code",
   "execution_count": 29,
   "metadata": {},
   "outputs": [
    {
     "name": "stdout",
     "output_type": "stream",
     "text": [
      "The TOP 5 customers with highest money spent...\n"
     ]
    },
    {
     "data": {
      "text/html": [
       "<div>\n",
       "<style scoped>\n",
       "    .dataframe tbody tr th:only-of-type {\n",
       "        vertical-align: middle;\n",
       "    }\n",
       "\n",
       "    .dataframe tbody tr th {\n",
       "        vertical-align: top;\n",
       "    }\n",
       "\n",
       "    .dataframe thead th {\n",
       "        text-align: right;\n",
       "    }\n",
       "</style>\n",
       "<table border=\"1\" class=\"dataframe\">\n",
       "  <thead>\n",
       "    <tr style=\"text-align: right;\">\n",
       "      <th></th>\n",
       "      <th>serv_contract</th>\n",
       "      <th>city</th>\n",
       "      <th>bill_amt</th>\n",
       "    </tr>\n",
       "  </thead>\n",
       "  <tbody>\n",
       "    <tr>\n",
       "      <th>1372</th>\n",
       "      <td>1786</td>\n",
       "      <td>Wizneev</td>\n",
       "      <td>14220.0</td>\n",
       "    </tr>\n",
       "    <tr>\n",
       "      <th>675</th>\n",
       "      <td>1089</td>\n",
       "      <td>Wukpeovu</td>\n",
       "      <td>14145.0</td>\n",
       "    </tr>\n",
       "    <tr>\n",
       "      <th>2552</th>\n",
       "      <td>2966</td>\n",
       "      <td>Keefom</td>\n",
       "      <td>14025.0</td>\n",
       "    </tr>\n",
       "    <tr>\n",
       "      <th>5046</th>\n",
       "      <td>5460</td>\n",
       "      <td>Dunonoc</td>\n",
       "      <td>14020.0</td>\n",
       "    </tr>\n",
       "    <tr>\n",
       "      <th>5397</th>\n",
       "      <td>5811</td>\n",
       "      <td>Zarublic</td>\n",
       "      <td>13625.0</td>\n",
       "    </tr>\n",
       "  </tbody>\n",
       "</table>\n",
       "</div>"
      ],
      "text/plain": [
       "      serv_contract      city  bill_amt\n",
       "1372           1786   Wizneev   14220.0\n",
       "675            1089  Wukpeovu   14145.0\n",
       "2552           2966    Keefom   14025.0\n",
       "5046           5460   Dunonoc   14020.0\n",
       "5397           5811  Zarublic   13625.0"
      ]
     },
     "execution_count": 29,
     "metadata": {},
     "output_type": "execute_result"
    }
   ],
   "source": [
    "print('The TOP 5 customers with highest money spent...')\n",
    "money_spent.sort_values(by='bill_amt', ascending=False).head()"
   ]
  },
  {
   "cell_type": "markdown",
   "metadata": {},
   "source": [
    "# Discover patterns for Number of Orders"
   ]
  },
  {
   "cell_type": "markdown",
   "metadata": {},
   "source": [
    "## How many orders (per month)?"
   ]
  },
  {
   "cell_type": "code",
   "execution_count": 30,
   "metadata": {},
   "outputs": [],
   "source": [
    "df_new.insert(loc=8, column='year_month', value=df_new['report_dt'].map(lambda x: 100*x.year + x.month))\n",
    "df_new.insert(loc=9, column='month', value=df_new.report_dt.dt.month)\n",
    "# +1 to make Monday=1.....until Sunday=7\n",
    "df_new.insert(loc=10, column='day', value=(df_new.report_dt.dt.dayofweek)+1)\n",
    "df_new.insert(loc=11, column='hour', value=df_new.report_dt.dt.hour)"
   ]
  },
  {
   "cell_type": "code",
   "execution_count": 31,
   "metadata": {},
   "outputs": [
    {
     "data": {
      "image/png": "[encoded data removed]",
      "text/plain": [
       "<matplotlib.figure.Figure at 0xf9d9e48>"
      ]
     },
     "metadata": {},
     "output_type": "display_data"
    }
   ],
   "source": [
    "ax = df_new.groupby('bill_no')['year_month'].unique().value_counts().sort_index().plot('bar',figsize=(15,6))\n",
    "ax.set_xlabel('Month',fontsize=15)\n",
    "ax.set_ylabel('Number of Orders',fontsize=15)\n",
    "ax.set_title('Number of orders for different Months (1st Sep 2018 - 30th Dec 2018)',fontsize=15)\n",
    "ax.set_xticklabels(('Sep_18','Oct_18','Nov_18','Dec_18'), rotation='horizontal', fontsize=13)\n",
    "plt.show()"
   ]
  },
  {
   "cell_type": "markdown",
   "metadata": {},
   "source": [
    "## How many orders (per day)?"
   ]
  },
  {
   "cell_type": "code",
   "execution_count": 32,
   "metadata": {},
   "outputs": [
    {
     "data": {
      "text/plain": [
       "[1]    3694\n",
       "[2]    3414\n",
       "[3]    3195\n",
       "[4]    3663\n",
       "[5]    1655\n",
       "[6]    1049\n",
       "[7]    3330\n",
       "Name: day, dtype: int64"
      ]
     },
     "execution_count": 32,
     "metadata": {},
     "output_type": "execute_result"
    }
   ],
   "source": [
    "df_new.groupby('bill_no')['day'].unique().value_counts().sort_index()"
   ]
  },
  {
   "cell_type": "code",
   "execution_count": 33,
   "metadata": {},
   "outputs": [
    {
     "data": {
      "image/png": "[encoded data removed]",
      "text/plain": [
       "<matplotlib.figure.Figure at 0xfe778d0>"
      ]
     },
     "metadata": {},
     "output_type": "display_data"
    }
   ],
   "source": [
    "ax = df_new.groupby('bill_no')['day'].unique().value_counts().sort_index().plot('bar',figsize=(15,6))\n",
    "ax.set_xlabel('Day',fontsize=15)\n",
    "ax.set_ylabel('Number of Orders',fontsize=15)\n",
    "ax.set_title('Number of orders for different Days',fontsize=15)\n",
    "ax.set_xticklabels(('Mon','Tue','Wed','Thur','Fri','Sat','Sun'), rotation='horizontal', fontsize=15)\n",
    "plt.show()"
   ]
  },
  {
   "cell_type": "markdown",
   "metadata": {},
   "source": [
    "## How many orders (per hour)?"
   ]
  },
  {
   "cell_type": "code",
   "execution_count": 34,
   "metadata": {},
   "outputs": [
    {
     "data": {
      "text/plain": [
       "[0]       94\n",
       "[1]       44\n",
       "[2]       31\n",
       "[4]       51\n",
       "[5]       67\n",
       "[6]      216\n",
       "[7]      654\n",
       "[8]     1306\n",
       "[9]     1700\n",
       "[10]    1841\n",
       "[11]    1882\n",
       "[12]    1757\n",
       "[13]    1703\n",
       "[14]    1675\n",
       "[15]    1624\n",
       "[16]    1525\n",
       "[17]    1076\n",
       "[18]     878\n",
       "[19]     580\n",
       "[20]     444\n",
       "[21]     380\n",
       "[22]     256\n",
       "[23]     185\n",
       "Name: hour, dtype: int64"
      ]
     },
     "execution_count": 34,
     "metadata": {},
     "output_type": "execute_result"
    }
   ],
   "source": [
    "df_new.groupby('bill_no')['hour'].unique().value_counts().iloc[:-1].sort_index()"
   ]
  },
  {
   "cell_type": "code",
   "execution_count": 35,
   "metadata": {},
   "outputs": [
    {
     "data": {
      "image/png": "[encoded data removed]",
      "text/plain": [
       "<matplotlib.figure.Figure at 0xf9d25c0>"
      ]
     },
     "metadata": {},
     "output_type": "display_data"
    }
   ],
   "source": [
    "ax = df_new.groupby('bill_no')['hour'].unique().value_counts().iloc[:-1].sort_index().plot('bar',figsize=(15,6))\n",
    "ax.set_xlabel('Hour',fontsize=15)\n",
    "ax.set_ylabel('Number of Orders',fontsize=15)\n",
    "ax.set_title('Number of orders for different Hours',fontsize=15)\n",
    "ax.set_xticklabels(range(0,23), rotation='horizontal', fontsize=15)\n",
    "plt.show()"
   ]
  },
  {
   "cell_type": "markdown",
   "metadata": {},
   "source": [
    "# Discover patterns for each City"
   ]
  },
  {
   "cell_type": "code",
   "execution_count": 36,
   "metadata": {},
   "outputs": [
    {
     "data": {
      "text/html": [
       "<div>\n",
       "<style scoped>\n",
       "    .dataframe tbody tr th:only-of-type {\n",
       "        vertical-align: middle;\n",
       "    }\n",
       "\n",
       "    .dataframe tbody tr th {\n",
       "        vertical-align: top;\n",
       "    }\n",
       "\n",
       "    .dataframe thead th {\n",
       "        text-align: right;\n",
       "    }\n",
       "</style>\n",
       "<table border=\"1\" class=\"dataframe\">\n",
       "  <thead>\n",
       "    <tr style=\"text-align: right;\">\n",
       "      <th></th>\n",
       "      <th>Service Work Order Number</th>\n",
       "      <th>city</th>\n",
       "      <th>report_dt</th>\n",
       "      <th>actual_strt_dt</th>\n",
       "      <th>plan_fnsh_dt</th>\n",
       "      <th>actual_fnsh_dt</th>\n",
       "      <th>order_desc</th>\n",
       "      <th>asset_req</th>\n",
       "      <th>year_month</th>\n",
       "      <th>month</th>\n",
       "      <th>day</th>\n",
       "      <th>hour</th>\n",
       "      <th>bill_no</th>\n",
       "      <th>bill_dt</th>\n",
       "      <th>serv_contract</th>\n",
       "      <th>bill_amt</th>\n",
       "    </tr>\n",
       "  </thead>\n",
       "  <tbody>\n",
       "    <tr>\n",
       "      <th>0</th>\n",
       "      <td>A-1001</td>\n",
       "      <td>Sejwegca</td>\n",
       "      <td>2018-09-18 08:47:54</td>\n",
       "      <td>2018-09-19 11:48:54</td>\n",
       "      <td>2018-09-25 11:48:00</td>\n",
       "      <td>2018-09-22 12:36:43</td>\n",
       "      <td>Plumbing</td>\n",
       "      <td>Y</td>\n",
       "      <td>201809</td>\n",
       "      <td>9</td>\n",
       "      <td>2</td>\n",
       "      <td>8</td>\n",
       "      <td>IFS-100001</td>\n",
       "      <td>2018-09-22 12:36:43</td>\n",
       "      <td>414</td>\n",
       "      <td>1405.0</td>\n",
       "    </tr>\n",
       "    <tr>\n",
       "      <th>1</th>\n",
       "      <td>A-1002</td>\n",
       "      <td>Jipuri</td>\n",
       "      <td>2018-09-27 09:03:56</td>\n",
       "      <td>2018-09-28 09:58:23</td>\n",
       "      <td>2018-10-04 09:58:00</td>\n",
       "      <td>2018-10-04 12:24:50</td>\n",
       "      <td>Others</td>\n",
       "      <td>N</td>\n",
       "      <td>201809</td>\n",
       "      <td>9</td>\n",
       "      <td>4</td>\n",
       "      <td>9</td>\n",
       "      <td>IFS-100002</td>\n",
       "      <td>2018-10-04 12:24:50</td>\n",
       "      <td>415</td>\n",
       "      <td>1016.0</td>\n",
       "    </tr>\n",
       "    <tr>\n",
       "      <th>2</th>\n",
       "      <td>A-1003</td>\n",
       "      <td>Uhezufen</td>\n",
       "      <td>2018-09-27 07:16:17</td>\n",
       "      <td>2018-09-28 09:59:16</td>\n",
       "      <td>2018-10-04 09:59:00</td>\n",
       "      <td>2018-10-02 09:57:55</td>\n",
       "      <td>Others</td>\n",
       "      <td>N</td>\n",
       "      <td>201809</td>\n",
       "      <td>9</td>\n",
       "      <td>4</td>\n",
       "      <td>7</td>\n",
       "      <td>IFS-100003</td>\n",
       "      <td>2018-10-02 09:57:55</td>\n",
       "      <td>416</td>\n",
       "      <td>2869.0</td>\n",
       "    </tr>\n",
       "    <tr>\n",
       "      <th>3</th>\n",
       "      <td>A-1004</td>\n",
       "      <td>Heisla</td>\n",
       "      <td>2018-09-27 08:40:41</td>\n",
       "      <td>2018-09-28 10:04:22</td>\n",
       "      <td>2018-10-04 10:04:00</td>\n",
       "      <td>2018-10-02 13:30:18</td>\n",
       "      <td>Masonry</td>\n",
       "      <td>Y</td>\n",
       "      <td>201809</td>\n",
       "      <td>9</td>\n",
       "      <td>4</td>\n",
       "      <td>8</td>\n",
       "      <td>IFS-100004</td>\n",
       "      <td>2018-10-02 13:30:18</td>\n",
       "      <td>417</td>\n",
       "      <td>1374.0</td>\n",
       "    </tr>\n",
       "    <tr>\n",
       "      <th>4</th>\n",
       "      <td>A-1005</td>\n",
       "      <td>Vijipab</td>\n",
       "      <td>2018-09-27 08:33:28</td>\n",
       "      <td>2018-09-28 10:12:44</td>\n",
       "      <td>2018-10-04 10:12:00</td>\n",
       "      <td>2018-10-04 10:15:10</td>\n",
       "      <td>Masonry</td>\n",
       "      <td>N</td>\n",
       "      <td>201809</td>\n",
       "      <td>9</td>\n",
       "      <td>4</td>\n",
       "      <td>8</td>\n",
       "      <td>IFS-100005</td>\n",
       "      <td>2018-10-04 10:15:10</td>\n",
       "      <td>418</td>\n",
       "      <td>738.0</td>\n",
       "    </tr>\n",
       "  </tbody>\n",
       "</table>\n",
       "</div>"
      ],
      "text/plain": [
       "  Service Work Order Number       city           report_dt  \\\n",
       "0                     A-1001  Sejwegca 2018-09-18 08:47:54   \n",
       "1                     A-1002    Jipuri 2018-09-27 09:03:56   \n",
       "2                     A-1003  Uhezufen 2018-09-27 07:16:17   \n",
       "3                     A-1004    Heisla 2018-09-27 08:40:41   \n",
       "4                     A-1005   Vijipab 2018-09-27 08:33:28   \n",
       "\n",
       "       actual_strt_dt        plan_fnsh_dt      actual_fnsh_dt order_desc  \\\n",
       "0 2018-09-19 11:48:54 2018-09-25 11:48:00 2018-09-22 12:36:43   Plumbing   \n",
       "1 2018-09-28 09:58:23 2018-10-04 09:58:00 2018-10-04 12:24:50     Others   \n",
       "2 2018-09-28 09:59:16 2018-10-04 09:59:00 2018-10-02 09:57:55     Others   \n",
       "3 2018-09-28 10:04:22 2018-10-04 10:04:00 2018-10-02 13:30:18    Masonry   \n",
       "4 2018-09-28 10:12:44 2018-10-04 10:12:00 2018-10-04 10:15:10    Masonry   \n",
       "\n",
       "  asset_req  year_month  month  day  hour     bill_no             bill_dt  \\\n",
       "0         Y      201809      9    2     8  IFS-100001 2018-09-22 12:36:43   \n",
       "1         N      201809      9    4     9  IFS-100002 2018-10-04 12:24:50   \n",
       "2         N      201809      9    4     7  IFS-100003 2018-10-02 09:57:55   \n",
       "3         Y      201809      9    4     8  IFS-100004 2018-10-02 13:30:18   \n",
       "4         N      201809      9    4     8  IFS-100005 2018-10-04 10:15:10   \n",
       "\n",
       "   serv_contract  bill_amt  \n",
       "0            414    1405.0  \n",
       "1            415    1016.0  \n",
       "2            416    2869.0  \n",
       "3            417    1374.0  \n",
       "4            418     738.0  "
      ]
     },
     "execution_count": 36,
     "metadata": {},
     "output_type": "execute_result"
    }
   ],
   "source": [
    "df_new.head()"
   ]
  },
  {
   "cell_type": "markdown",
   "metadata": {},
   "source": [
    "## How much money spent by each city?"
   ]
  },
  {
   "cell_type": "code",
   "execution_count": 37,
   "metadata": {},
   "outputs": [
    {
     "data": {
      "image/png": "[encoded data removed]",
      "text/plain": [
       "<matplotlib.figure.Figure at 0xfc8a940>"
      ]
     },
     "metadata": {},
     "output_type": "display_data"
    }
   ],
   "source": [
    "group_country_amount_spent = df_new.groupby('city')['bill_amt'].sum().sort_values()\n",
    "\n",
    "plt.subplots(figsize=(15,8))\n",
    "group_country_amount_spent.plot('barh', fontsize=12)\n",
    "plt.xlabel('Money Spent (Dollar)', fontsize=12)\n",
    "plt.ylabel('Country', fontsize=12)\n",
    "plt.title('Money Spent by different Countries', fontsize=12)\n",
    "plt.show()"
   ]
  },
  {
   "cell_type": "markdown",
   "metadata": {},
   "source": [
    "## Categorical variables - Feature engineering."
   ]
  },
  {
   "cell_type": "code",
   "execution_count": 38,
   "metadata": {},
   "outputs": [
    {
     "data": {
      "text/plain": [
       "(2, 6)"
      ]
     },
     "execution_count": 38,
     "metadata": {},
     "output_type": "execute_result"
    }
   ],
   "source": [
    "df_new.asset_req.nunique(),df_new.order_desc.nunique()"
   ]
  },
  {
   "cell_type": "code",
   "execution_count": 39,
   "metadata": {},
   "outputs": [
    {
     "data": {
      "text/html": [
       "<div>\n",
       "<style scoped>\n",
       "    .dataframe tbody tr th:only-of-type {\n",
       "        vertical-align: middle;\n",
       "    }\n",
       "\n",
       "    .dataframe tbody tr th {\n",
       "        vertical-align: top;\n",
       "    }\n",
       "\n",
       "    .dataframe thead th {\n",
       "        text-align: right;\n",
       "    }\n",
       "</style>\n",
       "<table border=\"1\" class=\"dataframe\">\n",
       "  <thead>\n",
       "    <tr style=\"text-align: right;\">\n",
       "      <th>col_0</th>\n",
       "      <th>count</th>\n",
       "    </tr>\n",
       "    <tr>\n",
       "      <th>order_desc</th>\n",
       "      <th></th>\n",
       "    </tr>\n",
       "  </thead>\n",
       "  <tbody>\n",
       "    <tr>\n",
       "      <th>Plumbing</th>\n",
       "      <td>0.18750</td>\n",
       "    </tr>\n",
       "    <tr>\n",
       "      <th>Electrical</th>\n",
       "      <td>0.17790</td>\n",
       "    </tr>\n",
       "    <tr>\n",
       "      <th>Air Conditioning</th>\n",
       "      <td>0.17310</td>\n",
       "    </tr>\n",
       "    <tr>\n",
       "      <th>Others</th>\n",
       "      <td>0.16855</td>\n",
       "    </tr>\n",
       "    <tr>\n",
       "      <th>Telecom</th>\n",
       "      <td>0.16710</td>\n",
       "    </tr>\n",
       "    <tr>\n",
       "      <th>Masonry</th>\n",
       "      <td>0.12585</td>\n",
       "    </tr>\n",
       "  </tbody>\n",
       "</table>\n",
       "</div>"
      ],
      "text/plain": [
       "col_0               count\n",
       "order_desc               \n",
       "Plumbing          0.18750\n",
       "Electrical        0.17790\n",
       "Air Conditioning  0.17310\n",
       "Others            0.16855\n",
       "Telecom           0.16710\n",
       "Masonry           0.12585"
      ]
     },
     "execution_count": 39,
     "metadata": {},
     "output_type": "execute_result"
    }
   ],
   "source": [
    "order_desc_freq=pd.crosstab(index=df_new['order_desc'],columns=\"count\")  \n",
    "order_desc_freq_rel = order_desc_freq/order_desc_freq.sum() \n",
    "order_desc_freq_rel.sort_values('count', ascending=False) #relative frequencies"
   ]
  },
  {
   "cell_type": "code",
   "execution_count": 40,
   "metadata": {},
   "outputs": [],
   "source": [
    "def order_desc_categorizer(row):\n",
    "   row = str(row)\n",
    "   category = \"\"\n",
    "   if \"Plumbing\" in row:\n",
    "       category = 6\n",
    "   elif \"Electrical\" in row:\n",
    "       category = 5\n",
    "   elif \"Air Conditioning\" in row:\n",
    "       category = 4\n",
    "   elif \"Others\" in row:\n",
    "       category = 3\n",
    "   elif \"Telecom\" in row:\n",
    "       category = 2\n",
    "   else:\n",
    "       category = 1\n",
    "   return category \n",
    "\n",
    "df_new[\"order_desc\"] = df_new.apply(lambda row:order_desc_categorizer(row[\"order_desc\"]),axis=1)"
   ]
  },
  {
   "cell_type": "code",
   "execution_count": 41,
   "metadata": {},
   "outputs": [
    {
     "data": {
      "text/plain": [
       "<matplotlib.axes._subplots.AxesSubplot at 0x225ce780>"
      ]
     },
     "execution_count": 41,
     "metadata": {},
     "output_type": "execute_result"
    },
    {
     "data": {
      "image/png": "[encoded data removed]",
      "text/plain": [
       "<matplotlib.figure.Figure at 0x225b6898>"
      ]
     },
     "metadata": {},
     "output_type": "display_data"
    }
   ],
   "source": [
    "from pylab import rcParams\n",
    "rcParams['figure.figsize'] = 8, 5\n",
    "sns.countplot(df_new[\"order_desc\"])"
   ]
  },
  {
   "cell_type": "markdown",
   "metadata": {},
   "source": [
    "* we can see that the max no. of services required were of \"Plumbing\" and the least were of \"Masonry\"."
   ]
  },
  {
   "cell_type": "code",
   "execution_count": 42,
   "metadata": {},
   "outputs": [],
   "source": [
    "df_new['asset_req'] = np.where(df_new['asset_req']=='Y', '1', '0')\n",
    "df_new['asset_req'] = df_new['asset_req'].astype(dtype='int64')"
   ]
  },
  {
   "cell_type": "code",
   "execution_count": 43,
   "metadata": {},
   "outputs": [
    {
     "data": {
      "text/plain": [
       "<matplotlib.axes._subplots.AxesSubplot at 0xede2198>"
      ]
     },
     "execution_count": 43,
     "metadata": {},
     "output_type": "execute_result"
    },
    {
     "data": {
      "image/png": "[encoded data removed]",
      "text/plain": [
       "<matplotlib.figure.Figure at 0x225b65f8>"
      ]
     },
     "metadata": {},
     "output_type": "display_data"
    }
   ],
   "source": [
    "from pylab import rcParams\n",
    "rcParams['figure.figsize'] = 6, 4\n",
    "sns.countplot(df_new[\"asset_req\"])"
   ]
  },
  {
   "cell_type": "markdown",
   "metadata": {},
   "source": [
    "* we can see that the no. of times an extra equipment is required in services from central office is lower than the no. of times they are not required. "
   ]
  },
  {
   "cell_type": "code",
   "execution_count": 44,
   "metadata": {},
   "outputs": [],
   "source": [
    "df_new['time_to_repair']=df_new['actual_fnsh_dt']-df_new['actual_strt_dt']"
   ]
  },
  {
   "cell_type": "code",
   "execution_count": 45,
   "metadata": {},
   "outputs": [
    {
     "data": {
      "text/plain": [
       "19247"
      ]
     },
     "execution_count": 45,
     "metadata": {},
     "output_type": "execute_result"
    }
   ],
   "source": [
    "df_new.time_to_repair.nunique()"
   ]
  },
  {
   "cell_type": "code",
   "execution_count": 46,
   "metadata": {},
   "outputs": [
    {
     "data": {
      "text/plain": [
       "count                     20000\n",
       "mean     3 days 10:41:50.947650\n",
       "std      1 days 17:16:08.610893\n",
       "min             0 days 00:17:26\n",
       "25%             1 days 23:59:37\n",
       "50%             3 days 08:15:40\n",
       "75%             4 days 23:54:51\n",
       "max             6 days 23:19:16\n",
       "Name: time_to_repair, dtype: object"
      ]
     },
     "execution_count": 46,
     "metadata": {},
     "output_type": "execute_result"
    }
   ],
   "source": [
    "df_new['time_to_repair'].describe()"
   ]
  },
  {
   "cell_type": "code",
   "execution_count": 47,
   "metadata": {},
   "outputs": [],
   "source": [
    "df_new['response_time']=df_new['actual_strt_dt']-df_new['report_dt']"
   ]
  },
  {
   "cell_type": "code",
   "execution_count": 48,
   "metadata": {},
   "outputs": [
    {
     "data": {
      "text/plain": [
       "17273"
      ]
     },
     "execution_count": 48,
     "metadata": {},
     "output_type": "execute_result"
    }
   ],
   "source": [
    "df_new.response_time.nunique()"
   ]
  },
  {
   "cell_type": "code",
   "execution_count": 49,
   "metadata": {},
   "outputs": [
    {
     "data": {
      "text/plain": [
       "count                     20000\n",
       "mean     0 days 23:44:20.838650\n",
       "std      0 days 05:31:45.460328\n",
       "min             0 days 01:02:06\n",
       "25%             0 days 20:04:27\n",
       "50%      0 days 23:52:09.500000\n",
       "75%      1 days 03:33:42.250000\n",
       "max             1 days 22:40:49\n",
       "Name: response_time, dtype: object"
      ]
     },
     "execution_count": 49,
     "metadata": {},
     "output_type": "execute_result"
    }
   ],
   "source": [
    "df_new['response_time'].describe()"
   ]
  },
  {
   "cell_type": "markdown",
   "metadata": {},
   "source": [
    "## Results obtained from Exploratory Data Analysis (EDA)"
   ]
  },
  {
   "cell_type": "markdown",
   "metadata": {},
   "source": [
    "1. The maximum no. of orders that the customers had made were 6.(i.e. all the 6 services from the company)\n",
    "2. The customer with the highest money spent on purchases comes from \"Wizneev\" city.\n",
    "3. Top 5 cities spending highest amount of money are as below:\n",
    "    * Wizneev\t\n",
    "    * Wukpeovu\t\n",
    "    * Keefom\t\n",
    "    * Dunonoc\t\n",
    "    * Zarublic\n",
    "4. December 2018 has the maximun service orders\n",
    "5. November 2018 has neglible service orders\n",
    "6. Services on Mondays are max. whereas on Saturday they're the least.\n",
    "7. The company receives the highest number of orders at 12:00 noon and starts decreasing afterward in a day.\n",
    "8. The company receives the highest number of orders for \"Plumbing\" services and least for \"Masonry\" services.\n",
    "9. The response time of company ranges from 1 hr to 46 hrs.\n",
    "10. The repairing time of company averages around 3 days and 8 hrs.\n",
    "11. The requirement of spare parts/equipments from central office is required approx. 49% of cases. "
   ]
  },
  {
   "cell_type": "code",
   "execution_count": null,
   "metadata": {},
   "outputs": [],
   "source": []
  }
 ],
 "metadata": {
  "kernelspec": {
   "display_name": "Python 2",
   "language": "python",
   "name": "python2"
  },
  "language_info": {
   "codemirror_mode": {
    "name": "ipython",
    "version": 2
   },
   "file_extension": ".py",
   "mimetype": "text/x-python",
   "name": "python",
   "nbconvert_exporter": "python",
   "pygments_lexer": "ipython2",
   "version": "2.7.14"
  }
 },
 "nbformat": 4,
 "nbformat_minor": 2
}
