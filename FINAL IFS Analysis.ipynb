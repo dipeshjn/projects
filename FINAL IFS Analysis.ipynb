{
 "cells": [
  {
   "cell_type": "markdown",
   "metadata": {},
   "source": [
    "* This Project is initiated for a company called IFS that provides apartment services across various locations, geographically \n",
    "spread across thousands of square kilometers. This company provides apartment services such as Plumbing, Electrical, \n",
    "Air-conditioning, Masonry and Telecom works. They have a team of Field Service engineers that are located in various places \n",
    "in the geography and have remote access to the central office to get information about day to day service schedules. These \n",
    "engineers or technicians have electronic devices like tabs or laptops, which they use to get the daily service information. \n",
    "With this information to go to the customer sites carry out the necessary services and update the completion information from \n",
    "their devices back to the office. These technicians get their parts, accessories and others required for their activities via \n",
    "courier services. They can also get in touch with the central office for any troubleshooting help or coordination of any OEM help.\n",
    "* Now they have competition, the new company is promising aggressive service clauses such as very difficult to achieve equipment \n",
    "downtime, and longer life for older equipment to quote just some of them. While wondering if these are realistic and achievable, \n",
    "IFS does not want to take the new comers for granted, they want to understand if their metrics are comparable and even possible \n",
    "to exceed. For this the company needs a thorough analysis of performance information."
   ]
  },
  {
   "cell_type": "code",
   "execution_count": 1,
   "metadata": {},
   "outputs": [],
   "source": [
    "import pandas as pd\n",
    "import numpy as np\n",
    "import matplotlib.pyplot as plt\n",
    "from matplotlib import style\n",
    "import seaborn as sns\n",
    "from sklearn import preprocessing\n",
    "%matplotlib inline"
   ]
  },
  {
   "cell_type": "code",
   "execution_count": 2,
   "metadata": {},
   "outputs": [],
   "source": [
    "df = pd.read_csv('C:/Users/Acer/Desktop/IFS Data/ifs_data_mtbf.csv', encoding = 'ISO-8859-1')"
   ]
  },
  {
   "cell_type": "code",
   "execution_count": 3,
   "metadata": {},
   "outputs": [
    {
     "data": {
      "text/html": [
       "<div>\n",
       "<style scoped>\n",
       "    .dataframe tbody tr th:only-of-type {\n",
       "        vertical-align: middle;\n",
       "    }\n",
       "\n",
       "    .dataframe tbody tr th {\n",
       "        vertical-align: top;\n",
       "    }\n",
       "\n",
       "    .dataframe thead th {\n",
       "        text-align: right;\n",
       "    }\n",
       "</style>\n",
       "<table border=\"1\" class=\"dataframe\">\n",
       "  <thead>\n",
       "    <tr style=\"text-align: right;\">\n",
       "      <th></th>\n",
       "      <th>Company Code</th>\n",
       "      <th>Service Order Number</th>\n",
       "      <th>Customer Name</th>\n",
       "      <th>Location Address 1</th>\n",
       "      <th>Location Address 2</th>\n",
       "      <th>ZIP Code</th>\n",
       "      <th>Customer Phone Number</th>\n",
       "      <th>Reported Date/Time</th>\n",
       "      <th>Planned Start Date/Time</th>\n",
       "      <th>Actual Start Date/Time</th>\n",
       "      <th>...</th>\n",
       "      <th>Solution Statement</th>\n",
       "      <th>Service Technician</th>\n",
       "      <th>Office Support Contact</th>\n",
       "      <th>Currency</th>\n",
       "      <th>Order Amount</th>\n",
       "      <th>Contract Discount</th>\n",
       "      <th>Service tax Amount</th>\n",
       "      <th>Bill No</th>\n",
       "      <th>Bill Date/Time</th>\n",
       "      <th>Service Contract</th>\n",
       "    </tr>\n",
       "  </thead>\n",
       "  <tbody>\n",
       "    <tr>\n",
       "      <th>0</th>\n",
       "      <td>I-1</td>\n",
       "      <td>A-1001</td>\n",
       "      <td>Wesley Mason</td>\n",
       "      <td>252 Jifina Avenue</td>\n",
       "      <td>Sejwegca</td>\n",
       "      <td>R6Z 4I1</td>\n",
       "      <td>(444) 965-4216</td>\n",
       "      <td>2018-09-18T08:47:54</td>\n",
       "      <td>2018-09-19T11:48:54</td>\n",
       "      <td>2018-09-19T11:48:54</td>\n",
       "      <td>...</td>\n",
       "      <td>our engineer will fix it</td>\n",
       "      <td>Jack</td>\n",
       "      <td>877-586-3224</td>\n",
       "      <td>$-</td>\n",
       "      <td>1419</td>\n",
       "      <td>142</td>\n",
       "      <td>128</td>\n",
       "      <td>IFS-100001</td>\n",
       "      <td>2018-09-22T12:36:43</td>\n",
       "      <td>414</td>\n",
       "    </tr>\n",
       "    <tr>\n",
       "      <th>1</th>\n",
       "      <td>I-1</td>\n",
       "      <td>A-1002</td>\n",
       "      <td>Joe Moreno</td>\n",
       "      <td>1850 Eduvi Boulevard</td>\n",
       "      <td>Kihinaezi</td>\n",
       "      <td>B7D 7U3</td>\n",
       "      <td>(444) 731-5255</td>\n",
       "      <td>2018-09-27T00:05:35</td>\n",
       "      <td>2018-09-28T10:31:56</td>\n",
       "      <td>2018-09-28T10:31:56</td>\n",
       "      <td>...</td>\n",
       "      <td>our engineer will fix it</td>\n",
       "      <td>Roy</td>\n",
       "      <td>877-586-3224</td>\n",
       "      <td>$-</td>\n",
       "      <td>1697</td>\n",
       "      <td>170</td>\n",
       "      <td>153</td>\n",
       "      <td>IFS-100002</td>\n",
       "      <td>2018-09-29T12:11:13</td>\n",
       "      <td>432</td>\n",
       "    </tr>\n",
       "    <tr>\n",
       "      <th>2</th>\n",
       "      <td>I-1</td>\n",
       "      <td>A-1003</td>\n",
       "      <td>Jeff Cummings</td>\n",
       "      <td>1827 Kocew Mill</td>\n",
       "      <td>Ulroldol</td>\n",
       "      <td>K2Z 7Q1</td>\n",
       "      <td>(525) 555-2312</td>\n",
       "      <td>2018-09-27T00:08:39</td>\n",
       "      <td>2018-09-28T10:44:03</td>\n",
       "      <td>2018-09-28T10:44:03</td>\n",
       "      <td>...</td>\n",
       "      <td>our engineer will fix it</td>\n",
       "      <td>Robert</td>\n",
       "      <td>877-586-3224</td>\n",
       "      <td>$-</td>\n",
       "      <td>765</td>\n",
       "      <td>77</td>\n",
       "      <td>69</td>\n",
       "      <td>IFS-100003</td>\n",
       "      <td>2018-09-29T15:53:33</td>\n",
       "      <td>445</td>\n",
       "    </tr>\n",
       "    <tr>\n",
       "      <th>3</th>\n",
       "      <td>I-1</td>\n",
       "      <td>A-1004</td>\n",
       "      <td>Eva Carr</td>\n",
       "      <td>1347 Eztuc Path</td>\n",
       "      <td>Rozahfow</td>\n",
       "      <td>B0M 9Y8</td>\n",
       "      <td>(528) 835-6265</td>\n",
       "      <td>2018-09-27T00:15:05</td>\n",
       "      <td>2018-09-28T11:53:11</td>\n",
       "      <td>2018-09-28T11:53:11</td>\n",
       "      <td>...</td>\n",
       "      <td>our engineer will fix it</td>\n",
       "      <td>Brad</td>\n",
       "      <td>877-586-3224</td>\n",
       "      <td>$-</td>\n",
       "      <td>191</td>\n",
       "      <td>19</td>\n",
       "      <td>17</td>\n",
       "      <td>IFS-100004</td>\n",
       "      <td>2018-10-02T13:12:00</td>\n",
       "      <td>516</td>\n",
       "    </tr>\n",
       "    <tr>\n",
       "      <th>4</th>\n",
       "      <td>I-1</td>\n",
       "      <td>A-1005</td>\n",
       "      <td>Kate Guzman</td>\n",
       "      <td>1077 Tuvib Point</td>\n",
       "      <td>Pabzeftar</td>\n",
       "      <td>H5A 4J3</td>\n",
       "      <td>(929) 839-7512</td>\n",
       "      <td>2018-09-27T00:19:02</td>\n",
       "      <td>2018-09-28T10:41:23</td>\n",
       "      <td>2018-09-28T10:41:23</td>\n",
       "      <td>...</td>\n",
       "      <td>our engineer will fix it</td>\n",
       "      <td>John</td>\n",
       "      <td>877-586-3224</td>\n",
       "      <td>$-</td>\n",
       "      <td>974</td>\n",
       "      <td>97</td>\n",
       "      <td>88</td>\n",
       "      <td>IFS-100005</td>\n",
       "      <td>2018-10-01T12:33:55</td>\n",
       "      <td>443</td>\n",
       "    </tr>\n",
       "  </tbody>\n",
       "</table>\n",
       "<p>5 rows × 25 columns</p>\n",
       "</div>"
      ],
      "text/plain": [
       "  Company Code Service Order Number  Customer Name    Location Address 1  \\\n",
       "0          I-1               A-1001   Wesley Mason     252 Jifina Avenue   \n",
       "1          I-1               A-1002     Joe Moreno  1850 Eduvi Boulevard   \n",
       "2          I-1               A-1003  Jeff Cummings       1827 Kocew Mill   \n",
       "3          I-1               A-1004       Eva Carr       1347 Eztuc Path   \n",
       "4          I-1               A-1005    Kate Guzman      1077 Tuvib Point   \n",
       "\n",
       "  Location Address 2 ZIP Code Customer Phone Number   Reported Date/Time  \\\n",
       "0           Sejwegca  R6Z 4I1        (444) 965-4216  2018-09-18T08:47:54   \n",
       "1          Kihinaezi  B7D 7U3        (444) 731-5255  2018-09-27T00:05:35   \n",
       "2           Ulroldol  K2Z 7Q1        (525) 555-2312  2018-09-27T00:08:39   \n",
       "3           Rozahfow  B0M 9Y8        (528) 835-6265  2018-09-27T00:15:05   \n",
       "4          Pabzeftar  H5A 4J3        (929) 839-7512  2018-09-27T00:19:02   \n",
       "\n",
       "  Planned Start Date/Time Actual Start Date/Time        ...         \\\n",
       "0     2018-09-19T11:48:54    2018-09-19T11:48:54        ...          \n",
       "1     2018-09-28T10:31:56    2018-09-28T10:31:56        ...          \n",
       "2     2018-09-28T10:44:03    2018-09-28T10:44:03        ...          \n",
       "3     2018-09-28T11:53:11    2018-09-28T11:53:11        ...          \n",
       "4     2018-09-28T10:41:23    2018-09-28T10:41:23        ...          \n",
       "\n",
       "         Solution Statement Service Technician Office Support Contact  \\\n",
       "0  our engineer will fix it               Jack           877-586-3224   \n",
       "1  our engineer will fix it                Roy           877-586-3224   \n",
       "2  our engineer will fix it             Robert           877-586-3224   \n",
       "3  our engineer will fix it               Brad           877-586-3224   \n",
       "4  our engineer will fix it               John           877-586-3224   \n",
       "\n",
       "  Currency Order Amount Contract Discount Service tax Amount     Bill No  \\\n",
       "0    $-            1419               142                128  IFS-100001   \n",
       "1    $-            1697               170                153  IFS-100002   \n",
       "2    $-             765                77                 69  IFS-100003   \n",
       "3    $-             191                19                 17  IFS-100004   \n",
       "4    $-             974                97                 88  IFS-100005   \n",
       "\n",
       "        Bill Date/Time  Service Contract  \n",
       "0  2018-09-22T12:36:43               414  \n",
       "1  2018-09-29T12:11:13               432  \n",
       "2  2018-09-29T15:53:33               445  \n",
       "3  2018-10-02T13:12:00               516  \n",
       "4  2018-10-01T12:33:55               443  \n",
       "\n",
       "[5 rows x 25 columns]"
      ]
     },
     "execution_count": 3,
     "metadata": {},
     "output_type": "execute_result"
    }
   ],
   "source": [
    "df.head()"
   ]
  },
  {
   "cell_type": "code",
   "execution_count": 4,
   "metadata": {},
   "outputs": [
    {
     "data": {
      "text/plain": [
       "(20000, 25)"
      ]
     },
     "execution_count": 4,
     "metadata": {},
     "output_type": "execute_result"
    }
   ],
   "source": [
    "df.shape"
   ]
  },
  {
   "cell_type": "code",
   "execution_count": 5,
   "metadata": {},
   "outputs": [],
   "source": [
    "# change the column names\n",
    "df.rename(index=str, columns={'Company Code': 'com_code' , 'Service Order Number': 'serv_order_no',\n",
    "                              'Bill No':'bill_no', 'Customer Name' : 'cust_name' , 'Location Address 1' : 'loc_add',\n",
    "                              'Location Address 2' : 'city' , 'ZIP Code' : 'zip_code',\n",
    "                              'Customer Phone Number' : 'cust_phn_no' , 'Reported Date/Time' : 'report_dt',\n",
    "                              'Planned Start Date/Time' : 'plan_strt_dt' , 'Actual Start Date/Time':'actual_strt_dt',\n",
    "                              'Planned Finish Date/Time':'plan_fnsh_dt' , 'Actual Finish Date/Time':'actual_fnsh_dt',\n",
    "                              'Order Description':'order_desc' , 'Asset/Equipment Details':'asset_req',\n",
    "                              'Problem Statement':'prob_stmnt' , 'Solution Statement':'sol_stmnt',\n",
    "                              'Service Technician':'serv_tech_head' , 'Office Support Contact':'office_phn_no',\n",
    "                              'Currency':'currency' , 'Order Amount':'order_amt',\n",
    "                              'Contract Discount':'contract_disc' , 'Service tax Amount':'serv_tax_amt',\n",
    "                              'Bill Date/Time':'bill_dt' , 'Service Contract':'serv_contract'}, inplace=True )"
   ]
  },
  {
   "cell_type": "code",
   "execution_count": 6,
   "metadata": {},
   "outputs": [
    {
     "data": {
      "text/html": [
       "<div>\n",
       "<style scoped>\n",
       "    .dataframe tbody tr th:only-of-type {\n",
       "        vertical-align: middle;\n",
       "    }\n",
       "\n",
       "    .dataframe tbody tr th {\n",
       "        vertical-align: top;\n",
       "    }\n",
       "\n",
       "    .dataframe thead th {\n",
       "        text-align: right;\n",
       "    }\n",
       "</style>\n",
       "<table border=\"1\" class=\"dataframe\">\n",
       "  <thead>\n",
       "    <tr style=\"text-align: right;\">\n",
       "      <th></th>\n",
       "      <th>com_code</th>\n",
       "      <th>serv_order_no</th>\n",
       "      <th>cust_name</th>\n",
       "      <th>loc_add</th>\n",
       "      <th>city</th>\n",
       "      <th>zip_code</th>\n",
       "      <th>cust_phn_no</th>\n",
       "      <th>report_dt</th>\n",
       "      <th>plan_strt_dt</th>\n",
       "      <th>actual_strt_dt</th>\n",
       "      <th>...</th>\n",
       "      <th>sol_stmnt</th>\n",
       "      <th>serv_tech_head</th>\n",
       "      <th>office_phn_no</th>\n",
       "      <th>currency</th>\n",
       "      <th>order_amt</th>\n",
       "      <th>contract_disc</th>\n",
       "      <th>serv_tax_amt</th>\n",
       "      <th>bill_no</th>\n",
       "      <th>bill_dt</th>\n",
       "      <th>serv_contract</th>\n",
       "    </tr>\n",
       "  </thead>\n",
       "  <tbody>\n",
       "    <tr>\n",
       "      <th>0</th>\n",
       "      <td>I-1</td>\n",
       "      <td>A-1001</td>\n",
       "      <td>Wesley Mason</td>\n",
       "      <td>252 Jifina Avenue</td>\n",
       "      <td>Sejwegca</td>\n",
       "      <td>R6Z 4I1</td>\n",
       "      <td>(444) 965-4216</td>\n",
       "      <td>2018-09-18T08:47:54</td>\n",
       "      <td>2018-09-19T11:48:54</td>\n",
       "      <td>2018-09-19T11:48:54</td>\n",
       "      <td>...</td>\n",
       "      <td>our engineer will fix it</td>\n",
       "      <td>Jack</td>\n",
       "      <td>877-586-3224</td>\n",
       "      <td>$-</td>\n",
       "      <td>1419</td>\n",
       "      <td>142</td>\n",
       "      <td>128</td>\n",
       "      <td>IFS-100001</td>\n",
       "      <td>2018-09-22T12:36:43</td>\n",
       "      <td>414</td>\n",
       "    </tr>\n",
       "    <tr>\n",
       "      <th>1</th>\n",
       "      <td>I-1</td>\n",
       "      <td>A-1002</td>\n",
       "      <td>Joe Moreno</td>\n",
       "      <td>1850 Eduvi Boulevard</td>\n",
       "      <td>Kihinaezi</td>\n",
       "      <td>B7D 7U3</td>\n",
       "      <td>(444) 731-5255</td>\n",
       "      <td>2018-09-27T00:05:35</td>\n",
       "      <td>2018-09-28T10:31:56</td>\n",
       "      <td>2018-09-28T10:31:56</td>\n",
       "      <td>...</td>\n",
       "      <td>our engineer will fix it</td>\n",
       "      <td>Roy</td>\n",
       "      <td>877-586-3224</td>\n",
       "      <td>$-</td>\n",
       "      <td>1697</td>\n",
       "      <td>170</td>\n",
       "      <td>153</td>\n",
       "      <td>IFS-100002</td>\n",
       "      <td>2018-09-29T12:11:13</td>\n",
       "      <td>432</td>\n",
       "    </tr>\n",
       "    <tr>\n",
       "      <th>2</th>\n",
       "      <td>I-1</td>\n",
       "      <td>A-1003</td>\n",
       "      <td>Jeff Cummings</td>\n",
       "      <td>1827 Kocew Mill</td>\n",
       "      <td>Ulroldol</td>\n",
       "      <td>K2Z 7Q1</td>\n",
       "      <td>(525) 555-2312</td>\n",
       "      <td>2018-09-27T00:08:39</td>\n",
       "      <td>2018-09-28T10:44:03</td>\n",
       "      <td>2018-09-28T10:44:03</td>\n",
       "      <td>...</td>\n",
       "      <td>our engineer will fix it</td>\n",
       "      <td>Robert</td>\n",
       "      <td>877-586-3224</td>\n",
       "      <td>$-</td>\n",
       "      <td>765</td>\n",
       "      <td>77</td>\n",
       "      <td>69</td>\n",
       "      <td>IFS-100003</td>\n",
       "      <td>2018-09-29T15:53:33</td>\n",
       "      <td>445</td>\n",
       "    </tr>\n",
       "    <tr>\n",
       "      <th>3</th>\n",
       "      <td>I-1</td>\n",
       "      <td>A-1004</td>\n",
       "      <td>Eva Carr</td>\n",
       "      <td>1347 Eztuc Path</td>\n",
       "      <td>Rozahfow</td>\n",
       "      <td>B0M 9Y8</td>\n",
       "      <td>(528) 835-6265</td>\n",
       "      <td>2018-09-27T00:15:05</td>\n",
       "      <td>2018-09-28T11:53:11</td>\n",
       "      <td>2018-09-28T11:53:11</td>\n",
       "      <td>...</td>\n",
       "      <td>our engineer will fix it</td>\n",
       "      <td>Brad</td>\n",
       "      <td>877-586-3224</td>\n",
       "      <td>$-</td>\n",
       "      <td>191</td>\n",
       "      <td>19</td>\n",
       "      <td>17</td>\n",
       "      <td>IFS-100004</td>\n",
       "      <td>2018-10-02T13:12:00</td>\n",
       "      <td>516</td>\n",
       "    </tr>\n",
       "    <tr>\n",
       "      <th>4</th>\n",
       "      <td>I-1</td>\n",
       "      <td>A-1005</td>\n",
       "      <td>Kate Guzman</td>\n",
       "      <td>1077 Tuvib Point</td>\n",
       "      <td>Pabzeftar</td>\n",
       "      <td>H5A 4J3</td>\n",
       "      <td>(929) 839-7512</td>\n",
       "      <td>2018-09-27T00:19:02</td>\n",
       "      <td>2018-09-28T10:41:23</td>\n",
       "      <td>2018-09-28T10:41:23</td>\n",
       "      <td>...</td>\n",
       "      <td>our engineer will fix it</td>\n",
       "      <td>John</td>\n",
       "      <td>877-586-3224</td>\n",
       "      <td>$-</td>\n",
       "      <td>974</td>\n",
       "      <td>97</td>\n",
       "      <td>88</td>\n",
       "      <td>IFS-100005</td>\n",
       "      <td>2018-10-01T12:33:55</td>\n",
       "      <td>443</td>\n",
       "    </tr>\n",
       "  </tbody>\n",
       "</table>\n",
       "<p>5 rows × 25 columns</p>\n",
       "</div>"
      ],
      "text/plain": [
       "  com_code serv_order_no      cust_name               loc_add       city  \\\n",
       "0      I-1        A-1001   Wesley Mason     252 Jifina Avenue   Sejwegca   \n",
       "1      I-1        A-1002     Joe Moreno  1850 Eduvi Boulevard  Kihinaezi   \n",
       "2      I-1        A-1003  Jeff Cummings       1827 Kocew Mill   Ulroldol   \n",
       "3      I-1        A-1004       Eva Carr       1347 Eztuc Path   Rozahfow   \n",
       "4      I-1        A-1005    Kate Guzman      1077 Tuvib Point  Pabzeftar   \n",
       "\n",
       "  zip_code     cust_phn_no            report_dt         plan_strt_dt  \\\n",
       "0  R6Z 4I1  (444) 965-4216  2018-09-18T08:47:54  2018-09-19T11:48:54   \n",
       "1  B7D 7U3  (444) 731-5255  2018-09-27T00:05:35  2018-09-28T10:31:56   \n",
       "2  K2Z 7Q1  (525) 555-2312  2018-09-27T00:08:39  2018-09-28T10:44:03   \n",
       "3  B0M 9Y8  (528) 835-6265  2018-09-27T00:15:05  2018-09-28T11:53:11   \n",
       "4  H5A 4J3  (929) 839-7512  2018-09-27T00:19:02  2018-09-28T10:41:23   \n",
       "\n",
       "        actual_strt_dt      ...                       sol_stmnt  \\\n",
       "0  2018-09-19T11:48:54      ...        our engineer will fix it   \n",
       "1  2018-09-28T10:31:56      ...        our engineer will fix it   \n",
       "2  2018-09-28T10:44:03      ...        our engineer will fix it   \n",
       "3  2018-09-28T11:53:11      ...        our engineer will fix it   \n",
       "4  2018-09-28T10:41:23      ...        our engineer will fix it   \n",
       "\n",
       "  serv_tech_head office_phn_no currency order_amt contract_disc serv_tax_amt  \\\n",
       "0           Jack  877-586-3224    $-         1419           142          128   \n",
       "1            Roy  877-586-3224    $-         1697           170          153   \n",
       "2         Robert  877-586-3224    $-          765            77           69   \n",
       "3           Brad  877-586-3224    $-          191            19           17   \n",
       "4           John  877-586-3224    $-          974            97           88   \n",
       "\n",
       "      bill_no              bill_dt  serv_contract  \n",
       "0  IFS-100001  2018-09-22T12:36:43            414  \n",
       "1  IFS-100002  2018-09-29T12:11:13            432  \n",
       "2  IFS-100003  2018-09-29T15:53:33            445  \n",
       "3  IFS-100004  2018-10-02T13:12:00            516  \n",
       "4  IFS-100005  2018-10-01T12:33:55            443  \n",
       "\n",
       "[5 rows x 25 columns]"
      ]
     },
     "execution_count": 6,
     "metadata": {},
     "output_type": "execute_result"
    }
   ],
   "source": [
    "df.head()"
   ]
  },
  {
   "cell_type": "markdown",
   "metadata": {},
   "source": [
    "## Data Cleaning"
   ]
  },
  {
   "cell_type": "code",
   "execution_count": 7,
   "metadata": {},
   "outputs": [
    {
     "name": "stdout",
     "output_type": "stream",
     "text": [
      "<class 'pandas.core.frame.DataFrame'>\n",
      "Index: 20000 entries, 0 to 19999\n",
      "Data columns (total 25 columns):\n",
      "com_code          20000 non-null object\n",
      "serv_order_no     20000 non-null object\n",
      "cust_name         20000 non-null object\n",
      "loc_add           20000 non-null object\n",
      "city              20000 non-null object\n",
      "zip_code          20000 non-null object\n",
      "cust_phn_no       20000 non-null object\n",
      "report_dt         20000 non-null object\n",
      "plan_strt_dt      20000 non-null object\n",
      "actual_strt_dt    20000 non-null object\n",
      "plan_fnsh_dt      20000 non-null object\n",
      "actual_fnsh_dt    20000 non-null object\n",
      "order_desc        20000 non-null object\n",
      "asset_req         20000 non-null object\n",
      "prob_stmnt        20000 non-null object\n",
      "sol_stmnt         20000 non-null object\n",
      "serv_tech_head    20000 non-null object\n",
      "office_phn_no     20000 non-null object\n",
      "currency          20000 non-null object\n",
      "order_amt         20000 non-null int64\n",
      "contract_disc     20000 non-null int64\n",
      "serv_tax_amt      20000 non-null int64\n",
      "bill_no           20000 non-null object\n",
      "bill_dt           20000 non-null object\n",
      "serv_contract     20000 non-null int64\n",
      "dtypes: int64(4), object(21)\n",
      "memory usage: 4.0+ MB\n"
     ]
    }
   ],
   "source": [
    "df.info()"
   ]
  },
  {
   "cell_type": "markdown",
   "metadata": {},
   "source": [
    "## Check missing values for each column"
   ]
  },
  {
   "cell_type": "code",
   "execution_count": 8,
   "metadata": {},
   "outputs": [
    {
     "data": {
      "text/plain": [
       "serv_contract     0\n",
       "actual_fnsh_dt    0\n",
       "serv_order_no     0\n",
       "cust_name         0\n",
       "loc_add           0\n",
       "city              0\n",
       "zip_code          0\n",
       "cust_phn_no       0\n",
       "report_dt         0\n",
       "plan_strt_dt      0\n",
       "actual_strt_dt    0\n",
       "plan_fnsh_dt      0\n",
       "order_desc        0\n",
       "bill_dt           0\n",
       "asset_req         0\n",
       "prob_stmnt        0\n",
       "sol_stmnt         0\n",
       "serv_tech_head    0\n",
       "office_phn_no     0\n",
       "currency          0\n",
       "order_amt         0\n",
       "contract_disc     0\n",
       "serv_tax_amt      0\n",
       "bill_no           0\n",
       "com_code          0\n",
       "dtype: int64"
      ]
     },
     "execution_count": 8,
     "metadata": {},
     "output_type": "execute_result"
    }
   ],
   "source": [
    "# check missing values for each column \n",
    "df.isnull().sum().sort_values(ascending=False)"
   ]
  },
  {
   "cell_type": "code",
   "execution_count": 9,
   "metadata": {},
   "outputs": [
    {
     "data": {
      "text/html": [
       "<div>\n",
       "<style scoped>\n",
       "    .dataframe tbody tr th:only-of-type {\n",
       "        vertical-align: middle;\n",
       "    }\n",
       "\n",
       "    .dataframe tbody tr th {\n",
       "        vertical-align: top;\n",
       "    }\n",
       "\n",
       "    .dataframe thead th {\n",
       "        text-align: right;\n",
       "    }\n",
       "</style>\n",
       "<table border=\"1\" class=\"dataframe\">\n",
       "  <thead>\n",
       "    <tr style=\"text-align: right;\">\n",
       "      <th></th>\n",
       "      <th>com_code</th>\n",
       "      <th>serv_order_no</th>\n",
       "      <th>cust_name</th>\n",
       "      <th>loc_add</th>\n",
       "      <th>city</th>\n",
       "      <th>zip_code</th>\n",
       "      <th>cust_phn_no</th>\n",
       "      <th>report_dt</th>\n",
       "      <th>plan_strt_dt</th>\n",
       "      <th>actual_strt_dt</th>\n",
       "      <th>...</th>\n",
       "      <th>sol_stmnt</th>\n",
       "      <th>serv_tech_head</th>\n",
       "      <th>office_phn_no</th>\n",
       "      <th>currency</th>\n",
       "      <th>order_amt</th>\n",
       "      <th>contract_disc</th>\n",
       "      <th>serv_tax_amt</th>\n",
       "      <th>bill_no</th>\n",
       "      <th>bill_dt</th>\n",
       "      <th>serv_contract</th>\n",
       "    </tr>\n",
       "  </thead>\n",
       "  <tbody>\n",
       "  </tbody>\n",
       "</table>\n",
       "<p>0 rows × 25 columns</p>\n",
       "</div>"
      ],
      "text/plain": [
       "Empty DataFrame\n",
       "Columns: [com_code, serv_order_no, cust_name, loc_add, city, zip_code, cust_phn_no, report_dt, plan_strt_dt, actual_strt_dt, plan_fnsh_dt, actual_fnsh_dt, order_desc, asset_req, prob_stmnt, sol_stmnt, serv_tech_head, office_phn_no, currency, order_amt, contract_disc, serv_tax_amt, bill_no, bill_dt, serv_contract]\n",
       "Index: []\n",
       "\n",
       "[0 rows x 25 columns]"
      ]
     },
     "execution_count": 9,
     "metadata": {},
     "output_type": "execute_result"
    }
   ],
   "source": [
    "# check out the rows with missing values\n",
    "df[df.isnull().any(axis=1)].head()"
   ]
  },
  {
   "cell_type": "code",
   "execution_count": 10,
   "metadata": {},
   "outputs": [],
   "source": [
    "df['report_dt'] = pd.to_datetime(df['report_dt'])\n",
    "df['plan_strt_dt'] = pd.to_datetime(df['plan_strt_dt'])\n",
    "df['actual_strt_dt'] = pd.to_datetime(df['actual_strt_dt'])\n",
    "df['plan_fnsh_dt'] = pd.to_datetime(df['plan_fnsh_dt'])\n",
    "df['actual_fnsh_dt'] = pd.to_datetime(df['actual_fnsh_dt'])\n",
    "df['bill_dt'] = pd.to_datetime(df['bill_dt'])"
   ]
  },
  {
   "cell_type": "code",
   "execution_count": 11,
   "metadata": {},
   "outputs": [
    {
     "name": "stdout",
     "output_type": "stream",
     "text": [
      "<class 'pandas.core.frame.DataFrame'>\n",
      "Index: 20000 entries, 0 to 19999\n",
      "Data columns (total 25 columns):\n",
      "com_code          20000 non-null object\n",
      "serv_order_no     20000 non-null object\n",
      "cust_name         20000 non-null object\n",
      "loc_add           20000 non-null object\n",
      "city              20000 non-null object\n",
      "zip_code          20000 non-null object\n",
      "cust_phn_no       20000 non-null object\n",
      "report_dt         20000 non-null datetime64[ns]\n",
      "plan_strt_dt      20000 non-null datetime64[ns]\n",
      "actual_strt_dt    20000 non-null datetime64[ns]\n",
      "plan_fnsh_dt      20000 non-null datetime64[ns]\n",
      "actual_fnsh_dt    20000 non-null datetime64[ns]\n",
      "order_desc        20000 non-null object\n",
      "asset_req         20000 non-null object\n",
      "prob_stmnt        20000 non-null object\n",
      "sol_stmnt         20000 non-null object\n",
      "serv_tech_head    20000 non-null object\n",
      "office_phn_no     20000 non-null object\n",
      "currency          20000 non-null object\n",
      "order_amt         20000 non-null int64\n",
      "contract_disc     20000 non-null int64\n",
      "serv_tax_amt      20000 non-null int64\n",
      "bill_no           20000 non-null object\n",
      "bill_dt           20000 non-null datetime64[ns]\n",
      "serv_contract     20000 non-null int64\n",
      "dtypes: datetime64[ns](6), int64(4), object(15)\n",
      "memory usage: 4.0+ MB\n"
     ]
    }
   ],
   "source": [
    "df.info()"
   ]
  },
  {
   "cell_type": "code",
   "execution_count": 12,
   "metadata": {},
   "outputs": [],
   "source": [
    "df['order_amt'] = df['order_amt'].astype(np.float64)\n",
    "df['contract_disc'] = df['contract_disc'].astype(np.float64)\n",
    "df['serv_tax_amt'] = df['serv_tax_amt'].astype(np.float64)"
   ]
  },
  {
   "cell_type": "code",
   "execution_count": 13,
   "metadata": {},
   "outputs": [
    {
     "name": "stdout",
     "output_type": "stream",
     "text": [
      "<class 'pandas.core.frame.DataFrame'>\n",
      "Index: 20000 entries, 0 to 19999\n",
      "Data columns (total 25 columns):\n",
      "com_code          20000 non-null object\n",
      "serv_order_no     20000 non-null object\n",
      "cust_name         20000 non-null object\n",
      "loc_add           20000 non-null object\n",
      "city              20000 non-null object\n",
      "zip_code          20000 non-null object\n",
      "cust_phn_no       20000 non-null object\n",
      "report_dt         20000 non-null datetime64[ns]\n",
      "plan_strt_dt      20000 non-null datetime64[ns]\n",
      "actual_strt_dt    20000 non-null datetime64[ns]\n",
      "plan_fnsh_dt      20000 non-null datetime64[ns]\n",
      "actual_fnsh_dt    20000 non-null datetime64[ns]\n",
      "order_desc        20000 non-null object\n",
      "asset_req         20000 non-null object\n",
      "prob_stmnt        20000 non-null object\n",
      "sol_stmnt         20000 non-null object\n",
      "serv_tech_head    20000 non-null object\n",
      "office_phn_no     20000 non-null object\n",
      "currency          20000 non-null object\n",
      "order_amt         20000 non-null float64\n",
      "contract_disc     20000 non-null float64\n",
      "serv_tax_amt      20000 non-null float64\n",
      "bill_no           20000 non-null object\n",
      "bill_dt           20000 non-null datetime64[ns]\n",
      "serv_contract     20000 non-null int64\n",
      "dtypes: datetime64[ns](6), float64(3), int64(1), object(15)\n",
      "memory usage: 4.0+ MB\n"
     ]
    }
   ],
   "source": [
    "df.info()"
   ]
  },
  {
   "cell_type": "code",
   "execution_count": 14,
   "metadata": {},
   "outputs": [
    {
     "data": {
      "text/html": [
       "<div>\n",
       "<style scoped>\n",
       "    .dataframe tbody tr th:only-of-type {\n",
       "        vertical-align: middle;\n",
       "    }\n",
       "\n",
       "    .dataframe tbody tr th {\n",
       "        vertical-align: top;\n",
       "    }\n",
       "\n",
       "    .dataframe thead th {\n",
       "        text-align: right;\n",
       "    }\n",
       "</style>\n",
       "<table border=\"1\" class=\"dataframe\">\n",
       "  <thead>\n",
       "    <tr style=\"text-align: right;\">\n",
       "      <th></th>\n",
       "      <th>com_code</th>\n",
       "      <th>serv_order_no</th>\n",
       "      <th>cust_name</th>\n",
       "      <th>loc_add</th>\n",
       "      <th>city</th>\n",
       "      <th>zip_code</th>\n",
       "      <th>cust_phn_no</th>\n",
       "      <th>report_dt</th>\n",
       "      <th>plan_strt_dt</th>\n",
       "      <th>actual_strt_dt</th>\n",
       "      <th>...</th>\n",
       "      <th>sol_stmnt</th>\n",
       "      <th>serv_tech_head</th>\n",
       "      <th>office_phn_no</th>\n",
       "      <th>currency</th>\n",
       "      <th>order_amt</th>\n",
       "      <th>contract_disc</th>\n",
       "      <th>serv_tax_amt</th>\n",
       "      <th>bill_no</th>\n",
       "      <th>bill_dt</th>\n",
       "      <th>serv_contract</th>\n",
       "    </tr>\n",
       "  </thead>\n",
       "  <tbody>\n",
       "    <tr>\n",
       "      <th>0</th>\n",
       "      <td>I-1</td>\n",
       "      <td>A-1001</td>\n",
       "      <td>Wesley Mason</td>\n",
       "      <td>252 Jifina Avenue</td>\n",
       "      <td>Sejwegca</td>\n",
       "      <td>R6Z 4I1</td>\n",
       "      <td>(444) 965-4216</td>\n",
       "      <td>2018-09-18 08:47:54</td>\n",
       "      <td>2018-09-19 11:48:54</td>\n",
       "      <td>2018-09-19 11:48:54</td>\n",
       "      <td>...</td>\n",
       "      <td>our engineer will fix it</td>\n",
       "      <td>Jack</td>\n",
       "      <td>877-586-3224</td>\n",
       "      <td>$-</td>\n",
       "      <td>1419.0</td>\n",
       "      <td>142.0</td>\n",
       "      <td>128.0</td>\n",
       "      <td>IFS-100001</td>\n",
       "      <td>2018-09-22 12:36:43</td>\n",
       "      <td>414</td>\n",
       "    </tr>\n",
       "    <tr>\n",
       "      <th>1</th>\n",
       "      <td>I-1</td>\n",
       "      <td>A-1002</td>\n",
       "      <td>Joe Moreno</td>\n",
       "      <td>1850 Eduvi Boulevard</td>\n",
       "      <td>Kihinaezi</td>\n",
       "      <td>B7D 7U3</td>\n",
       "      <td>(444) 731-5255</td>\n",
       "      <td>2018-09-27 00:05:35</td>\n",
       "      <td>2018-09-28 10:31:56</td>\n",
       "      <td>2018-09-28 10:31:56</td>\n",
       "      <td>...</td>\n",
       "      <td>our engineer will fix it</td>\n",
       "      <td>Roy</td>\n",
       "      <td>877-586-3224</td>\n",
       "      <td>$-</td>\n",
       "      <td>1697.0</td>\n",
       "      <td>170.0</td>\n",
       "      <td>153.0</td>\n",
       "      <td>IFS-100002</td>\n",
       "      <td>2018-09-29 12:11:13</td>\n",
       "      <td>432</td>\n",
       "    </tr>\n",
       "    <tr>\n",
       "      <th>2</th>\n",
       "      <td>I-1</td>\n",
       "      <td>A-1003</td>\n",
       "      <td>Jeff Cummings</td>\n",
       "      <td>1827 Kocew Mill</td>\n",
       "      <td>Ulroldol</td>\n",
       "      <td>K2Z 7Q1</td>\n",
       "      <td>(525) 555-2312</td>\n",
       "      <td>2018-09-27 00:08:39</td>\n",
       "      <td>2018-09-28 10:44:03</td>\n",
       "      <td>2018-09-28 10:44:03</td>\n",
       "      <td>...</td>\n",
       "      <td>our engineer will fix it</td>\n",
       "      <td>Robert</td>\n",
       "      <td>877-586-3224</td>\n",
       "      <td>$-</td>\n",
       "      <td>765.0</td>\n",
       "      <td>77.0</td>\n",
       "      <td>69.0</td>\n",
       "      <td>IFS-100003</td>\n",
       "      <td>2018-09-29 15:53:33</td>\n",
       "      <td>445</td>\n",
       "    </tr>\n",
       "    <tr>\n",
       "      <th>3</th>\n",
       "      <td>I-1</td>\n",
       "      <td>A-1004</td>\n",
       "      <td>Eva Carr</td>\n",
       "      <td>1347 Eztuc Path</td>\n",
       "      <td>Rozahfow</td>\n",
       "      <td>B0M 9Y8</td>\n",
       "      <td>(528) 835-6265</td>\n",
       "      <td>2018-09-27 00:15:05</td>\n",
       "      <td>2018-09-28 11:53:11</td>\n",
       "      <td>2018-09-28 11:53:11</td>\n",
       "      <td>...</td>\n",
       "      <td>our engineer will fix it</td>\n",
       "      <td>Brad</td>\n",
       "      <td>877-586-3224</td>\n",
       "      <td>$-</td>\n",
       "      <td>191.0</td>\n",
       "      <td>19.0</td>\n",
       "      <td>17.0</td>\n",
       "      <td>IFS-100004</td>\n",
       "      <td>2018-10-02 13:12:00</td>\n",
       "      <td>516</td>\n",
       "    </tr>\n",
       "    <tr>\n",
       "      <th>4</th>\n",
       "      <td>I-1</td>\n",
       "      <td>A-1005</td>\n",
       "      <td>Kate Guzman</td>\n",
       "      <td>1077 Tuvib Point</td>\n",
       "      <td>Pabzeftar</td>\n",
       "      <td>H5A 4J3</td>\n",
       "      <td>(929) 839-7512</td>\n",
       "      <td>2018-09-27 00:19:02</td>\n",
       "      <td>2018-09-28 10:41:23</td>\n",
       "      <td>2018-09-28 10:41:23</td>\n",
       "      <td>...</td>\n",
       "      <td>our engineer will fix it</td>\n",
       "      <td>John</td>\n",
       "      <td>877-586-3224</td>\n",
       "      <td>$-</td>\n",
       "      <td>974.0</td>\n",
       "      <td>97.0</td>\n",
       "      <td>88.0</td>\n",
       "      <td>IFS-100005</td>\n",
       "      <td>2018-10-01 12:33:55</td>\n",
       "      <td>443</td>\n",
       "    </tr>\n",
       "  </tbody>\n",
       "</table>\n",
       "<p>5 rows × 25 columns</p>\n",
       "</div>"
      ],
      "text/plain": [
       "  com_code serv_order_no      cust_name               loc_add       city  \\\n",
       "0      I-1        A-1001   Wesley Mason     252 Jifina Avenue   Sejwegca   \n",
       "1      I-1        A-1002     Joe Moreno  1850 Eduvi Boulevard  Kihinaezi   \n",
       "2      I-1        A-1003  Jeff Cummings       1827 Kocew Mill   Ulroldol   \n",
       "3      I-1        A-1004       Eva Carr       1347 Eztuc Path   Rozahfow   \n",
       "4      I-1        A-1005    Kate Guzman      1077 Tuvib Point  Pabzeftar   \n",
       "\n",
       "  zip_code     cust_phn_no           report_dt        plan_strt_dt  \\\n",
       "0  R6Z 4I1  (444) 965-4216 2018-09-18 08:47:54 2018-09-19 11:48:54   \n",
       "1  B7D 7U3  (444) 731-5255 2018-09-27 00:05:35 2018-09-28 10:31:56   \n",
       "2  K2Z 7Q1  (525) 555-2312 2018-09-27 00:08:39 2018-09-28 10:44:03   \n",
       "3  B0M 9Y8  (528) 835-6265 2018-09-27 00:15:05 2018-09-28 11:53:11   \n",
       "4  H5A 4J3  (929) 839-7512 2018-09-27 00:19:02 2018-09-28 10:41:23   \n",
       "\n",
       "       actual_strt_dt      ...                       sol_stmnt serv_tech_head  \\\n",
       "0 2018-09-19 11:48:54      ...        our engineer will fix it           Jack   \n",
       "1 2018-09-28 10:31:56      ...        our engineer will fix it            Roy   \n",
       "2 2018-09-28 10:44:03      ...        our engineer will fix it         Robert   \n",
       "3 2018-09-28 11:53:11      ...        our engineer will fix it           Brad   \n",
       "4 2018-09-28 10:41:23      ...        our engineer will fix it           John   \n",
       "\n",
       "  office_phn_no currency order_amt contract_disc serv_tax_amt     bill_no  \\\n",
       "0  877-586-3224    $-       1419.0         142.0        128.0  IFS-100001   \n",
       "1  877-586-3224    $-       1697.0         170.0        153.0  IFS-100002   \n",
       "2  877-586-3224    $-        765.0          77.0         69.0  IFS-100003   \n",
       "3  877-586-3224    $-        191.0          19.0         17.0  IFS-100004   \n",
       "4  877-586-3224    $-        974.0          97.0         88.0  IFS-100005   \n",
       "\n",
       "              bill_dt  serv_contract  \n",
       "0 2018-09-22 12:36:43            414  \n",
       "1 2018-09-29 12:11:13            432  \n",
       "2 2018-09-29 15:53:33            445  \n",
       "3 2018-10-02 13:12:00            516  \n",
       "4 2018-10-01 12:33:55            443  \n",
       "\n",
       "[5 rows x 25 columns]"
      ]
     },
     "execution_count": 14,
     "metadata": {},
     "output_type": "execute_result"
    }
   ],
   "source": [
    "df.head()"
   ]
  },
  {
   "cell_type": "markdown",
   "metadata": {},
   "source": [
    "# # Visualization of Numerical(quantitative) and Categorical variables"
   ]
  },
  {
   "cell_type": "code",
   "execution_count": 15,
   "metadata": {},
   "outputs": [
    {
     "name": "stdout",
     "output_type": "stream",
     "text": [
      "Index([u'order_amt', u'contract_disc', u'serv_tax_amt', u'serv_contract'], dtype='object')\n"
     ]
    }
   ],
   "source": [
    "quantitative = df.select_dtypes(include = [\"int64\",\"float64\"]).keys()\n",
    "print(quantitative)"
   ]
  },
  {
   "cell_type": "code",
   "execution_count": 16,
   "metadata": {},
   "outputs": [
    {
     "data": {
      "text/html": [
       "<div>\n",
       "<style scoped>\n",
       "    .dataframe tbody tr th:only-of-type {\n",
       "        vertical-align: middle;\n",
       "    }\n",
       "\n",
       "    .dataframe tbody tr th {\n",
       "        vertical-align: top;\n",
       "    }\n",
       "\n",
       "    .dataframe thead th {\n",
       "        text-align: right;\n",
       "    }\n",
       "</style>\n",
       "<table border=\"1\" class=\"dataframe\">\n",
       "  <thead>\n",
       "    <tr style=\"text-align: right;\">\n",
       "      <th></th>\n",
       "      <th>order_amt</th>\n",
       "      <th>contract_disc</th>\n",
       "      <th>serv_tax_amt</th>\n",
       "      <th>serv_contract</th>\n",
       "    </tr>\n",
       "  </thead>\n",
       "  <tbody>\n",
       "    <tr>\n",
       "      <th>count</th>\n",
       "      <td>20000.000000</td>\n",
       "      <td>20000.000000</td>\n",
       "      <td>20000.000000</td>\n",
       "      <td>20000.000000</td>\n",
       "    </tr>\n",
       "    <tr>\n",
       "      <th>mean</th>\n",
       "      <td>1531.009550</td>\n",
       "      <td>153.148350</td>\n",
       "      <td>137.836650</td>\n",
       "      <td>4761.103000</td>\n",
       "    </tr>\n",
       "    <tr>\n",
       "      <th>std</th>\n",
       "      <td>852.703556</td>\n",
       "      <td>85.269721</td>\n",
       "      <td>76.743304</td>\n",
       "      <td>2743.584092</td>\n",
       "    </tr>\n",
       "    <tr>\n",
       "      <th>min</th>\n",
       "      <td>50.000000</td>\n",
       "      <td>5.000000</td>\n",
       "      <td>5.000000</td>\n",
       "      <td>414.000000</td>\n",
       "    </tr>\n",
       "    <tr>\n",
       "      <th>25%</th>\n",
       "      <td>794.000000</td>\n",
       "      <td>79.000000</td>\n",
       "      <td>72.000000</td>\n",
       "      <td>2384.750000</td>\n",
       "    </tr>\n",
       "    <tr>\n",
       "      <th>50%</th>\n",
       "      <td>1543.000000</td>\n",
       "      <td>154.000000</td>\n",
       "      <td>139.000000</td>\n",
       "      <td>4517.500000</td>\n",
       "    </tr>\n",
       "    <tr>\n",
       "      <th>75%</th>\n",
       "      <td>2266.000000</td>\n",
       "      <td>227.000000</td>\n",
       "      <td>204.000000</td>\n",
       "      <td>6995.000000</td>\n",
       "    </tr>\n",
       "    <tr>\n",
       "      <th>max</th>\n",
       "      <td>3000.000000</td>\n",
       "      <td>300.000000</td>\n",
       "      <td>270.000000</td>\n",
       "      <td>10329.000000</td>\n",
       "    </tr>\n",
       "  </tbody>\n",
       "</table>\n",
       "</div>"
      ],
      "text/plain": [
       "          order_amt  contract_disc  serv_tax_amt  serv_contract\n",
       "count  20000.000000   20000.000000  20000.000000   20000.000000\n",
       "mean    1531.009550     153.148350    137.836650    4761.103000\n",
       "std      852.703556      85.269721     76.743304    2743.584092\n",
       "min       50.000000       5.000000      5.000000     414.000000\n",
       "25%      794.000000      79.000000     72.000000    2384.750000\n",
       "50%     1543.000000     154.000000    139.000000    4517.500000\n",
       "75%     2266.000000     227.000000    204.000000    6995.000000\n",
       "max     3000.000000     300.000000    270.000000   10329.000000"
      ]
     },
     "execution_count": 16,
     "metadata": {},
     "output_type": "execute_result"
    }
   ],
   "source": [
    "df[quantitative].describe()"
   ]
  },
  {
   "cell_type": "code",
   "execution_count": 17,
   "metadata": {},
   "outputs": [
    {
     "data": {
      "text/plain": [
       "array([[<matplotlib.axes._subplots.AxesSubplot object at 0x000000000CECDBA8>,\n",
       "        <matplotlib.axes._subplots.AxesSubplot object at 0x000000000FD7C2E8>],\n",
       "       [<matplotlib.axes._subplots.AxesSubplot object at 0x00000000103EA470>,\n",
       "        <matplotlib.axes._subplots.AxesSubplot object at 0x0000000010429E10>]],\n",
       "      dtype=object)"
      ]
     },
     "execution_count": 17,
     "metadata": {},
     "output_type": "execute_result"
    },
    {
     "data": {
      "image/png": "[encoded data removed]",
      "text/plain": [
       "<matplotlib.figure.Figure at 0xc8e2358>"
      ]
     },
     "metadata": {},
     "output_type": "display_data"
    }
   ],
   "source": [
    "from pylab import rcParams\n",
    "rcParams['figure.figsize'] = 20, 12\n",
    "df[quantitative].hist()"
   ]
  },
  {
   "cell_type": "markdown",
   "metadata": {},
   "source": [
    "## # Categorical variables - Feature engineering."
   ]
  },
  {
   "cell_type": "code",
   "execution_count": 18,
   "metadata": {},
   "outputs": [
    {
     "name": "stdout",
     "output_type": "stream",
     "text": [
      "Index([u'com_code', u'serv_order_no', u'cust_name', u'loc_add', u'city',\n",
      "       u'zip_code', u'cust_phn_no', u'order_desc', u'asset_req', u'prob_stmnt',\n",
      "       u'sol_stmnt', u'serv_tech_head', u'office_phn_no', u'currency',\n",
      "       u'bill_no'],\n",
      "      dtype='object')\n"
     ]
    }
   ],
   "source": [
    "categorical = df.select_dtypes(include = [\"object\"]).keys()\n",
    "print(categorical)"
   ]
  },
  {
   "cell_type": "code",
   "execution_count": 19,
   "metadata": {},
   "outputs": [
    {
     "data": {
      "text/plain": [
       "(6, 20000, 5, 2, 20000)"
      ]
     },
     "execution_count": 19,
     "metadata": {},
     "output_type": "execute_result"
    }
   ],
   "source": [
    "df.serv_tech_head.nunique(),df.serv_order_no.nunique(),df.order_desc.nunique(),df.asset_req.nunique(),df.bill_no.nunique()"
   ]
  },
  {
   "cell_type": "code",
   "execution_count": 20,
   "metadata": {},
   "outputs": [
    {
     "data": {
      "text/plain": [
       "(9916, 9916, 9916, 9913, 9916)"
      ]
     },
     "execution_count": 20,
     "metadata": {},
     "output_type": "execute_result"
    }
   ],
   "source": [
    "df.cust_name.nunique(),df.loc_add.nunique(),df.city.nunique(),df.zip_code.nunique(),df.cust_phn_no.nunique()"
   ]
  },
  {
   "cell_type": "code",
   "execution_count": 21,
   "metadata": {},
   "outputs": [
    {
     "data": {
      "text/plain": [
       "(1, 1, 1, 1, 1)"
      ]
     },
     "execution_count": 21,
     "metadata": {},
     "output_type": "execute_result"
    }
   ],
   "source": [
    "df.prob_stmnt.nunique(),df.sol_stmnt.nunique(),df.com_code.nunique(),df.office_phn_no.nunique(),df.currency.nunique()"
   ]
  },
  {
   "cell_type": "code",
   "execution_count": 22,
   "metadata": {},
   "outputs": [
    {
     "data": {
      "text/plain": [
       "array([u'Jack', u'Roy', u'Robert', u'Brad', u'John', u'Peter'],\n",
       "      dtype=object)"
      ]
     },
     "execution_count": 22,
     "metadata": {},
     "output_type": "execute_result"
    }
   ],
   "source": [
    "df.serv_tech_head.unique()"
   ]
  },
  {
   "cell_type": "code",
   "execution_count": 23,
   "metadata": {},
   "outputs": [
    {
     "data": {
      "text/plain": [
       "array([u'Plumbing', u'Telecom', u'Electrical', u'Masonry',\n",
       "       u'Air Conditioning'], dtype=object)"
      ]
     },
     "execution_count": 23,
     "metadata": {},
     "output_type": "execute_result"
    }
   ],
   "source": [
    "df.order_desc.unique()"
   ]
  },
  {
   "cell_type": "markdown",
   "metadata": {},
   "source": [
    "## Deleting unnecessary features from the dataset"
   ]
  },
  {
   "cell_type": "markdown",
   "metadata": {},
   "source": [
    "###  Some features like \"com_code\" , \"cust_name\" , \"loc_add\" , \"zip_code\" , \"cust_phn_no\" , \"currency\" , \"office_phn_no\" , \"serv_tech_head\" , \"prob_stmnt\" and \"sol_stmnt\" have no such importance in the analysis work so, we are dropping these features."
   ]
  },
  {
   "cell_type": "markdown",
   "metadata": {},
   "source": [
    "### And by analyzing the data we got to know that \"plan_strt_dt\" is exact same as \"actual_strt_dt\" so, we are dropping \"plan_strt_dt\""
   ]
  },
  {
   "cell_type": "code",
   "execution_count": 24,
   "metadata": {},
   "outputs": [],
   "source": [
    "df.drop(['com_code','cust_name','loc_add','zip_code','cust_phn_no','plan_strt_dt','currency','office_phn_no','serv_tech_head','prob_stmnt','sol_stmnt'], axis=1, inplace=True)"
   ]
  },
  {
   "cell_type": "code",
   "execution_count": 25,
   "metadata": {},
   "outputs": [],
   "source": [
    "df_new = df"
   ]
  },
  {
   "cell_type": "code",
   "execution_count": 26,
   "metadata": {},
   "outputs": [
    {
     "data": {
      "text/plain": [
       "(20000, 14)"
      ]
     },
     "execution_count": 26,
     "metadata": {},
     "output_type": "execute_result"
    }
   ],
   "source": [
    "df_new.shape"
   ]
  },
  {
   "cell_type": "code",
   "execution_count": 27,
   "metadata": {},
   "outputs": [
    {
     "data": {
      "text/html": [
       "<div>\n",
       "<style scoped>\n",
       "    .dataframe tbody tr th:only-of-type {\n",
       "        vertical-align: middle;\n",
       "    }\n",
       "\n",
       "    .dataframe tbody tr th {\n",
       "        vertical-align: top;\n",
       "    }\n",
       "\n",
       "    .dataframe thead th {\n",
       "        text-align: right;\n",
       "    }\n",
       "</style>\n",
       "<table border=\"1\" class=\"dataframe\">\n",
       "  <thead>\n",
       "    <tr style=\"text-align: right;\">\n",
       "      <th>col_0</th>\n",
       "      <th>count</th>\n",
       "    </tr>\n",
       "    <tr>\n",
       "      <th>order_desc</th>\n",
       "      <th></th>\n",
       "    </tr>\n",
       "  </thead>\n",
       "  <tbody>\n",
       "    <tr>\n",
       "      <th>Telecom</th>\n",
       "      <td>0.27540</td>\n",
       "    </tr>\n",
       "    <tr>\n",
       "      <th>Plumbing</th>\n",
       "      <td>0.23750</td>\n",
       "    </tr>\n",
       "    <tr>\n",
       "      <th>Electrical</th>\n",
       "      <td>0.18815</td>\n",
       "    </tr>\n",
       "    <tr>\n",
       "      <th>Air Conditioning</th>\n",
       "      <td>0.17310</td>\n",
       "    </tr>\n",
       "    <tr>\n",
       "      <th>Masonry</th>\n",
       "      <td>0.12585</td>\n",
       "    </tr>\n",
       "  </tbody>\n",
       "</table>\n",
       "</div>"
      ],
      "text/plain": [
       "col_0               count\n",
       "order_desc               \n",
       "Telecom           0.27540\n",
       "Plumbing          0.23750\n",
       "Electrical        0.18815\n",
       "Air Conditioning  0.17310\n",
       "Masonry           0.12585"
      ]
     },
     "execution_count": 27,
     "metadata": {},
     "output_type": "execute_result"
    }
   ],
   "source": [
    "order_desc_freq=pd.crosstab(index=df_new['order_desc'],columns=\"count\")  \n",
    "order_desc_freq_rel = order_desc_freq/order_desc_freq.sum() \n",
    "order_desc_freq_rel.sort_values('count', ascending=False) #relative frequencies"
   ]
  },
  {
   "cell_type": "code",
   "execution_count": 28,
   "metadata": {},
   "outputs": [],
   "source": [
    "def order_desc_categorizer(row):\n",
    "   row = str(row)\n",
    "   category = \"\"\n",
    "   if \"Telecom\" in row:\n",
    "       category = 5\n",
    "   elif \"Plumbing\" in row:\n",
    "       category = 4\n",
    "   elif \"Electrical\" in row:\n",
    "       category = 3\n",
    "   elif \"Air Conditioning\" in row:\n",
    "       category = 2\n",
    "   else:\n",
    "       category = 1\n",
    "   return category \n",
    "\n",
    "df_new[\"order_desc\"] = df_new.apply(lambda row:order_desc_categorizer(row[\"order_desc\"]),axis=1)"
   ]
  },
  {
   "cell_type": "code",
   "execution_count": 29,
   "metadata": {},
   "outputs": [
    {
     "data": {
      "text/plain": [
       "<matplotlib.axes._subplots.AxesSubplot at 0x10d772b0>"
      ]
     },
     "execution_count": 29,
     "metadata": {},
     "output_type": "execute_result"
    },
    {
     "data": {
      "image/png": "[encoded data removed]",
      "text/plain": [
       "<matplotlib.figure.Figure at 0x108c9b38>"
      ]
     },
     "metadata": {},
     "output_type": "display_data"
    }
   ],
   "source": [
    "from pylab import rcParams\n",
    "rcParams['figure.figsize'] = 8, 5\n",
    "sns.countplot(df_new[\"order_desc\"])"
   ]
  },
  {
   "cell_type": "markdown",
   "metadata": {},
   "source": [
    "* we can see that the max no. of services required were of \"Telecom\" and the least were of \"Masonry\"."
   ]
  },
  {
   "cell_type": "code",
   "execution_count": 30,
   "metadata": {},
   "outputs": [],
   "source": [
    "df_new['asset_req'] = np.where(df_new['asset_req']=='Y', '1', '0')\n",
    "df_new['asset_req'] = df_new['asset_req'].astype(dtype='int64')"
   ]
  },
  {
   "cell_type": "code",
   "execution_count": 31,
   "metadata": {},
   "outputs": [
    {
     "data": {
      "text/plain": [
       "<matplotlib.axes._subplots.AxesSubplot at 0x10d81c50>"
      ]
     },
     "execution_count": 31,
     "metadata": {},
     "output_type": "execute_result"
    },
    {
     "data": {
      "image/png": "[encoded data removed]",
      "text/plain": [
       "<matplotlib.figure.Figure at 0x109570f0>"
      ]
     },
     "metadata": {},
     "output_type": "display_data"
    }
   ],
   "source": [
    "from pylab import rcParams\n",
    "rcParams['figure.figsize'] = 6, 4\n",
    "sns.countplot(df_new[\"asset_req\"])"
   ]
  },
  {
   "cell_type": "markdown",
   "metadata": {},
   "source": [
    "* we can see that the no. of times an extra equipment is required in services from central office is lower than the no. of times they are not required. "
   ]
  },
  {
   "cell_type": "code",
   "execution_count": 32,
   "metadata": {},
   "outputs": [
    {
     "data": {
      "text/html": [
       "<div>\n",
       "<style scoped>\n",
       "    .dataframe tbody tr th:only-of-type {\n",
       "        vertical-align: middle;\n",
       "    }\n",
       "\n",
       "    .dataframe tbody tr th {\n",
       "        vertical-align: top;\n",
       "    }\n",
       "\n",
       "    .dataframe thead th {\n",
       "        text-align: right;\n",
       "    }\n",
       "</style>\n",
       "<table border=\"1\" class=\"dataframe\">\n",
       "  <thead>\n",
       "    <tr style=\"text-align: right;\">\n",
       "      <th></th>\n",
       "      <th>order_desc</th>\n",
       "      <th>asset_req</th>\n",
       "      <th>order_amt</th>\n",
       "      <th>contract_disc</th>\n",
       "      <th>serv_tax_amt</th>\n",
       "      <th>serv_contract</th>\n",
       "    </tr>\n",
       "  </thead>\n",
       "  <tbody>\n",
       "    <tr>\n",
       "      <th>count</th>\n",
       "      <td>20000.00</td>\n",
       "      <td>20000.0</td>\n",
       "      <td>20000.00</td>\n",
       "      <td>20000.00</td>\n",
       "      <td>20000.00</td>\n",
       "      <td>20000.00</td>\n",
       "    </tr>\n",
       "    <tr>\n",
       "      <th>mean</th>\n",
       "      <td>3.36</td>\n",
       "      <td>0.5</td>\n",
       "      <td>1531.01</td>\n",
       "      <td>153.15</td>\n",
       "      <td>137.84</td>\n",
       "      <td>4761.10</td>\n",
       "    </tr>\n",
       "    <tr>\n",
       "      <th>std</th>\n",
       "      <td>1.37</td>\n",
       "      <td>0.5</td>\n",
       "      <td>852.70</td>\n",
       "      <td>85.27</td>\n",
       "      <td>76.74</td>\n",
       "      <td>2743.58</td>\n",
       "    </tr>\n",
       "    <tr>\n",
       "      <th>min</th>\n",
       "      <td>1.00</td>\n",
       "      <td>0.0</td>\n",
       "      <td>50.00</td>\n",
       "      <td>5.00</td>\n",
       "      <td>5.00</td>\n",
       "      <td>414.00</td>\n",
       "    </tr>\n",
       "    <tr>\n",
       "      <th>25%</th>\n",
       "      <td>2.00</td>\n",
       "      <td>0.0</td>\n",
       "      <td>794.00</td>\n",
       "      <td>79.00</td>\n",
       "      <td>72.00</td>\n",
       "      <td>2384.75</td>\n",
       "    </tr>\n",
       "    <tr>\n",
       "      <th>50%</th>\n",
       "      <td>4.00</td>\n",
       "      <td>0.0</td>\n",
       "      <td>1543.00</td>\n",
       "      <td>154.00</td>\n",
       "      <td>139.00</td>\n",
       "      <td>4517.50</td>\n",
       "    </tr>\n",
       "    <tr>\n",
       "      <th>75%</th>\n",
       "      <td>5.00</td>\n",
       "      <td>1.0</td>\n",
       "      <td>2266.00</td>\n",
       "      <td>227.00</td>\n",
       "      <td>204.00</td>\n",
       "      <td>6995.00</td>\n",
       "    </tr>\n",
       "    <tr>\n",
       "      <th>max</th>\n",
       "      <td>5.00</td>\n",
       "      <td>1.0</td>\n",
       "      <td>3000.00</td>\n",
       "      <td>300.00</td>\n",
       "      <td>270.00</td>\n",
       "      <td>10329.00</td>\n",
       "    </tr>\n",
       "  </tbody>\n",
       "</table>\n",
       "</div>"
      ],
      "text/plain": [
       "       order_desc  asset_req  order_amt  contract_disc  serv_tax_amt  \\\n",
       "count    20000.00    20000.0   20000.00       20000.00      20000.00   \n",
       "mean         3.36        0.5    1531.01         153.15        137.84   \n",
       "std          1.37        0.5     852.70          85.27         76.74   \n",
       "min          1.00        0.0      50.00           5.00          5.00   \n",
       "25%          2.00        0.0     794.00          79.00         72.00   \n",
       "50%          4.00        0.0    1543.00         154.00        139.00   \n",
       "75%          5.00        1.0    2266.00         227.00        204.00   \n",
       "max          5.00        1.0    3000.00         300.00        270.00   \n",
       "\n",
       "       serv_contract  \n",
       "count       20000.00  \n",
       "mean         4761.10  \n",
       "std          2743.58  \n",
       "min           414.00  \n",
       "25%          2384.75  \n",
       "50%          4517.50  \n",
       "75%          6995.00  \n",
       "max         10329.00  "
      ]
     },
     "execution_count": 32,
     "metadata": {},
     "output_type": "execute_result"
    }
   ],
   "source": [
    "df_new.describe().round(2)"
   ]
  },
  {
   "cell_type": "markdown",
   "metadata": {},
   "source": [
    "## Add the column -> bill_amt"
   ]
  },
  {
   "cell_type": "code",
   "execution_count": 33,
   "metadata": {},
   "outputs": [],
   "source": [
    "df_new['bill_amt'] = df_new['order_amt'] - df_new['contract_disc'] + df_new['serv_tax_amt']"
   ]
  },
  {
   "cell_type": "code",
   "execution_count": 34,
   "metadata": {},
   "outputs": [],
   "source": [
    "df_new['bill_amt'] = df_new['bill_amt'].astype(np.float64)"
   ]
  },
  {
   "cell_type": "markdown",
   "metadata": {},
   "source": [
    "### After calculating Billing Amount we don't need features like \"order_amt\",\"contract_disc\",\"serv_tax_amt\" so, we dropped them."
   ]
  },
  {
   "cell_type": "markdown",
   "metadata": {},
   "source": [
    "* the \"Contract Discount\" is 10% for all users\n",
    "* the \"Service Tax\" is also 10% for all users"
   ]
  },
  {
   "cell_type": "code",
   "execution_count": 35,
   "metadata": {},
   "outputs": [],
   "source": [
    "df_new.drop(['order_amt','contract_disc','serv_tax_amt'], axis=1, inplace=True)"
   ]
  },
  {
   "cell_type": "code",
   "execution_count": 36,
   "metadata": {},
   "outputs": [
    {
     "data": {
      "text/html": [
       "<div>\n",
       "<style scoped>\n",
       "    .dataframe tbody tr th:only-of-type {\n",
       "        vertical-align: middle;\n",
       "    }\n",
       "\n",
       "    .dataframe tbody tr th {\n",
       "        vertical-align: top;\n",
       "    }\n",
       "\n",
       "    .dataframe thead th {\n",
       "        text-align: right;\n",
       "    }\n",
       "</style>\n",
       "<table border=\"1\" class=\"dataframe\">\n",
       "  <thead>\n",
       "    <tr style=\"text-align: right;\">\n",
       "      <th></th>\n",
       "      <th>serv_order_no</th>\n",
       "      <th>city</th>\n",
       "      <th>report_dt</th>\n",
       "      <th>actual_strt_dt</th>\n",
       "      <th>plan_fnsh_dt</th>\n",
       "      <th>actual_fnsh_dt</th>\n",
       "      <th>order_desc</th>\n",
       "      <th>asset_req</th>\n",
       "      <th>bill_no</th>\n",
       "      <th>bill_dt</th>\n",
       "      <th>serv_contract</th>\n",
       "      <th>bill_amt</th>\n",
       "    </tr>\n",
       "  </thead>\n",
       "  <tbody>\n",
       "    <tr>\n",
       "      <th>0</th>\n",
       "      <td>A-1001</td>\n",
       "      <td>Sejwegca</td>\n",
       "      <td>2018-09-18 08:47:54</td>\n",
       "      <td>2018-09-19 11:48:54</td>\n",
       "      <td>2018-09-25 11:48:00</td>\n",
       "      <td>2018-09-22 12:36:43</td>\n",
       "      <td>4</td>\n",
       "      <td>1</td>\n",
       "      <td>IFS-100001</td>\n",
       "      <td>2018-09-22 12:36:43</td>\n",
       "      <td>414</td>\n",
       "      <td>1405.0</td>\n",
       "    </tr>\n",
       "    <tr>\n",
       "      <th>1</th>\n",
       "      <td>A-1002</td>\n",
       "      <td>Kihinaezi</td>\n",
       "      <td>2018-09-27 00:05:35</td>\n",
       "      <td>2018-09-28 10:31:56</td>\n",
       "      <td>2018-10-04 10:31:00</td>\n",
       "      <td>2018-09-29 12:11:13</td>\n",
       "      <td>5</td>\n",
       "      <td>1</td>\n",
       "      <td>IFS-100002</td>\n",
       "      <td>2018-09-29 12:11:13</td>\n",
       "      <td>432</td>\n",
       "      <td>1680.0</td>\n",
       "    </tr>\n",
       "    <tr>\n",
       "      <th>2</th>\n",
       "      <td>A-1003</td>\n",
       "      <td>Ulroldol</td>\n",
       "      <td>2018-09-27 00:08:39</td>\n",
       "      <td>2018-09-28 10:44:03</td>\n",
       "      <td>2018-10-04 10:44:00</td>\n",
       "      <td>2018-09-29 15:53:33</td>\n",
       "      <td>3</td>\n",
       "      <td>0</td>\n",
       "      <td>IFS-100003</td>\n",
       "      <td>2018-09-29 15:53:33</td>\n",
       "      <td>445</td>\n",
       "      <td>757.0</td>\n",
       "    </tr>\n",
       "    <tr>\n",
       "      <th>3</th>\n",
       "      <td>A-1004</td>\n",
       "      <td>Rozahfow</td>\n",
       "      <td>2018-09-27 00:15:05</td>\n",
       "      <td>2018-09-28 11:53:11</td>\n",
       "      <td>2018-10-04 11:53:00</td>\n",
       "      <td>2018-10-02 13:12:00</td>\n",
       "      <td>1</td>\n",
       "      <td>0</td>\n",
       "      <td>IFS-100004</td>\n",
       "      <td>2018-10-02 13:12:00</td>\n",
       "      <td>516</td>\n",
       "      <td>189.0</td>\n",
       "    </tr>\n",
       "    <tr>\n",
       "      <th>4</th>\n",
       "      <td>A-1005</td>\n",
       "      <td>Pabzeftar</td>\n",
       "      <td>2018-09-27 00:19:02</td>\n",
       "      <td>2018-09-28 10:41:23</td>\n",
       "      <td>2018-10-04 10:41:23</td>\n",
       "      <td>2018-10-01 12:33:55</td>\n",
       "      <td>5</td>\n",
       "      <td>0</td>\n",
       "      <td>IFS-100005</td>\n",
       "      <td>2018-10-01 12:33:55</td>\n",
       "      <td>443</td>\n",
       "      <td>965.0</td>\n",
       "    </tr>\n",
       "  </tbody>\n",
       "</table>\n",
       "</div>"
      ],
      "text/plain": [
       "  serv_order_no       city           report_dt      actual_strt_dt  \\\n",
       "0        A-1001   Sejwegca 2018-09-18 08:47:54 2018-09-19 11:48:54   \n",
       "1        A-1002  Kihinaezi 2018-09-27 00:05:35 2018-09-28 10:31:56   \n",
       "2        A-1003   Ulroldol 2018-09-27 00:08:39 2018-09-28 10:44:03   \n",
       "3        A-1004   Rozahfow 2018-09-27 00:15:05 2018-09-28 11:53:11   \n",
       "4        A-1005  Pabzeftar 2018-09-27 00:19:02 2018-09-28 10:41:23   \n",
       "\n",
       "         plan_fnsh_dt      actual_fnsh_dt  order_desc  asset_req     bill_no  \\\n",
       "0 2018-09-25 11:48:00 2018-09-22 12:36:43           4          1  IFS-100001   \n",
       "1 2018-10-04 10:31:00 2018-09-29 12:11:13           5          1  IFS-100002   \n",
       "2 2018-10-04 10:44:00 2018-09-29 15:53:33           3          0  IFS-100003   \n",
       "3 2018-10-04 11:53:00 2018-10-02 13:12:00           1          0  IFS-100004   \n",
       "4 2018-10-04 10:41:23 2018-10-01 12:33:55           5          0  IFS-100005   \n",
       "\n",
       "              bill_dt  serv_contract  bill_amt  \n",
       "0 2018-09-22 12:36:43            414    1405.0  \n",
       "1 2018-09-29 12:11:13            432    1680.0  \n",
       "2 2018-09-29 15:53:33            445     757.0  \n",
       "3 2018-10-02 13:12:00            516     189.0  \n",
       "4 2018-10-01 12:33:55            443     965.0  "
      ]
     },
     "execution_count": 36,
     "metadata": {},
     "output_type": "execute_result"
    }
   ],
   "source": [
    "df_new.head()"
   ]
  },
  {
   "cell_type": "code",
   "execution_count": 37,
   "metadata": {},
   "outputs": [],
   "source": [
    "df_new.insert(loc=8, column='year_month', value=df_new['report_dt'].map(lambda x: 100*x.year + x.month))\n",
    "df_new.insert(loc=9, column='month', value=df_new.report_dt.dt.month)\n",
    "# +1 to make Monday=1.....until Sunday=7\n",
    "df_new.insert(loc=10, column='day', value=(df_new.report_dt.dt.dayofweek)+1)\n",
    "df_new.insert(loc=11, column='hour', value=df_new.report_dt.dt.hour)"
   ]
  },
  {
   "cell_type": "markdown",
   "metadata": {},
   "source": [
    "# Exploratory Data Analysis (EDA)"
   ]
  },
  {
   "cell_type": "markdown",
   "metadata": {},
   "source": [
    "## Checking Co-relation between each and every feature of the dataset"
   ]
  },
  {
   "cell_type": "code",
   "execution_count": 38,
   "metadata": {},
   "outputs": [
    {
     "data": {
      "text/plain": [
       "<matplotlib.axes._subplots.AxesSubplot at 0xc89f390>"
      ]
     },
     "execution_count": 38,
     "metadata": {},
     "output_type": "execute_result"
    },
    {
     "data": {
      "image/png": "[encoded data removed]",
      "text/plain": [
       "<matplotlib.figure.Figure at 0x10ce36d8>"
      ]
     },
     "metadata": {},
     "output_type": "display_data"
    }
   ],
   "source": [
    "corr = df_new.corr()\n",
    "plt.figure(figsize=(15,10))\n",
    "sns.heatmap(corr,cmap='Blues',annot=True)"
   ]
  },
  {
   "cell_type": "markdown",
   "metadata": {},
   "source": [
    "## How many orders made by the customers?"
   ]
  },
  {
   "cell_type": "code",
   "execution_count": 39,
   "metadata": {},
   "outputs": [
    {
     "data": {
      "text/html": [
       "<div>\n",
       "<style scoped>\n",
       "    .dataframe tbody tr th:only-of-type {\n",
       "        vertical-align: middle;\n",
       "    }\n",
       "\n",
       "    .dataframe tbody tr th {\n",
       "        vertical-align: top;\n",
       "    }\n",
       "\n",
       "    .dataframe thead th {\n",
       "        text-align: right;\n",
       "    }\n",
       "</style>\n",
       "<table border=\"1\" class=\"dataframe\">\n",
       "  <thead>\n",
       "    <tr style=\"text-align: right;\">\n",
       "      <th></th>\n",
       "      <th>serv_contract</th>\n",
       "      <th>city</th>\n",
       "      <th>bill_no</th>\n",
       "    </tr>\n",
       "  </thead>\n",
       "  <tbody>\n",
       "    <tr>\n",
       "      <th>0</th>\n",
       "      <td>414</td>\n",
       "      <td>Sejwegca</td>\n",
       "      <td>1</td>\n",
       "    </tr>\n",
       "    <tr>\n",
       "      <th>1</th>\n",
       "      <td>415</td>\n",
       "      <td>Jipuri</td>\n",
       "      <td>3</td>\n",
       "    </tr>\n",
       "    <tr>\n",
       "      <th>2</th>\n",
       "      <td>416</td>\n",
       "      <td>Uhezufen</td>\n",
       "      <td>2</td>\n",
       "    </tr>\n",
       "    <tr>\n",
       "      <th>3</th>\n",
       "      <td>417</td>\n",
       "      <td>Heisla</td>\n",
       "      <td>3</td>\n",
       "    </tr>\n",
       "    <tr>\n",
       "      <th>4</th>\n",
       "      <td>418</td>\n",
       "      <td>Vijipab</td>\n",
       "      <td>3</td>\n",
       "    </tr>\n",
       "  </tbody>\n",
       "</table>\n",
       "</div>"
      ],
      "text/plain": [
       "   serv_contract      city  bill_no\n",
       "0            414  Sejwegca        1\n",
       "1            415    Jipuri        3\n",
       "2            416  Uhezufen        2\n",
       "3            417    Heisla        3\n",
       "4            418   Vijipab        3"
      ]
     },
     "execution_count": 39,
     "metadata": {},
     "output_type": "execute_result"
    }
   ],
   "source": [
    "df_new.groupby(by=['serv_contract','city'], as_index=False)['bill_no'].count().head()"
   ]
  },
  {
   "cell_type": "markdown",
   "metadata": {},
   "source": [
    "####  * serv_contract acts like a customer_id in this dataset"
   ]
  },
  {
   "cell_type": "code",
   "execution_count": 91,
   "metadata": {},
   "outputs": [
    {
     "data": {
      "image/png": "[encoded data removed]",
      "text/plain": [
       "<matplotlib.figure.Figure at 0x3adad278>"
      ]
     },
     "metadata": {},
     "output_type": "display_data"
    }
   ],
   "source": [
    "orders = df_new.groupby(by=['serv_contract','city'], as_index=False)['bill_no'].count()\n",
    "\n",
    "from matplotlib.pyplot import suptitle, show\n",
    "suptitle(\"Number of Orders from different Customers\")\n",
    "rcParams['figure.figsize'] = 9, 6\n",
    "ax = sns.countplot(orders.bill_no)\n",
    "ax.set_yticks([t*300 for t in range(0,15)])\n",
    "ax.set_xlabel(\"Order Count\")\n",
    "show()"
   ]
  },
  {
   "cell_type": "markdown",
   "metadata": {},
   "source": [
    "##  Check TOP 5 most number of orders"
   ]
  },
  {
   "cell_type": "code",
   "execution_count": 41,
   "metadata": {},
   "outputs": [
    {
     "name": "stdout",
     "output_type": "stream",
     "text": [
      "The TOP 5 customers with most number of orders...\n"
     ]
    },
    {
     "data": {
      "text/html": [
       "<div>\n",
       "<style scoped>\n",
       "    .dataframe tbody tr th:only-of-type {\n",
       "        vertical-align: middle;\n",
       "    }\n",
       "\n",
       "    .dataframe tbody tr th {\n",
       "        vertical-align: top;\n",
       "    }\n",
       "\n",
       "    .dataframe thead th {\n",
       "        text-align: right;\n",
       "    }\n",
       "</style>\n",
       "<table border=\"1\" class=\"dataframe\">\n",
       "  <thead>\n",
       "    <tr style=\"text-align: right;\">\n",
       "      <th></th>\n",
       "      <th>serv_contract</th>\n",
       "      <th>city</th>\n",
       "      <th>bill_no</th>\n",
       "    </tr>\n",
       "  </thead>\n",
       "  <tbody>\n",
       "    <tr>\n",
       "      <th>573</th>\n",
       "      <td>987</td>\n",
       "      <td>Jatoozi</td>\n",
       "      <td>6</td>\n",
       "    </tr>\n",
       "    <tr>\n",
       "      <th>678</th>\n",
       "      <td>1092</td>\n",
       "      <td>Tuhoceto</td>\n",
       "      <td>6</td>\n",
       "    </tr>\n",
       "    <tr>\n",
       "      <th>1662</th>\n",
       "      <td>2076</td>\n",
       "      <td>Olugaedu</td>\n",
       "      <td>6</td>\n",
       "    </tr>\n",
       "    <tr>\n",
       "      <th>3046</th>\n",
       "      <td>3460</td>\n",
       "      <td>Muhlulat</td>\n",
       "      <td>6</td>\n",
       "    </tr>\n",
       "    <tr>\n",
       "      <th>1853</th>\n",
       "      <td>2267</td>\n",
       "      <td>Wutoel</td>\n",
       "      <td>6</td>\n",
       "    </tr>\n",
       "  </tbody>\n",
       "</table>\n",
       "</div>"
      ],
      "text/plain": [
       "      serv_contract      city  bill_no\n",
       "573             987   Jatoozi        6\n",
       "678            1092  Tuhoceto        6\n",
       "1662           2076  Olugaedu        6\n",
       "3046           3460  Muhlulat        6\n",
       "1853           2267    Wutoel        6"
      ]
     },
     "execution_count": 41,
     "metadata": {},
     "output_type": "execute_result"
    }
   ],
   "source": [
    "print('The TOP 5 customers with most number of orders...')\n",
    "orders.sort_values(by='bill_no', ascending=False).head()"
   ]
  },
  {
   "cell_type": "markdown",
   "metadata": {},
   "source": [
    "## How much money spent by the customers?"
   ]
  },
  {
   "cell_type": "code",
   "execution_count": 42,
   "metadata": {},
   "outputs": [
    {
     "data": {
      "image/png": "[encoded data removed]",
      "text/plain": [
       "<matplotlib.figure.Figure at 0x118931d0>"
      ]
     },
     "metadata": {},
     "output_type": "display_data"
    }
   ],
   "source": [
    "money_spent = df_new.groupby(by=['serv_contract','city'], as_index=False)['bill_amt'].sum()\n",
    "\n",
    "plt.subplots(figsize=(15,6))\n",
    "plt.plot(money_spent.serv_contract, money_spent.bill_amt)\n",
    "plt.xlabel('Customers ID')\n",
    "plt.ylabel('Money spent (Dollar)')\n",
    "plt.title('Money Spent by different Customers')\n",
    "plt.show()"
   ]
  },
  {
   "cell_type": "markdown",
   "metadata": {},
   "source": [
    "## Check TOP 5 highest money spent \n"
   ]
  },
  {
   "cell_type": "code",
   "execution_count": 43,
   "metadata": {},
   "outputs": [
    {
     "name": "stdout",
     "output_type": "stream",
     "text": [
      "The TOP 5 customers with highest money spent...\n"
     ]
    },
    {
     "data": {
      "text/html": [
       "<div>\n",
       "<style scoped>\n",
       "    .dataframe tbody tr th:only-of-type {\n",
       "        vertical-align: middle;\n",
       "    }\n",
       "\n",
       "    .dataframe tbody tr th {\n",
       "        vertical-align: top;\n",
       "    }\n",
       "\n",
       "    .dataframe thead th {\n",
       "        text-align: right;\n",
       "    }\n",
       "</style>\n",
       "<table border=\"1\" class=\"dataframe\">\n",
       "  <thead>\n",
       "    <tr style=\"text-align: right;\">\n",
       "      <th></th>\n",
       "      <th>serv_contract</th>\n",
       "      <th>city</th>\n",
       "      <th>bill_amt</th>\n",
       "    </tr>\n",
       "  </thead>\n",
       "  <tbody>\n",
       "    <tr>\n",
       "      <th>1372</th>\n",
       "      <td>1786</td>\n",
       "      <td>Wizneev</td>\n",
       "      <td>14220.0</td>\n",
       "    </tr>\n",
       "    <tr>\n",
       "      <th>675</th>\n",
       "      <td>1089</td>\n",
       "      <td>Wukpeovu</td>\n",
       "      <td>14145.0</td>\n",
       "    </tr>\n",
       "    <tr>\n",
       "      <th>2552</th>\n",
       "      <td>2966</td>\n",
       "      <td>Keefom</td>\n",
       "      <td>14025.0</td>\n",
       "    </tr>\n",
       "    <tr>\n",
       "      <th>5046</th>\n",
       "      <td>5460</td>\n",
       "      <td>Dunonoc</td>\n",
       "      <td>14020.0</td>\n",
       "    </tr>\n",
       "    <tr>\n",
       "      <th>5397</th>\n",
       "      <td>5811</td>\n",
       "      <td>Zarublic</td>\n",
       "      <td>13625.0</td>\n",
       "    </tr>\n",
       "  </tbody>\n",
       "</table>\n",
       "</div>"
      ],
      "text/plain": [
       "      serv_contract      city  bill_amt\n",
       "1372           1786   Wizneev   14220.0\n",
       "675            1089  Wukpeovu   14145.0\n",
       "2552           2966    Keefom   14025.0\n",
       "5046           5460   Dunonoc   14020.0\n",
       "5397           5811  Zarublic   13625.0"
      ]
     },
     "execution_count": 43,
     "metadata": {},
     "output_type": "execute_result"
    }
   ],
   "source": [
    "print('The TOP 5 customers with highest money spent...')\n",
    "money_spent.sort_values(by='bill_amt', ascending=False).head()"
   ]
  },
  {
   "cell_type": "markdown",
   "metadata": {},
   "source": [
    "# Discover patterns for Number of Orders"
   ]
  },
  {
   "cell_type": "markdown",
   "metadata": {},
   "source": [
    "## How many orders (per month)?"
   ]
  },
  {
   "cell_type": "code",
   "execution_count": 95,
   "metadata": {},
   "outputs": [
    {
     "data": {
      "image/png": "[encoded data removed]",
      "text/plain": [
       "<matplotlib.figure.Figure at 0x125e0978>"
      ]
     },
     "metadata": {},
     "output_type": "display_data"
    }
   ],
   "source": [
    "ax = df_new.groupby('bill_no')['year_month'].unique().value_counts().sort_index().plot('bar',figsize=(12,6))\n",
    "ax.set_xlabel('Month',fontsize=15)\n",
    "ax.set_ylabel('Number of Orders',fontsize=15)\n",
    "ax.set_title('Number of orders for different Months (1st Sep 2018 - 30th Dec 2018)',fontsize=15)\n",
    "ax.set_xticklabels(('Sep_18','Oct_18','Nov_18','Dec_18'), rotation='horizontal', fontsize=13)\n",
    "plt.show()"
   ]
  },
  {
   "cell_type": "markdown",
   "metadata": {},
   "source": [
    "## How many orders (per day)?"
   ]
  },
  {
   "cell_type": "code",
   "execution_count": 45,
   "metadata": {},
   "outputs": [
    {
     "data": {
      "text/plain": [
       "[1]    3694\n",
       "[2]    3414\n",
       "[3]    3195\n",
       "[4]    3663\n",
       "[5]    1655\n",
       "[6]    1049\n",
       "[7]    3330\n",
       "Name: day, dtype: int64"
      ]
     },
     "execution_count": 45,
     "metadata": {},
     "output_type": "execute_result"
    }
   ],
   "source": [
    "df_new.groupby('bill_no')['day'].unique().value_counts().sort_index()"
   ]
  },
  {
   "cell_type": "code",
   "execution_count": 46,
   "metadata": {},
   "outputs": [
    {
     "data": {
      "image/png": "[encoded data removed]",
      "text/plain": [
       "<matplotlib.figure.Figure at 0x10c70ba8>"
      ]
     },
     "metadata": {},
     "output_type": "display_data"
    }
   ],
   "source": [
    "ax = df_new.groupby('bill_no')['day'].unique().value_counts().sort_index().plot('bar',figsize=(15,6))\n",
    "ax.set_xlabel('Day',fontsize=15)\n",
    "ax.set_ylabel('Number of Orders',fontsize=15)\n",
    "ax.set_title('Number of orders for different Days',fontsize=15)\n",
    "ax.set_xticklabels(('Mon','Tue','Wed','Thur','Fri','Sat','Sun'), rotation='horizontal', fontsize=15)\n",
    "plt.show()"
   ]
  },
  {
   "cell_type": "markdown",
   "metadata": {},
   "source": [
    "## How many orders (per hour)?"
   ]
  },
  {
   "cell_type": "code",
   "execution_count": 47,
   "metadata": {},
   "outputs": [
    {
     "data": {
      "text/plain": [
       "[0]       94\n",
       "[1]       44\n",
       "[2]       31\n",
       "[4]       51\n",
       "[5]       67\n",
       "[6]      216\n",
       "[7]      654\n",
       "[8]     1306\n",
       "[9]     1700\n",
       "[10]    1841\n",
       "[11]    1882\n",
       "[12]    1757\n",
       "[13]    1703\n",
       "[14]    1675\n",
       "[15]    1624\n",
       "[16]    1525\n",
       "[17]    1076\n",
       "[18]     878\n",
       "[19]     580\n",
       "[20]     444\n",
       "[21]     380\n",
       "[22]     256\n",
       "[23]     185\n",
       "Name: hour, dtype: int64"
      ]
     },
     "execution_count": 47,
     "metadata": {},
     "output_type": "execute_result"
    }
   ],
   "source": [
    "df_new.groupby('bill_no')['hour'].unique().value_counts().iloc[:-1].sort_index()"
   ]
  },
  {
   "cell_type": "code",
   "execution_count": 48,
   "metadata": {},
   "outputs": [
    {
     "data": {
      "image/png": "[encoded data removed]",
      "text/plain": [
       "<matplotlib.figure.Figure at 0x118cb6a0>"
      ]
     },
     "metadata": {},
     "output_type": "display_data"
    }
   ],
   "source": [
    "ax = df_new.groupby('bill_no')['hour'].unique().value_counts().iloc[:-1].sort_index().plot('bar',figsize=(15,6))\n",
    "ax.set_xlabel('Hour',fontsize=15)\n",
    "ax.set_ylabel('Number of Orders',fontsize=15)\n",
    "ax.set_title('Number of orders for different Hours',fontsize=15)\n",
    "ax.set_xticklabels(range(0,23), rotation='horizontal', fontsize=15)\n",
    "plt.show()"
   ]
  },
  {
   "cell_type": "markdown",
   "metadata": {},
   "source": [
    "# Discover patterns for each City"
   ]
  },
  {
   "cell_type": "code",
   "execution_count": 49,
   "metadata": {},
   "outputs": [
    {
     "data": {
      "text/html": [
       "<div>\n",
       "<style scoped>\n",
       "    .dataframe tbody tr th:only-of-type {\n",
       "        vertical-align: middle;\n",
       "    }\n",
       "\n",
       "    .dataframe tbody tr th {\n",
       "        vertical-align: top;\n",
       "    }\n",
       "\n",
       "    .dataframe thead th {\n",
       "        text-align: right;\n",
       "    }\n",
       "</style>\n",
       "<table border=\"1\" class=\"dataframe\">\n",
       "  <thead>\n",
       "    <tr style=\"text-align: right;\">\n",
       "      <th></th>\n",
       "      <th>serv_order_no</th>\n",
       "      <th>city</th>\n",
       "      <th>report_dt</th>\n",
       "      <th>actual_strt_dt</th>\n",
       "      <th>plan_fnsh_dt</th>\n",
       "      <th>actual_fnsh_dt</th>\n",
       "      <th>order_desc</th>\n",
       "      <th>asset_req</th>\n",
       "      <th>year_month</th>\n",
       "      <th>month</th>\n",
       "      <th>day</th>\n",
       "      <th>hour</th>\n",
       "      <th>bill_no</th>\n",
       "      <th>bill_dt</th>\n",
       "      <th>serv_contract</th>\n",
       "      <th>bill_amt</th>\n",
       "    </tr>\n",
       "  </thead>\n",
       "  <tbody>\n",
       "    <tr>\n",
       "      <th>0</th>\n",
       "      <td>A-1001</td>\n",
       "      <td>Sejwegca</td>\n",
       "      <td>2018-09-18 08:47:54</td>\n",
       "      <td>2018-09-19 11:48:54</td>\n",
       "      <td>2018-09-25 11:48:00</td>\n",
       "      <td>2018-09-22 12:36:43</td>\n",
       "      <td>4</td>\n",
       "      <td>1</td>\n",
       "      <td>201809</td>\n",
       "      <td>9</td>\n",
       "      <td>2</td>\n",
       "      <td>8</td>\n",
       "      <td>IFS-100001</td>\n",
       "      <td>2018-09-22 12:36:43</td>\n",
       "      <td>414</td>\n",
       "      <td>1405.0</td>\n",
       "    </tr>\n",
       "    <tr>\n",
       "      <th>1</th>\n",
       "      <td>A-1002</td>\n",
       "      <td>Kihinaezi</td>\n",
       "      <td>2018-09-27 00:05:35</td>\n",
       "      <td>2018-09-28 10:31:56</td>\n",
       "      <td>2018-10-04 10:31:00</td>\n",
       "      <td>2018-09-29 12:11:13</td>\n",
       "      <td>5</td>\n",
       "      <td>1</td>\n",
       "      <td>201809</td>\n",
       "      <td>9</td>\n",
       "      <td>4</td>\n",
       "      <td>0</td>\n",
       "      <td>IFS-100002</td>\n",
       "      <td>2018-09-29 12:11:13</td>\n",
       "      <td>432</td>\n",
       "      <td>1680.0</td>\n",
       "    </tr>\n",
       "    <tr>\n",
       "      <th>2</th>\n",
       "      <td>A-1003</td>\n",
       "      <td>Ulroldol</td>\n",
       "      <td>2018-09-27 00:08:39</td>\n",
       "      <td>2018-09-28 10:44:03</td>\n",
       "      <td>2018-10-04 10:44:00</td>\n",
       "      <td>2018-09-29 15:53:33</td>\n",
       "      <td>3</td>\n",
       "      <td>0</td>\n",
       "      <td>201809</td>\n",
       "      <td>9</td>\n",
       "      <td>4</td>\n",
       "      <td>0</td>\n",
       "      <td>IFS-100003</td>\n",
       "      <td>2018-09-29 15:53:33</td>\n",
       "      <td>445</td>\n",
       "      <td>757.0</td>\n",
       "    </tr>\n",
       "    <tr>\n",
       "      <th>3</th>\n",
       "      <td>A-1004</td>\n",
       "      <td>Rozahfow</td>\n",
       "      <td>2018-09-27 00:15:05</td>\n",
       "      <td>2018-09-28 11:53:11</td>\n",
       "      <td>2018-10-04 11:53:00</td>\n",
       "      <td>2018-10-02 13:12:00</td>\n",
       "      <td>1</td>\n",
       "      <td>0</td>\n",
       "      <td>201809</td>\n",
       "      <td>9</td>\n",
       "      <td>4</td>\n",
       "      <td>0</td>\n",
       "      <td>IFS-100004</td>\n",
       "      <td>2018-10-02 13:12:00</td>\n",
       "      <td>516</td>\n",
       "      <td>189.0</td>\n",
       "    </tr>\n",
       "    <tr>\n",
       "      <th>4</th>\n",
       "      <td>A-1005</td>\n",
       "      <td>Pabzeftar</td>\n",
       "      <td>2018-09-27 00:19:02</td>\n",
       "      <td>2018-09-28 10:41:23</td>\n",
       "      <td>2018-10-04 10:41:23</td>\n",
       "      <td>2018-10-01 12:33:55</td>\n",
       "      <td>5</td>\n",
       "      <td>0</td>\n",
       "      <td>201809</td>\n",
       "      <td>9</td>\n",
       "      <td>4</td>\n",
       "      <td>0</td>\n",
       "      <td>IFS-100005</td>\n",
       "      <td>2018-10-01 12:33:55</td>\n",
       "      <td>443</td>\n",
       "      <td>965.0</td>\n",
       "    </tr>\n",
       "  </tbody>\n",
       "</table>\n",
       "</div>"
      ],
      "text/plain": [
       "  serv_order_no       city           report_dt      actual_strt_dt  \\\n",
       "0        A-1001   Sejwegca 2018-09-18 08:47:54 2018-09-19 11:48:54   \n",
       "1        A-1002  Kihinaezi 2018-09-27 00:05:35 2018-09-28 10:31:56   \n",
       "2        A-1003   Ulroldol 2018-09-27 00:08:39 2018-09-28 10:44:03   \n",
       "3        A-1004   Rozahfow 2018-09-27 00:15:05 2018-09-28 11:53:11   \n",
       "4        A-1005  Pabzeftar 2018-09-27 00:19:02 2018-09-28 10:41:23   \n",
       "\n",
       "         plan_fnsh_dt      actual_fnsh_dt  order_desc  asset_req  year_month  \\\n",
       "0 2018-09-25 11:48:00 2018-09-22 12:36:43           4          1      201809   \n",
       "1 2018-10-04 10:31:00 2018-09-29 12:11:13           5          1      201809   \n",
       "2 2018-10-04 10:44:00 2018-09-29 15:53:33           3          0      201809   \n",
       "3 2018-10-04 11:53:00 2018-10-02 13:12:00           1          0      201809   \n",
       "4 2018-10-04 10:41:23 2018-10-01 12:33:55           5          0      201809   \n",
       "\n",
       "   month  day  hour     bill_no             bill_dt  serv_contract  bill_amt  \n",
       "0      9    2     8  IFS-100001 2018-09-22 12:36:43            414    1405.0  \n",
       "1      9    4     0  IFS-100002 2018-09-29 12:11:13            432    1680.0  \n",
       "2      9    4     0  IFS-100003 2018-09-29 15:53:33            445     757.0  \n",
       "3      9    4     0  IFS-100004 2018-10-02 13:12:00            516     189.0  \n",
       "4      9    4     0  IFS-100005 2018-10-01 12:33:55            443     965.0  "
      ]
     },
     "execution_count": 49,
     "metadata": {},
     "output_type": "execute_result"
    }
   ],
   "source": [
    "df_new.head()"
   ]
  },
  {
   "cell_type": "markdown",
   "metadata": {},
   "source": [
    "## How much money spent by each city?"
   ]
  },
  {
   "cell_type": "code",
   "execution_count": 94,
   "metadata": {},
   "outputs": [
    {
     "data": {
      "image/png": "[encoded data removed]",
      "text/plain": [
       "<matplotlib.figure.Figure at 0x3adc27b8>"
      ]
     },
     "metadata": {},
     "output_type": "display_data"
    }
   ],
   "source": [
    "group_country_amount_spent = df_new.groupby('city')['bill_amt'].sum().sort_values()\n",
    "\n",
    "plt.subplots(figsize=(15,8))\n",
    "group_country_amount_spent.plot('barh', fontsize=12)\n",
    "plt.xlabel('Money Spent (Dollar)', fontsize=12)\n",
    "plt.ylabel('City', fontsize=12)\n",
    "plt.title('Money Spent by different Cities', fontsize=12)\n",
    "plt.show()"
   ]
  },
  {
   "cell_type": "markdown",
   "metadata": {},
   "source": [
    "## # Calculating \"Downtime\""
   ]
  },
  {
   "cell_type": "code",
   "execution_count": 51,
   "metadata": {},
   "outputs": [],
   "source": [
    "df_new['downtime']=df_new['actual_fnsh_dt']-df_new['report_dt']"
   ]
  },
  {
   "cell_type": "code",
   "execution_count": 52,
   "metadata": {},
   "outputs": [
    {
     "data": {
      "text/plain": [
       "19530"
      ]
     },
     "execution_count": 52,
     "metadata": {},
     "output_type": "execute_result"
    }
   ],
   "source": [
    "df_new.downtime.nunique()"
   ]
  },
  {
   "cell_type": "code",
   "execution_count": 93,
   "metadata": {},
   "outputs": [
    {
     "data": {
      "text/plain": [
       "count                     20000\n",
       "mean     4 days 10:26:11.786299\n",
       "std      1 days 17:20:26.023129\n",
       "min             1 days 01:29:44\n",
       "25%             2 days 22:31:26\n",
       "50%      4 days 10:03:58.500000\n",
       "75%      5 days 22:28:04.500000\n",
       "max             7 days 19:04:43\n",
       "Name: downtime, dtype: object"
      ]
     },
     "execution_count": 93,
     "metadata": {},
     "output_type": "execute_result"
    }
   ],
   "source": [
    "df_new['downtime'].describe()"
   ]
  },
  {
   "cell_type": "markdown",
   "metadata": {},
   "source": [
    "#### * Downtime ranges from \"1 day 1 hr and 29 mins to 7 days 19 hrs and 4 mins\" approximately."
   ]
  },
  {
   "cell_type": "markdown",
   "metadata": {},
   "source": [
    "## # Calculating \"Mean Time To Repair\""
   ]
  },
  {
   "cell_type": "code",
   "execution_count": 55,
   "metadata": {},
   "outputs": [],
   "source": [
    "df_new['time_to_repair']=df_new['actual_fnsh_dt']-df_new['actual_strt_dt']"
   ]
  },
  {
   "cell_type": "code",
   "execution_count": 56,
   "metadata": {},
   "outputs": [
    {
     "data": {
      "text/plain": [
       "19247"
      ]
     },
     "execution_count": 56,
     "metadata": {},
     "output_type": "execute_result"
    }
   ],
   "source": [
    "df_new.time_to_repair.nunique()"
   ]
  },
  {
   "cell_type": "code",
   "execution_count": 57,
   "metadata": {},
   "outputs": [
    {
     "data": {
      "text/plain": [
       "Timedelta('3 days 10:41:50.947650')"
      ]
     },
     "execution_count": 57,
     "metadata": {},
     "output_type": "execute_result"
    }
   ],
   "source": [
    "df_new['time_to_repair'].mean()"
   ]
  },
  {
   "cell_type": "markdown",
   "metadata": {},
   "source": [
    "#### * Mean Time To Repair is \"3 days 10 hrs and 41 mins\" approximately."
   ]
  },
  {
   "cell_type": "markdown",
   "metadata": {},
   "source": [
    "## # Calculating \"Mean Time Between Failure\""
   ]
  },
  {
   "cell_type": "code",
   "execution_count": 58,
   "metadata": {},
   "outputs": [],
   "source": [
    "df_new['prev_order_actual_fnsh_dt'] = df_new['actual_fnsh_dt'].shift()"
   ]
  },
  {
   "cell_type": "code",
   "execution_count": 68,
   "metadata": {},
   "outputs": [
    {
     "data": {
      "text/html": [
       "<div>\n",
       "<style scoped>\n",
       "    .dataframe tbody tr th:only-of-type {\n",
       "        vertical-align: middle;\n",
       "    }\n",
       "\n",
       "    .dataframe tbody tr th {\n",
       "        vertical-align: top;\n",
       "    }\n",
       "\n",
       "    .dataframe thead th {\n",
       "        text-align: right;\n",
       "    }\n",
       "</style>\n",
       "<table border=\"1\" class=\"dataframe\">\n",
       "  <thead>\n",
       "    <tr style=\"text-align: right;\">\n",
       "      <th></th>\n",
       "      <th>serv_order_no</th>\n",
       "      <th>city</th>\n",
       "      <th>report_dt</th>\n",
       "      <th>actual_strt_dt</th>\n",
       "      <th>plan_fnsh_dt</th>\n",
       "      <th>actual_fnsh_dt</th>\n",
       "      <th>order_desc</th>\n",
       "      <th>asset_req</th>\n",
       "      <th>year_month</th>\n",
       "      <th>month</th>\n",
       "      <th>...</th>\n",
       "      <th>bill_no</th>\n",
       "      <th>bill_dt</th>\n",
       "      <th>serv_contract</th>\n",
       "      <th>bill_amt</th>\n",
       "      <th>downtime</th>\n",
       "      <th>time_to_repair</th>\n",
       "      <th>prev_order_actual_fnsh_dt</th>\n",
       "      <th>mtbf</th>\n",
       "      <th>ttl_elaps_tm</th>\n",
       "      <th>dwn_tm_ratio</th>\n",
       "    </tr>\n",
       "  </thead>\n",
       "  <tbody>\n",
       "    <tr>\n",
       "      <th>0</th>\n",
       "      <td>A-1001</td>\n",
       "      <td>Sejwegca</td>\n",
       "      <td>2018-09-18 08:47:54</td>\n",
       "      <td>2018-09-19 11:48:54</td>\n",
       "      <td>2018-09-25 11:48:00</td>\n",
       "      <td>2018-09-22 12:36:43</td>\n",
       "      <td>4</td>\n",
       "      <td>1</td>\n",
       "      <td>201809</td>\n",
       "      <td>9</td>\n",
       "      <td>...</td>\n",
       "      <td>IFS-100001</td>\n",
       "      <td>2018-09-22 12:36:43</td>\n",
       "      <td>414</td>\n",
       "      <td>1405.0</td>\n",
       "      <td>4 days 03:48:49</td>\n",
       "      <td>3 days 00:47:49</td>\n",
       "      <td>NaT</td>\n",
       "      <td>NaT</td>\n",
       "      <td>NaT</td>\n",
       "      <td>NaN</td>\n",
       "    </tr>\n",
       "    <tr>\n",
       "      <th>1</th>\n",
       "      <td>A-1002</td>\n",
       "      <td>Kihinaezi</td>\n",
       "      <td>2018-09-27 00:05:35</td>\n",
       "      <td>2018-09-28 10:31:56</td>\n",
       "      <td>2018-10-04 10:31:00</td>\n",
       "      <td>2018-09-29 12:11:13</td>\n",
       "      <td>5</td>\n",
       "      <td>1</td>\n",
       "      <td>201809</td>\n",
       "      <td>9</td>\n",
       "      <td>...</td>\n",
       "      <td>IFS-100002</td>\n",
       "      <td>2018-09-29 12:11:13</td>\n",
       "      <td>432</td>\n",
       "      <td>1680.0</td>\n",
       "      <td>2 days 12:05:38</td>\n",
       "      <td>1 days 01:39:17</td>\n",
       "      <td>2018-09-22 12:36:43</td>\n",
       "      <td>-5 days +12:31:08</td>\n",
       "      <td>6 days 23:34:30</td>\n",
       "      <td>0.358609</td>\n",
       "    </tr>\n",
       "    <tr>\n",
       "      <th>2</th>\n",
       "      <td>A-1003</td>\n",
       "      <td>Ulroldol</td>\n",
       "      <td>2018-09-27 00:08:39</td>\n",
       "      <td>2018-09-28 10:44:03</td>\n",
       "      <td>2018-10-04 10:44:00</td>\n",
       "      <td>2018-09-29 15:53:33</td>\n",
       "      <td>3</td>\n",
       "      <td>0</td>\n",
       "      <td>201809</td>\n",
       "      <td>9</td>\n",
       "      <td>...</td>\n",
       "      <td>IFS-100003</td>\n",
       "      <td>2018-09-29 15:53:33</td>\n",
       "      <td>445</td>\n",
       "      <td>757.0</td>\n",
       "      <td>2 days 15:44:54</td>\n",
       "      <td>1 days 05:09:30</td>\n",
       "      <td>2018-09-29 12:11:13</td>\n",
       "      <td>2 days 12:02:34</td>\n",
       "      <td>0 days 03:42:20</td>\n",
       "      <td>17.203448</td>\n",
       "    </tr>\n",
       "  </tbody>\n",
       "</table>\n",
       "<p>3 rows × 22 columns</p>\n",
       "</div>"
      ],
      "text/plain": [
       "  serv_order_no       city           report_dt      actual_strt_dt  \\\n",
       "0        A-1001   Sejwegca 2018-09-18 08:47:54 2018-09-19 11:48:54   \n",
       "1        A-1002  Kihinaezi 2018-09-27 00:05:35 2018-09-28 10:31:56   \n",
       "2        A-1003   Ulroldol 2018-09-27 00:08:39 2018-09-28 10:44:03   \n",
       "\n",
       "         plan_fnsh_dt      actual_fnsh_dt  order_desc  asset_req  year_month  \\\n",
       "0 2018-09-25 11:48:00 2018-09-22 12:36:43           4          1      201809   \n",
       "1 2018-10-04 10:31:00 2018-09-29 12:11:13           5          1      201809   \n",
       "2 2018-10-04 10:44:00 2018-09-29 15:53:33           3          0      201809   \n",
       "\n",
       "   month     ...          bill_no             bill_dt serv_contract bill_amt  \\\n",
       "0      9     ...       IFS-100001 2018-09-22 12:36:43           414   1405.0   \n",
       "1      9     ...       IFS-100002 2018-09-29 12:11:13           432   1680.0   \n",
       "2      9     ...       IFS-100003 2018-09-29 15:53:33           445    757.0   \n",
       "\n",
       "         downtime  time_to_repair prev_order_actual_fnsh_dt              mtbf  \\\n",
       "0 4 days 03:48:49 3 days 00:47:49                       NaT               NaT   \n",
       "1 2 days 12:05:38 1 days 01:39:17       2018-09-22 12:36:43 -5 days +12:31:08   \n",
       "2 2 days 15:44:54 1 days 05:09:30       2018-09-29 12:11:13   2 days 12:02:34   \n",
       "\n",
       "     ttl_elaps_tm dwn_tm_ratio  \n",
       "0             NaT          NaN  \n",
       "1 6 days 23:34:30     0.358609  \n",
       "2 0 days 03:42:20    17.203448  \n",
       "\n",
       "[3 rows x 22 columns]"
      ]
     },
     "execution_count": 68,
     "metadata": {},
     "output_type": "execute_result"
    }
   ],
   "source": [
    "df_new['mtbf']=df_new['prev_order_actual_fnsh_dt']-df_new['report_dt']\n",
    "df_new.head(3)"
   ]
  },
  {
   "cell_type": "code",
   "execution_count": 69,
   "metadata": {},
   "outputs": [
    {
     "data": {
      "text/plain": [
       "Timedelta('4 days 10:18:57.285164')"
      ]
     },
     "execution_count": 69,
     "metadata": {},
     "output_type": "execute_result"
    }
   ],
   "source": [
    "df_new['mtbf'].mean()"
   ]
  },
  {
   "cell_type": "markdown",
   "metadata": {},
   "source": [
    "#### * Mean Time Between Failure is \"4 days 10 hrs and 18 mins\" approximately."
   ]
  },
  {
   "cell_type": "markdown",
   "metadata": {},
   "source": [
    "## # Calculating \"Downtime Ratio\" i.e. (downtime/total elapsed time)"
   ]
  },
  {
   "cell_type": "code",
   "execution_count": 70,
   "metadata": {},
   "outputs": [
    {
     "data": {
      "text/html": [
       "<div>\n",
       "<style scoped>\n",
       "    .dataframe tbody tr th:only-of-type {\n",
       "        vertical-align: middle;\n",
       "    }\n",
       "\n",
       "    .dataframe tbody tr th {\n",
       "        vertical-align: top;\n",
       "    }\n",
       "\n",
       "    .dataframe thead th {\n",
       "        text-align: right;\n",
       "    }\n",
       "</style>\n",
       "<table border=\"1\" class=\"dataframe\">\n",
       "  <thead>\n",
       "    <tr style=\"text-align: right;\">\n",
       "      <th></th>\n",
       "      <th>serv_order_no</th>\n",
       "      <th>city</th>\n",
       "      <th>report_dt</th>\n",
       "      <th>actual_strt_dt</th>\n",
       "      <th>plan_fnsh_dt</th>\n",
       "      <th>actual_fnsh_dt</th>\n",
       "      <th>order_desc</th>\n",
       "      <th>asset_req</th>\n",
       "      <th>year_month</th>\n",
       "      <th>month</th>\n",
       "      <th>...</th>\n",
       "      <th>bill_no</th>\n",
       "      <th>bill_dt</th>\n",
       "      <th>serv_contract</th>\n",
       "      <th>bill_amt</th>\n",
       "      <th>downtime</th>\n",
       "      <th>time_to_repair</th>\n",
       "      <th>prev_order_actual_fnsh_dt</th>\n",
       "      <th>mtbf</th>\n",
       "      <th>ttl_elaps_tm</th>\n",
       "      <th>dwn_tm_ratio</th>\n",
       "    </tr>\n",
       "  </thead>\n",
       "  <tbody>\n",
       "    <tr>\n",
       "      <th>0</th>\n",
       "      <td>A-1001</td>\n",
       "      <td>Sejwegca</td>\n",
       "      <td>2018-09-18 08:47:54</td>\n",
       "      <td>2018-09-19 11:48:54</td>\n",
       "      <td>2018-09-25 11:48:00</td>\n",
       "      <td>2018-09-22 12:36:43</td>\n",
       "      <td>4</td>\n",
       "      <td>1</td>\n",
       "      <td>201809</td>\n",
       "      <td>9</td>\n",
       "      <td>...</td>\n",
       "      <td>IFS-100001</td>\n",
       "      <td>2018-09-22 12:36:43</td>\n",
       "      <td>414</td>\n",
       "      <td>1405.0</td>\n",
       "      <td>4 days 03:48:49</td>\n",
       "      <td>3 days 00:47:49</td>\n",
       "      <td>NaT</td>\n",
       "      <td>NaT</td>\n",
       "      <td>NaT</td>\n",
       "      <td>NaN</td>\n",
       "    </tr>\n",
       "    <tr>\n",
       "      <th>1</th>\n",
       "      <td>A-1002</td>\n",
       "      <td>Kihinaezi</td>\n",
       "      <td>2018-09-27 00:05:35</td>\n",
       "      <td>2018-09-28 10:31:56</td>\n",
       "      <td>2018-10-04 10:31:00</td>\n",
       "      <td>2018-09-29 12:11:13</td>\n",
       "      <td>5</td>\n",
       "      <td>1</td>\n",
       "      <td>201809</td>\n",
       "      <td>9</td>\n",
       "      <td>...</td>\n",
       "      <td>IFS-100002</td>\n",
       "      <td>2018-09-29 12:11:13</td>\n",
       "      <td>432</td>\n",
       "      <td>1680.0</td>\n",
       "      <td>2 days 12:05:38</td>\n",
       "      <td>1 days 01:39:17</td>\n",
       "      <td>2018-09-22 12:36:43</td>\n",
       "      <td>-5 days +12:31:08</td>\n",
       "      <td>6 days 23:34:30</td>\n",
       "      <td>0.358609</td>\n",
       "    </tr>\n",
       "    <tr>\n",
       "      <th>2</th>\n",
       "      <td>A-1003</td>\n",
       "      <td>Ulroldol</td>\n",
       "      <td>2018-09-27 00:08:39</td>\n",
       "      <td>2018-09-28 10:44:03</td>\n",
       "      <td>2018-10-04 10:44:00</td>\n",
       "      <td>2018-09-29 15:53:33</td>\n",
       "      <td>3</td>\n",
       "      <td>0</td>\n",
       "      <td>201809</td>\n",
       "      <td>9</td>\n",
       "      <td>...</td>\n",
       "      <td>IFS-100003</td>\n",
       "      <td>2018-09-29 15:53:33</td>\n",
       "      <td>445</td>\n",
       "      <td>757.0</td>\n",
       "      <td>2 days 15:44:54</td>\n",
       "      <td>1 days 05:09:30</td>\n",
       "      <td>2018-09-29 12:11:13</td>\n",
       "      <td>2 days 12:02:34</td>\n",
       "      <td>0 days 03:42:20</td>\n",
       "      <td>17.203448</td>\n",
       "    </tr>\n",
       "  </tbody>\n",
       "</table>\n",
       "<p>3 rows × 22 columns</p>\n",
       "</div>"
      ],
      "text/plain": [
       "  serv_order_no       city           report_dt      actual_strt_dt  \\\n",
       "0        A-1001   Sejwegca 2018-09-18 08:47:54 2018-09-19 11:48:54   \n",
       "1        A-1002  Kihinaezi 2018-09-27 00:05:35 2018-09-28 10:31:56   \n",
       "2        A-1003   Ulroldol 2018-09-27 00:08:39 2018-09-28 10:44:03   \n",
       "\n",
       "         plan_fnsh_dt      actual_fnsh_dt  order_desc  asset_req  year_month  \\\n",
       "0 2018-09-25 11:48:00 2018-09-22 12:36:43           4          1      201809   \n",
       "1 2018-10-04 10:31:00 2018-09-29 12:11:13           5          1      201809   \n",
       "2 2018-10-04 10:44:00 2018-09-29 15:53:33           3          0      201809   \n",
       "\n",
       "   month     ...          bill_no             bill_dt serv_contract bill_amt  \\\n",
       "0      9     ...       IFS-100001 2018-09-22 12:36:43           414   1405.0   \n",
       "1      9     ...       IFS-100002 2018-09-29 12:11:13           432   1680.0   \n",
       "2      9     ...       IFS-100003 2018-09-29 15:53:33           445    757.0   \n",
       "\n",
       "         downtime  time_to_repair prev_order_actual_fnsh_dt              mtbf  \\\n",
       "0 4 days 03:48:49 3 days 00:47:49                       NaT               NaT   \n",
       "1 2 days 12:05:38 1 days 01:39:17       2018-09-22 12:36:43 -5 days +12:31:08   \n",
       "2 2 days 15:44:54 1 days 05:09:30       2018-09-29 12:11:13   2 days 12:02:34   \n",
       "\n",
       "     ttl_elaps_tm dwn_tm_ratio  \n",
       "0             NaT          NaN  \n",
       "1 6 days 23:34:30     0.358609  \n",
       "2 0 days 03:42:20    17.203448  \n",
       "\n",
       "[3 rows x 22 columns]"
      ]
     },
     "execution_count": 70,
     "metadata": {},
     "output_type": "execute_result"
    }
   ],
   "source": [
    "df_new['ttl_elaps_tm']=df_new['actual_fnsh_dt']-df_new['prev_order_actual_fnsh_dt']\n",
    "df_new.head(3)"
   ]
  },
  {
   "cell_type": "code",
   "execution_count": 71,
   "metadata": {},
   "outputs": [
    {
     "data": {
      "text/html": [
       "<div>\n",
       "<style scoped>\n",
       "    .dataframe tbody tr th:only-of-type {\n",
       "        vertical-align: middle;\n",
       "    }\n",
       "\n",
       "    .dataframe tbody tr th {\n",
       "        vertical-align: top;\n",
       "    }\n",
       "\n",
       "    .dataframe thead th {\n",
       "        text-align: right;\n",
       "    }\n",
       "</style>\n",
       "<table border=\"1\" class=\"dataframe\">\n",
       "  <thead>\n",
       "    <tr style=\"text-align: right;\">\n",
       "      <th></th>\n",
       "      <th>serv_order_no</th>\n",
       "      <th>city</th>\n",
       "      <th>report_dt</th>\n",
       "      <th>actual_strt_dt</th>\n",
       "      <th>plan_fnsh_dt</th>\n",
       "      <th>actual_fnsh_dt</th>\n",
       "      <th>order_desc</th>\n",
       "      <th>asset_req</th>\n",
       "      <th>year_month</th>\n",
       "      <th>month</th>\n",
       "      <th>...</th>\n",
       "      <th>bill_no</th>\n",
       "      <th>bill_dt</th>\n",
       "      <th>serv_contract</th>\n",
       "      <th>bill_amt</th>\n",
       "      <th>downtime</th>\n",
       "      <th>time_to_repair</th>\n",
       "      <th>prev_order_actual_fnsh_dt</th>\n",
       "      <th>mtbf</th>\n",
       "      <th>ttl_elaps_tm</th>\n",
       "      <th>dwn_tm_ratio</th>\n",
       "    </tr>\n",
       "  </thead>\n",
       "  <tbody>\n",
       "    <tr>\n",
       "      <th>0</th>\n",
       "      <td>A-1001</td>\n",
       "      <td>Sejwegca</td>\n",
       "      <td>2018-09-18 08:47:54</td>\n",
       "      <td>2018-09-19 11:48:54</td>\n",
       "      <td>2018-09-25 11:48:00</td>\n",
       "      <td>2018-09-22 12:36:43</td>\n",
       "      <td>4</td>\n",
       "      <td>1</td>\n",
       "      <td>201809</td>\n",
       "      <td>9</td>\n",
       "      <td>...</td>\n",
       "      <td>IFS-100001</td>\n",
       "      <td>2018-09-22 12:36:43</td>\n",
       "      <td>414</td>\n",
       "      <td>1405.0</td>\n",
       "      <td>4 days 03:48:49</td>\n",
       "      <td>3 days 00:47:49</td>\n",
       "      <td>NaT</td>\n",
       "      <td>NaT</td>\n",
       "      <td>NaT</td>\n",
       "      <td>NaN</td>\n",
       "    </tr>\n",
       "    <tr>\n",
       "      <th>1</th>\n",
       "      <td>A-1002</td>\n",
       "      <td>Kihinaezi</td>\n",
       "      <td>2018-09-27 00:05:35</td>\n",
       "      <td>2018-09-28 10:31:56</td>\n",
       "      <td>2018-10-04 10:31:00</td>\n",
       "      <td>2018-09-29 12:11:13</td>\n",
       "      <td>5</td>\n",
       "      <td>1</td>\n",
       "      <td>201809</td>\n",
       "      <td>9</td>\n",
       "      <td>...</td>\n",
       "      <td>IFS-100002</td>\n",
       "      <td>2018-09-29 12:11:13</td>\n",
       "      <td>432</td>\n",
       "      <td>1680.0</td>\n",
       "      <td>2 days 12:05:38</td>\n",
       "      <td>1 days 01:39:17</td>\n",
       "      <td>2018-09-22 12:36:43</td>\n",
       "      <td>-5 days +12:31:08</td>\n",
       "      <td>6 days 23:34:30</td>\n",
       "      <td>0.358609</td>\n",
       "    </tr>\n",
       "    <tr>\n",
       "      <th>2</th>\n",
       "      <td>A-1003</td>\n",
       "      <td>Ulroldol</td>\n",
       "      <td>2018-09-27 00:08:39</td>\n",
       "      <td>2018-09-28 10:44:03</td>\n",
       "      <td>2018-10-04 10:44:00</td>\n",
       "      <td>2018-09-29 15:53:33</td>\n",
       "      <td>3</td>\n",
       "      <td>0</td>\n",
       "      <td>201809</td>\n",
       "      <td>9</td>\n",
       "      <td>...</td>\n",
       "      <td>IFS-100003</td>\n",
       "      <td>2018-09-29 15:53:33</td>\n",
       "      <td>445</td>\n",
       "      <td>757.0</td>\n",
       "      <td>2 days 15:44:54</td>\n",
       "      <td>1 days 05:09:30</td>\n",
       "      <td>2018-09-29 12:11:13</td>\n",
       "      <td>2 days 12:02:34</td>\n",
       "      <td>0 days 03:42:20</td>\n",
       "      <td>17.203448</td>\n",
       "    </tr>\n",
       "  </tbody>\n",
       "</table>\n",
       "<p>3 rows × 22 columns</p>\n",
       "</div>"
      ],
      "text/plain": [
       "  serv_order_no       city           report_dt      actual_strt_dt  \\\n",
       "0        A-1001   Sejwegca 2018-09-18 08:47:54 2018-09-19 11:48:54   \n",
       "1        A-1002  Kihinaezi 2018-09-27 00:05:35 2018-09-28 10:31:56   \n",
       "2        A-1003   Ulroldol 2018-09-27 00:08:39 2018-09-28 10:44:03   \n",
       "\n",
       "         plan_fnsh_dt      actual_fnsh_dt  order_desc  asset_req  year_month  \\\n",
       "0 2018-09-25 11:48:00 2018-09-22 12:36:43           4          1      201809   \n",
       "1 2018-10-04 10:31:00 2018-09-29 12:11:13           5          1      201809   \n",
       "2 2018-10-04 10:44:00 2018-09-29 15:53:33           3          0      201809   \n",
       "\n",
       "   month     ...          bill_no             bill_dt serv_contract bill_amt  \\\n",
       "0      9     ...       IFS-100001 2018-09-22 12:36:43           414   1405.0   \n",
       "1      9     ...       IFS-100002 2018-09-29 12:11:13           432   1680.0   \n",
       "2      9     ...       IFS-100003 2018-09-29 15:53:33           445    757.0   \n",
       "\n",
       "         downtime  time_to_repair prev_order_actual_fnsh_dt              mtbf  \\\n",
       "0 4 days 03:48:49 3 days 00:47:49                       NaT               NaT   \n",
       "1 2 days 12:05:38 1 days 01:39:17       2018-09-22 12:36:43 -5 days +12:31:08   \n",
       "2 2 days 15:44:54 1 days 05:09:30       2018-09-29 12:11:13   2 days 12:02:34   \n",
       "\n",
       "     ttl_elaps_tm dwn_tm_ratio  \n",
       "0             NaT          NaN  \n",
       "1 6 days 23:34:30     0.358609  \n",
       "2 0 days 03:42:20    17.203448  \n",
       "\n",
       "[3 rows x 22 columns]"
      ]
     },
     "execution_count": 71,
     "metadata": {},
     "output_type": "execute_result"
    }
   ],
   "source": [
    "df_new['dwn_tm_ratio']=df_new['downtime']/df_new['ttl_elaps_tm']\n",
    "df_new.head(3)"
   ]
  },
  {
   "cell_type": "code",
   "execution_count": 74,
   "metadata": {},
   "outputs": [
    {
     "data": {
      "text/plain": [
       "11.720607148171718"
      ]
     },
     "execution_count": 74,
     "metadata": {},
     "output_type": "execute_result"
    }
   ],
   "source": [
    "df_new['dwn_tm_ratio'].mean()"
   ]
  },
  {
   "cell_type": "markdown",
   "metadata": {},
   "source": [
    "#### * Downtime Ratio is \"11.72\" approximately."
   ]
  },
  {
   "cell_type": "markdown",
   "metadata": {},
   "source": [
    "## # Calculating \"Average Response Time\""
   ]
  },
  {
   "cell_type": "code",
   "execution_count": 75,
   "metadata": {},
   "outputs": [],
   "source": [
    "df_new['response_time']=df_new['actual_strt_dt']-df_new['report_dt']"
   ]
  },
  {
   "cell_type": "code",
   "execution_count": 76,
   "metadata": {},
   "outputs": [
    {
     "data": {
      "text/plain": [
       "17273"
      ]
     },
     "execution_count": 76,
     "metadata": {},
     "output_type": "execute_result"
    }
   ],
   "source": [
    "df_new.response_time.nunique()"
   ]
  },
  {
   "cell_type": "code",
   "execution_count": 77,
   "metadata": {},
   "outputs": [
    {
     "data": {
      "text/plain": [
       "Timedelta('0 days 23:44:20.838650')"
      ]
     },
     "execution_count": 77,
     "metadata": {},
     "output_type": "execute_result"
    }
   ],
   "source": [
    "df_new['response_time'].mean()"
   ]
  },
  {
   "cell_type": "markdown",
   "metadata": {},
   "source": [
    "#### * Average Response Time is \"23 hrs and 44 mins\" approximately."
   ]
  },
  {
   "cell_type": "markdown",
   "metadata": {},
   "source": [
    "## # Calculating \"Uptime\""
   ]
  },
  {
   "cell_type": "code",
   "execution_count": 78,
   "metadata": {},
   "outputs": [
    {
     "data": {
      "text/html": [
       "<div>\n",
       "<style scoped>\n",
       "    .dataframe tbody tr th:only-of-type {\n",
       "        vertical-align: middle;\n",
       "    }\n",
       "\n",
       "    .dataframe tbody tr th {\n",
       "        vertical-align: top;\n",
       "    }\n",
       "\n",
       "    .dataframe thead th {\n",
       "        text-align: right;\n",
       "    }\n",
       "</style>\n",
       "<table border=\"1\" class=\"dataframe\">\n",
       "  <thead>\n",
       "    <tr style=\"text-align: right;\">\n",
       "      <th></th>\n",
       "      <th>serv_order_no</th>\n",
       "      <th>city</th>\n",
       "      <th>report_dt</th>\n",
       "      <th>actual_strt_dt</th>\n",
       "      <th>plan_fnsh_dt</th>\n",
       "      <th>actual_fnsh_dt</th>\n",
       "      <th>order_desc</th>\n",
       "      <th>asset_req</th>\n",
       "      <th>year_month</th>\n",
       "      <th>month</th>\n",
       "      <th>...</th>\n",
       "      <th>serv_contract</th>\n",
       "      <th>bill_amt</th>\n",
       "      <th>downtime</th>\n",
       "      <th>time_to_repair</th>\n",
       "      <th>prev_order_actual_fnsh_dt</th>\n",
       "      <th>mtbf</th>\n",
       "      <th>ttl_elaps_tm</th>\n",
       "      <th>dwn_tm_ratio</th>\n",
       "      <th>response_time</th>\n",
       "      <th>uptime</th>\n",
       "    </tr>\n",
       "  </thead>\n",
       "  <tbody>\n",
       "    <tr>\n",
       "      <th>0</th>\n",
       "      <td>A-1001</td>\n",
       "      <td>Sejwegca</td>\n",
       "      <td>2018-09-18 08:47:54</td>\n",
       "      <td>2018-09-19 11:48:54</td>\n",
       "      <td>2018-09-25 11:48:00</td>\n",
       "      <td>2018-09-22 12:36:43</td>\n",
       "      <td>4</td>\n",
       "      <td>1</td>\n",
       "      <td>201809</td>\n",
       "      <td>9</td>\n",
       "      <td>...</td>\n",
       "      <td>414</td>\n",
       "      <td>1405.0</td>\n",
       "      <td>4 days 03:48:49</td>\n",
       "      <td>3 days 00:47:49</td>\n",
       "      <td>NaT</td>\n",
       "      <td>NaT</td>\n",
       "      <td>NaT</td>\n",
       "      <td>NaN</td>\n",
       "      <td>1 days 03:01:00</td>\n",
       "      <td>NaT</td>\n",
       "    </tr>\n",
       "    <tr>\n",
       "      <th>1</th>\n",
       "      <td>A-1002</td>\n",
       "      <td>Kihinaezi</td>\n",
       "      <td>2018-09-27 00:05:35</td>\n",
       "      <td>2018-09-28 10:31:56</td>\n",
       "      <td>2018-10-04 10:31:00</td>\n",
       "      <td>2018-09-29 12:11:13</td>\n",
       "      <td>5</td>\n",
       "      <td>1</td>\n",
       "      <td>201809</td>\n",
       "      <td>9</td>\n",
       "      <td>...</td>\n",
       "      <td>432</td>\n",
       "      <td>1680.0</td>\n",
       "      <td>2 days 12:05:38</td>\n",
       "      <td>1 days 01:39:17</td>\n",
       "      <td>2018-09-22 12:36:43</td>\n",
       "      <td>-5 days +12:31:08</td>\n",
       "      <td>6 days 23:34:30</td>\n",
       "      <td>0.358609</td>\n",
       "      <td>1 days 10:26:21</td>\n",
       "      <td>4 days 11:28:52</td>\n",
       "    </tr>\n",
       "    <tr>\n",
       "      <th>2</th>\n",
       "      <td>A-1003</td>\n",
       "      <td>Ulroldol</td>\n",
       "      <td>2018-09-27 00:08:39</td>\n",
       "      <td>2018-09-28 10:44:03</td>\n",
       "      <td>2018-10-04 10:44:00</td>\n",
       "      <td>2018-09-29 15:53:33</td>\n",
       "      <td>3</td>\n",
       "      <td>0</td>\n",
       "      <td>201809</td>\n",
       "      <td>9</td>\n",
       "      <td>...</td>\n",
       "      <td>445</td>\n",
       "      <td>757.0</td>\n",
       "      <td>2 days 15:44:54</td>\n",
       "      <td>1 days 05:09:30</td>\n",
       "      <td>2018-09-29 12:11:13</td>\n",
       "      <td>2 days 12:02:34</td>\n",
       "      <td>0 days 03:42:20</td>\n",
       "      <td>17.203448</td>\n",
       "      <td>1 days 10:35:24</td>\n",
       "      <td>-3 days +11:57:26</td>\n",
       "    </tr>\n",
       "  </tbody>\n",
       "</table>\n",
       "<p>3 rows × 24 columns</p>\n",
       "</div>"
      ],
      "text/plain": [
       "  serv_order_no       city           report_dt      actual_strt_dt  \\\n",
       "0        A-1001   Sejwegca 2018-09-18 08:47:54 2018-09-19 11:48:54   \n",
       "1        A-1002  Kihinaezi 2018-09-27 00:05:35 2018-09-28 10:31:56   \n",
       "2        A-1003   Ulroldol 2018-09-27 00:08:39 2018-09-28 10:44:03   \n",
       "\n",
       "         plan_fnsh_dt      actual_fnsh_dt  order_desc  asset_req  year_month  \\\n",
       "0 2018-09-25 11:48:00 2018-09-22 12:36:43           4          1      201809   \n",
       "1 2018-10-04 10:31:00 2018-09-29 12:11:13           5          1      201809   \n",
       "2 2018-10-04 10:44:00 2018-09-29 15:53:33           3          0      201809   \n",
       "\n",
       "   month        ...         serv_contract  bill_amt        downtime  \\\n",
       "0      9        ...                   414    1405.0 4 days 03:48:49   \n",
       "1      9        ...                   432    1680.0 2 days 12:05:38   \n",
       "2      9        ...                   445     757.0 2 days 15:44:54   \n",
       "\n",
       "   time_to_repair  prev_order_actual_fnsh_dt              mtbf  \\\n",
       "0 3 days 00:47:49                        NaT               NaT   \n",
       "1 1 days 01:39:17        2018-09-22 12:36:43 -5 days +12:31:08   \n",
       "2 1 days 05:09:30        2018-09-29 12:11:13   2 days 12:02:34   \n",
       "\n",
       "     ttl_elaps_tm dwn_tm_ratio   response_time            uptime  \n",
       "0             NaT          NaN 1 days 03:01:00               NaT  \n",
       "1 6 days 23:34:30     0.358609 1 days 10:26:21   4 days 11:28:52  \n",
       "2 0 days 03:42:20    17.203448 1 days 10:35:24 -3 days +11:57:26  \n",
       "\n",
       "[3 rows x 24 columns]"
      ]
     },
     "execution_count": 78,
     "metadata": {},
     "output_type": "execute_result"
    }
   ],
   "source": [
    "df_new['uptime']=df_new['report_dt']-df_new['prev_order_actual_fnsh_dt']\n",
    "df_new.head(3)"
   ]
  },
  {
   "cell_type": "code",
   "execution_count": 92,
   "metadata": {},
   "outputs": [
    {
     "data": {
      "text/plain": [
       "count                       19999\n",
       "mean     -5 days +13:41:02.714835\n",
       "std        1 days 18:01:30.786275\n",
       "min             -8 days +04:59:24\n",
       "25%             -6 days +01:32:56\n",
       "50%             -5 days +13:59:17\n",
       "75%             -3 days +01:32:01\n",
       "max              37 days 02:18:41\n",
       "Name: uptime, dtype: object"
      ]
     },
     "execution_count": 92,
     "metadata": {},
     "output_type": "execute_result"
    }
   ],
   "source": [
    "df_new['uptime'].describe()"
   ]
  },
  {
   "cell_type": "markdown",
   "metadata": {},
   "source": [
    "#### * Uptime ranges from \"8 days 4 hrs and 59 mins to 37 days 2 hrs and 18 mins\" approximately."
   ]
  },
  {
   "cell_type": "markdown",
   "metadata": {},
   "source": [
    "## Results obtained from Exploratory Data Analysis (EDA)"
   ]
  },
  {
   "cell_type": "markdown",
   "metadata": {},
   "source": [
    "1. The maximum no. of orders that the customers had made were 5.(i.e. all the 5 services from the company)\n",
    "2. The customer with the highest money spent on purchases comes from \"Wizneev\" city.\n",
    "3. Top 5 cities spending highest amount of money are as below:\n",
    "    * Wizneev\t\n",
    "    * Wukpeovu\t\n",
    "    * Keefom\t\n",
    "    * Dunonoc\t\n",
    "    * Zarublic\n",
    "4. December 2018 has the maximun service orders\n",
    "5. November 2018 has neglible service orders\n",
    "6. Services on Mondays are max. whereas on Saturday they're the least.\n",
    "7. The company receives the highest number of orders at 12:00 noon and starts decreasing afterward in a day.\n",
    "8. The company receives the highest number of orders for \"Telecom\" services and least for \"Masonry\" services.\n",
    "9. Downtime ranges from \"1 day 1 hr and 29 mins to 7 days 19 hrs and 4 mins\" approximately.\n",
    "10. Mean Time To Repair is \"3 days 10 hrs and 41 mins\" approximately.\n",
    "11. Mean Time Between Failure is \"4 days 10 hrs and 18 mins\" approximately.\n",
    "12. Downtime Ratio is \"11.72\" approximately.\n",
    "13. Average Response time is 23 hrs and 44 mins.\n",
    "14. Uptime ranges from \"8 days 4 hrs and 59 mins to 37 days 2 hrs and 18 mins\" approximately.\n",
    "15. Spare parts/equipments from central office are required in approx. 49% of cases. "
   ]
  },
  {
   "cell_type": "code",
   "execution_count": null,
   "metadata": {},
   "outputs": [],
   "source": []
  }
 ],
 "metadata": {
  "kernelspec": {
   "display_name": "Python 2",
   "language": "python",
   "name": "python2"
  },
  "language_info": {
   "codemirror_mode": {
    "name": "ipython",
    "version": 2
   },
   "file_extension": ".py",
   "mimetype": "text/x-python",
   "name": "python",
   "nbconvert_exporter": "python",
   "pygments_lexer": "ipython2",
   "version": "2.7.14"
  }
 },
 "nbformat": 4,
 "nbformat_minor": 2
}
